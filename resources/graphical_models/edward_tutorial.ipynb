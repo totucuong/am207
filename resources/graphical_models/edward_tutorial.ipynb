{
 "cells": [
  {
   "cell_type": "code",
   "execution_count": 5,
   "metadata": {},
   "outputs": [],
   "source": [
    "from edward.models import Bernoulli, Beta\n",
    "import tensorflow as tf"
   ]
  },
  {
   "cell_type": "code",
   "execution_count": 6,
   "metadata": {},
   "outputs": [],
   "source": [
    "theta = Beta(1.0, 1.0)\n",
    "x = Bernoulli(probs=tf.ones(50) * theta)"
   ]
  },
  {
   "cell_type": "code",
   "execution_count": 7,
   "metadata": {},
   "outputs": [],
   "source": [
    "from edward.models import Bernoulli\n",
    "\n",
    "theta = tf.Variable(0.0)\n",
    "x = Bernoulli(probs=tf.ones(50) * tf.sigmoid(theta))"
   ]
  },
  {
   "cell_type": "code",
   "execution_count": 8,
   "metadata": {},
   "outputs": [
    {
     "data": {
      "image/png": "[encoded data removed]",
      "text/plain": [
       "<matplotlib.figure.Figure at 0x11b035c18>"
      ]
     },
     "metadata": {},
     "output_type": "display_data"
    },
    {
     "data": {
      "image/png": "[encoded data removed]",
      "text/plain": [
       "<matplotlib.figure.Figure at 0x11ba88f98>"
      ]
     },
     "metadata": {},
     "output_type": "display_data"
    }
   ],
   "source": [
    "import matplotlib.pyplot as plt\n",
    "from edward.models import DirichletProcess, Normal\n",
    "\n",
    "def plot_dirichlet_process(alpha):\n",
    "  with tf.Session() as sess:\n",
    "    dp = DirichletProcess(alpha, Normal(0.0, 1.0))\n",
    "    samples = sess.run(dp.sample(1000))\n",
    "    plt.hist(samples, bins=100, range=(-3.0, 3.0))\n",
    "    plt.title(\"DP({0}, N(0, 1))\".format(alpha))\n",
    "    plt.show()\n",
    "\n",
    "# Dirichlet process with high concentration\n",
    "plot_dirichlet_process(1.0)\n",
    "# Dirichlet process with low concentration (more spread out)\n",
    "plot_dirichlet_process(50.0)"
   ]
  },
  {
   "cell_type": "code",
   "execution_count": null,
   "metadata": {},
   "outputs": [],
   "source": []
  }
 ],
 "metadata": {
  "kernelspec": {
   "display_name": "Python 3",
   "language": "python",
   "name": "python3"
  },
  "language_info": {
   "codemirror_mode": {
    "name": "ipython",
    "version": 3
   },
   "file_extension": ".py",
   "mimetype": "text/x-python",
   "name": "python",
   "nbconvert_exporter": "python",
   "pygments_lexer": "ipython3",
   "version": "3.6.3"
  }
 },
 "nbformat": 4,
 "nbformat_minor": 2
}
