{
 "cells": [
  {
   "cell_type": "markdown",
   "metadata": {},
   "source": [
    "We introduce in this notebook **AIC for linear regression** and **Simulated Annealing**. But first we review some information theory and the $KL(p|q)$divergence.\n",
    "\n",
    "The Kl-divergence measures the average addtional amout of information required to specify the value of $X$ if instead of using the true $p(x)$ we use $q(x)$ to design an encoding scheme.\n",
    "\n",
    "$$KL(p|q) = - \\int p(x)\\ln(\\frac{q(x)}{p(x)})dx $$\n",
    "\n",
    "Using Jensen's inequality we can prove that $KL(p|q) \\geq 0$, with equality happens iff $p(x) = q(x)$\n",
    "\n",
    "The relation between information theory and the problem of learning is established by asking a question:  suppose nature has a true “population” distribution p(x). As usual I am given a sample, and make my effort learning a distribution from this sample, q(x). Our question then is: how good did i do? And what additional uncertainty did I introduce by using q\n",
    "instead of p ?\n",
    "\n",
    "This is what $KL(p|q)$ can answer. It provides us a measure how far we are from the perfect accuracy by using q."
   ]
  },
  {
   "cell_type": "markdown",
   "metadata": {},
   "source": [
    "# A simple example\n",
    "\n",
    "Consider a Bernoulli distribution with probability $p = 0.3$. The domain of this discrete distribution is $\\{0,1\\}$. Consider using another with parameter q to approximate it. You can see that the divergence is 0 for $q = 0.3$ and always higher for any other q.\n"
   ]
  },
  {
   "cell_type": "code",
   "execution_count": 35,
   "metadata": {},
   "outputs": [],
   "source": [
    "%matplotlib inline\n",
    "import numpy as np\n",
    "import matplotlib.pyplot as plt\n",
    "plt.rcParams['figure.figsize'] = (12,8)"
   ]
  },
  {
   "cell_type": "code",
   "execution_count": 36,
   "metadata": {},
   "outputs": [
    {
     "data": {
      "text/plain": [
       "<matplotlib.lines.Line2D at 0x10b8db588>"
      ]
     },
     "execution_count": 36,
     "metadata": {},
     "output_type": "execute_result"
    },
    {
     "data": {
      "image/png": "[encoded data removed]",
      "text/plain": [
       "<matplotlib.figure.Figure at 0x10ab01710>"
      ]
     },
     "metadata": {},
     "output_type": "display_data"
    }
   ],
   "source": [
    "p = 0.3\n",
    "\n",
    "def kld(p,q):\n",
    "    return p*np.log(p/q) + (1-p)*np.log((1-p)/(1-q))\n",
    "\n",
    "qs = np.linspace(0.001,0.999,100)\n",
    "plt.plot(qs, [kld(0.3, q) for q in qs])\n",
    "plt.axvline(0.3, 0, 4, color='r', alpha=0.4)"
   ]
  },
  {
   "cell_type": "markdown",
   "metadata": {},
   "source": [
    "# Maximum likelihood justification\n",
    "\n",
    "We will use $KL(p|q)$ to justify Maximum likelihood estimation. Indeed, minimizing $KL(p|q)$ is equivalent to maximize the likelihood of data. \n",
    "\n",
    "Suppose our data is generated from an unknown distribution $p(x)$ that we wish to model. We can try to approximate this distribution with $q(x|\\theta)$, controlled by ajustable parameters $\\theta$, for example a Gaussian distribution. We can determine $\\theta$ by minizing the KL divergence between $p(x)$ and $q(x|\\theta)$ with respect to $\\theta$.\n",
    "\n",
    "We cannot minimize KL divergence directly since we do not know $p(x)$. Again, sampling come to rescue. Suppose that we have a finite set of training points $x_n$, for $n = 1 \\ldots N$, drawn from $p(x)$ the using the law of large number we can approximate KL since $KL(p|q) = -E_{p}[\\ln(\\frac{q(x)}{p(x)})]$, so that $$KL(p|q) \\approx \\frac{1}{N}\\sum_{n=1}^{N}(-ln(q(x_n|\\theta)) + \\ln(p(x_n)))$$"
   ]
  },
  {
   "cell_type": "markdown",
   "metadata": {},
   "source": [
    "The scecond term is indepedent of $\\theta$. The first term is the negative log likelihood function for $\\theta$ under the distribution $q(x|\\theta)$ evaluated using the training set. Thus we see that minimizing the KL divergence is equivalent to maximizing the likelihood function."
   ]
  },
  {
   "cell_type": "markdown",
   "metadata": {},
   "source": [
    "# From Divergence to Deviance\n",
    "\n",
    "Suppose we have to models $q$ and $r$. We want to compare them by computing the difference between their respective KL-divergence compared to the true probability distribution $p$: $$KL(p|q) - KL(p|r)$$. Empirically, we can evaluate this $$KL(p|q) - KL(p|r) = \\frac{1}{N}\\sum_i\\log(\\frac{r_i}{q_i}) = \\frac{1}{N}\\log(\\frac{L_r}{L_q})$$\n",
    "\n",
    "This ratio inside the brackets on the right is the likelihood ratio and is used to test the goodness of fit."
   ]
  },
  {
   "cell_type": "markdown",
   "metadata": {},
   "source": [
    "If we define deviance $$D(q) = -2\\sum_i\\log(q)$$ then we have $$KL(p|q) - KL(p|r) = \\frac{1}{2N}(D(q) - D(r))$$"
   ]
  },
  {
   "cell_type": "markdown",
   "metadata": {},
   "source": [
    "A good-fit model should have small deviance."
   ]
  },
  {
   "cell_type": "markdown",
   "metadata": {},
   "source": [
    "The end game of any learning procedure is generalization. In the context of deviance measure, we want to estimate the out-of-sample deviance of a learning algorithm. This is done by computing the **Akake Information Criterion**: $AIC = D_{train} + 2p$, where p is the number of parameters."
   ]
  },
  {
   "cell_type": "markdown",
   "metadata": {},
   "source": [
    "# The baseball dataset\n",
    "\n",
    "    We will analyze the following dataset https://ww2.amstat.org/publications/jse/v6n2/datasets.watnik.html\n",
    "\n",
    "    Source: Baseball data from M.R. Watnik (1998), \"Pay for Play: Are\n",
    "    Baseball Salaries Based on Performance\", Journal of Statistics\n",
    "    Education, Volume 6, number 2\n",
    "    (http://www.amstat.org/publications/jse/v6n2/datasets.watnik.html)\n",
    "\n",
    "    Description: Salaries in 1992 and 27 performance statistics for 337 baseball\n",
    "    players (no pitchers) in 1991.\n",
    "\n",
    "\n",
    "    salary ($1000s)\n",
    "    average = batting average\n",
    "    obp = on base percentage\n",
    "    runs = runs scored\n",
    "    hits\n",
    "    doubles\n",
    "    triples\n",
    "    homeruns\n",
    "    rbis = runs batted in\n",
    "    walks\n",
    "    sos = strike outs\n",
    "    sbs = stolen bases\n",
    "    errors\n",
    "    freeagent (or eligible for free agency)\n",
    "    arbitration (or eligible for arbitration)\n",
    "    runsperso = runs/sos\n",
    "    hitsperso = hits/sos\n",
    "    hrsperso = homeruns/sos\n",
    "    rbisperso = rbis/sos\n",
    "    walksperso = walks/sos\n",
    "    obppererror = obp/errors\n",
    "    runspererror = runs/errors\n",
    "    hitspererror = hits/errors\n",
    "    hrspererror = homeruns/errors\n",
    "    soserrors = sos*errors\n",
    "    sbsobp = sbs*obp\n",
    "    sbsruns = sbs*runs\n",
    "    sbshits = sbs*hits"
   ]
  },
  {
   "cell_type": "markdown",
   "metadata": {},
   "source": [
    "We want to predict the player salaries from various statistics about the player. Specifically, we want to select an optimal set of features that would give us a good salary prediction. We  want to be parsimonious about these features so that we don't overfit."
   ]
  },
  {
   "cell_type": "code",
   "execution_count": 18,
   "metadata": {},
   "outputs": [],
   "source": [
    "import pandas as pd"
   ]
  },
  {
   "cell_type": "code",
   "execution_count": 37,
   "metadata": {},
   "outputs": [
    {
     "data": {
      "text/html": [
       "<div>\n",
       "<style>\n",
       "    .dataframe thead tr:only-child th {\n",
       "        text-align: right;\n",
       "    }\n",
       "\n",
       "    .dataframe thead th {\n",
       "        text-align: left;\n",
       "    }\n",
       "\n",
       "    .dataframe tbody tr th {\n",
       "        vertical-align: top;\n",
       "    }\n",
       "</style>\n",
       "<table border=\"1\" class=\"dataframe\">\n",
       "  <thead>\n",
       "    <tr style=\"text-align: right;\">\n",
       "      <th></th>\n",
       "      <th>salary</th>\n",
       "      <th>average</th>\n",
       "      <th>obp</th>\n",
       "      <th>runs</th>\n",
       "      <th>hits</th>\n",
       "      <th>doubles</th>\n",
       "      <th>triples</th>\n",
       "      <th>homeruns</th>\n",
       "      <th>rbis</th>\n",
       "      <th>walks</th>\n",
       "      <th>...</th>\n",
       "      <th>rbisperso</th>\n",
       "      <th>walksperso</th>\n",
       "      <th>obppererror</th>\n",
       "      <th>runspererror</th>\n",
       "      <th>hitspererror</th>\n",
       "      <th>hrspererror</th>\n",
       "      <th>soserrors</th>\n",
       "      <th>sbsobp</th>\n",
       "      <th>sbsruns</th>\n",
       "      <th>sbshits</th>\n",
       "    </tr>\n",
       "  </thead>\n",
       "  <tbody>\n",
       "    <tr>\n",
       "      <th>0</th>\n",
       "      <td>3300</td>\n",
       "      <td>0.272</td>\n",
       "      <td>0.302</td>\n",
       "      <td>69</td>\n",
       "      <td>153</td>\n",
       "      <td>21</td>\n",
       "      <td>4</td>\n",
       "      <td>31</td>\n",
       "      <td>104</td>\n",
       "      <td>22</td>\n",
       "      <td>...</td>\n",
       "      <td>1.3000</td>\n",
       "      <td>0.2750</td>\n",
       "      <td>0.0755</td>\n",
       "      <td>17.2500</td>\n",
       "      <td>38.2500</td>\n",
       "      <td>7.7500</td>\n",
       "      <td>320</td>\n",
       "      <td>1.208</td>\n",
       "      <td>276</td>\n",
       "      <td>612</td>\n",
       "    </tr>\n",
       "    <tr>\n",
       "      <th>1</th>\n",
       "      <td>2600</td>\n",
       "      <td>0.269</td>\n",
       "      <td>0.335</td>\n",
       "      <td>58</td>\n",
       "      <td>111</td>\n",
       "      <td>17</td>\n",
       "      <td>2</td>\n",
       "      <td>18</td>\n",
       "      <td>66</td>\n",
       "      <td>39</td>\n",
       "      <td>...</td>\n",
       "      <td>0.9565</td>\n",
       "      <td>0.5652</td>\n",
       "      <td>0.0838</td>\n",
       "      <td>14.5000</td>\n",
       "      <td>27.7500</td>\n",
       "      <td>4.5000</td>\n",
       "      <td>276</td>\n",
       "      <td>0.000</td>\n",
       "      <td>0</td>\n",
       "      <td>0</td>\n",
       "    </tr>\n",
       "    <tr>\n",
       "      <th>2</th>\n",
       "      <td>2500</td>\n",
       "      <td>0.249</td>\n",
       "      <td>0.337</td>\n",
       "      <td>54</td>\n",
       "      <td>115</td>\n",
       "      <td>15</td>\n",
       "      <td>1</td>\n",
       "      <td>17</td>\n",
       "      <td>73</td>\n",
       "      <td>63</td>\n",
       "      <td>...</td>\n",
       "      <td>0.6293</td>\n",
       "      <td>0.5431</td>\n",
       "      <td>0.0562</td>\n",
       "      <td>9.0000</td>\n",
       "      <td>19.1667</td>\n",
       "      <td>2.8333</td>\n",
       "      <td>696</td>\n",
       "      <td>2.022</td>\n",
       "      <td>324</td>\n",
       "      <td>690</td>\n",
       "    </tr>\n",
       "    <tr>\n",
       "      <th>3</th>\n",
       "      <td>2475</td>\n",
       "      <td>0.260</td>\n",
       "      <td>0.292</td>\n",
       "      <td>59</td>\n",
       "      <td>128</td>\n",
       "      <td>22</td>\n",
       "      <td>7</td>\n",
       "      <td>12</td>\n",
       "      <td>50</td>\n",
       "      <td>23</td>\n",
       "      <td>...</td>\n",
       "      <td>0.7812</td>\n",
       "      <td>0.3594</td>\n",
       "      <td>0.0133</td>\n",
       "      <td>2.6818</td>\n",
       "      <td>5.8182</td>\n",
       "      <td>0.5455</td>\n",
       "      <td>1408</td>\n",
       "      <td>6.132</td>\n",
       "      <td>1239</td>\n",
       "      <td>2688</td>\n",
       "    </tr>\n",
       "    <tr>\n",
       "      <th>4</th>\n",
       "      <td>2313</td>\n",
       "      <td>0.273</td>\n",
       "      <td>0.346</td>\n",
       "      <td>87</td>\n",
       "      <td>169</td>\n",
       "      <td>28</td>\n",
       "      <td>5</td>\n",
       "      <td>8</td>\n",
       "      <td>58</td>\n",
       "      <td>70</td>\n",
       "      <td>...</td>\n",
       "      <td>1.0943</td>\n",
       "      <td>1.3208</td>\n",
       "      <td>0.0384</td>\n",
       "      <td>9.6667</td>\n",
       "      <td>18.7778</td>\n",
       "      <td>0.8889</td>\n",
       "      <td>477</td>\n",
       "      <td>1.038</td>\n",
       "      <td>261</td>\n",
       "      <td>507</td>\n",
       "    </tr>\n",
       "  </tbody>\n",
       "</table>\n",
       "<p>5 rows × 28 columns</p>\n",
       "</div>"
      ],
      "text/plain": [
       "   salary  average    obp  runs  hits  doubles  triples  homeruns  rbis  \\\n",
       "0    3300    0.272  0.302    69   153       21        4        31   104   \n",
       "1    2600    0.269  0.335    58   111       17        2        18    66   \n",
       "2    2500    0.249  0.337    54   115       15        1        17    73   \n",
       "3    2475    0.260  0.292    59   128       22        7        12    50   \n",
       "4    2313    0.273  0.346    87   169       28        5         8    58   \n",
       "\n",
       "   walks   ...     rbisperso  walksperso  obppererror  runspererror  \\\n",
       "0     22   ...        1.3000      0.2750       0.0755       17.2500   \n",
       "1     39   ...        0.9565      0.5652       0.0838       14.5000   \n",
       "2     63   ...        0.6293      0.5431       0.0562        9.0000   \n",
       "3     23   ...        0.7812      0.3594       0.0133        2.6818   \n",
       "4     70   ...        1.0943      1.3208       0.0384        9.6667   \n",
       "\n",
       "   hitspererror  hrspererror  soserrors  sbsobp  sbsruns  sbshits  \n",
       "0       38.2500       7.7500        320   1.208      276      612  \n",
       "1       27.7500       4.5000        276   0.000        0        0  \n",
       "2       19.1667       2.8333        696   2.022      324      690  \n",
       "3        5.8182       0.5455       1408   6.132     1239     2688  \n",
       "4       18.7778       0.8889        477   1.038      261      507  \n",
       "\n",
       "[5 rows x 28 columns]"
      ]
     },
     "execution_count": 37,
     "metadata": {},
     "output_type": "execute_result"
    }
   ],
   "source": [
    "baseball = pd.read_table('../data/baseball.dat', sep='\\s+')\n",
    "baseball.head()"
   ]
  },
  {
   "cell_type": "code",
   "execution_count": 38,
   "metadata": {},
   "outputs": [
    {
     "data": {
      "text/plain": [
       "<matplotlib.axes._subplots.AxesSubplot at 0x10a924588>"
      ]
     },
     "execution_count": 38,
     "metadata": {},
     "output_type": "execute_result"
    },
    {
     "data": {
      "image/png": "[encoded data removed]",
      "text/plain": [
       "<matplotlib.figure.Figure at 0x10b952198>"
      ]
     },
     "metadata": {},
     "output_type": "display_data"
    }
   ],
   "source": [
    "baseball.salary.hist(bins=30)"
   ]
  },
  {
   "cell_type": "code",
   "execution_count": 39,
   "metadata": {},
   "outputs": [
    {
     "data": {
      "image/png": "[encoded data removed]",
      "text/plain": [
       "<matplotlib.figure.Figure at 0x10b7039b0>"
      ]
     },
     "metadata": {},
     "output_type": "display_data"
    }
   ],
   "source": [
    "baseball.salary.hist(bins=30)\n",
    "plt.yscale('log')"
   ]
  },
  {
   "cell_type": "markdown",
   "metadata": {},
   "source": [
    "Since the salaries are highly skewed, a log transform on the salaries is a good idea"
   ]
  },
  {
   "cell_type": "code",
   "execution_count": 48,
   "metadata": {},
   "outputs": [],
   "source": [
    "predictors = baseball.copy()\n",
    "logsalary = predictors.pop('salary').apply(np.log)\n",
    "nrows, ncols = predictors.shape"
   ]
  },
  {
   "cell_type": "code",
   "execution_count": 52,
   "metadata": {},
   "outputs": [
    {
     "data": {
      "image/png": "[encoded data removed]",
      "text/plain": [
       "<matplotlib.figure.Figure at 0x10b918550>"
      ]
     },
     "metadata": {},
     "output_type": "display_data"
    }
   ],
   "source": [
    "plt.hist(logsalary, bins=30);"
   ]
  },
  {
   "cell_type": "markdown",
   "metadata": {},
   "source": [
    "# AIC for linear regression\n",
    "\n",
    "The AIC for a model the training deviance plus twice the number of parameters. $AIC = D_{train} + 2p$ where the deeviance is defined as: $$D(q) = -2\\sum_i\\log(q_i)$$\n",
    "\n",
    "Thus \n",
    "\n",
    "$$AIC = N\\log(\\frac{SSE}{N}) + 2p + constant$$\n",
    "\n",
    "SSE is the sum of squares of the errors which follows a normal distribution."
   ]
  },
  {
   "cell_type": "code",
   "execution_count": 55,
   "metadata": {},
   "outputs": [],
   "source": [
    "from sklearn.linear_model import LinearRegression\n",
    "aic = lambda g, X, y: len(y) * np.log(sum((g.predict(X) - y)**2)/len(y)) + 2*g.rank_"
   ]
  },
  {
   "cell_type": "markdown",
   "metadata": {},
   "source": [
    "# Using AIC to search for good features"
   ]
  },
  {
   "cell_type": "code",
   "execution_count": 60,
   "metadata": {},
   "outputs": [
    {
     "data": {
      "text/plain": [
       "array([[False, False, False,  True, False,  True,  True,  True,  True,\n",
       "        False,  True, False,  True,  True, False, False, False,  True,\n",
       "        False, False, False,  True,  True,  True,  True,  True,  True],\n",
       "       [ True, False, False, False,  True, False,  True, False, False,\n",
       "        False,  True,  True,  True, False, False,  True,  True,  True,\n",
       "         True, False, False, False,  True,  True,  True,  True, False],\n",
       "       [ True,  True,  True, False, False,  True, False, False, False,\n",
       "         True,  True,  True, False, False, False, False,  True,  True,\n",
       "        False,  True,  True,  True, False, False, False, False,  True],\n",
       "       [False, False,  True, False, False,  True, False, False,  True,\n",
       "         True, False, False,  True,  True, False,  True,  True, False,\n",
       "        False,  True,  True, False, False, False, False, False, False],\n",
       "       [ True, False, False,  True,  True, False,  True,  True, False,\n",
       "        False,  True,  True, False, False,  True, False,  True, False,\n",
       "        False, False,  True,  True,  True, False,  True, False,  True]])"
      ]
     },
     "execution_count": 60,
     "metadata": {},
     "output_type": "execute_result"
    }
   ],
   "source": [
    "nstarts = 5\n",
    "iterations = 15\n",
    "runs = np.random.binomial(1, 0.5, ncols*nstarts).reshape((nstarts,ncols)).astype(bool)\n",
    "runs"
   ]
  },
  {
   "cell_type": "markdown",
   "metadata": {},
   "source": [
    "Here is our algorithm.\n",
    "1. For each start,for each iteration\n",
    "with our initial predictors we fit for the regression and calculate the aic\n",
    "2. we now get the 1-change neighborhhod by:\n",
    "    - systematically flipping each column and calculating the aic\n",
    "    - find the minimum aic for the process and record the predictors\n",
    "3. go to A and repeat for the latest predictors\n",
    "4. record the solution for this starting point and go to 1."
   ]
  },
  {
   "cell_type": "code",
   "execution_count": 61,
   "metadata": {},
   "outputs": [
    {
     "name": "stderr",
     "output_type": "stream",
     "text": [
      "/usr/local/lib/python3.6/site-packages/scipy/linalg/basic.py:1226: RuntimeWarning: internal gelsd driver lwork query error, required iwork dimension not returned. This is likely the result of LAPACK bug 0038, fixed in LAPACK 3.2.2 (released July 21, 2010). Falling back to 'gelss' driver.\n",
      "  warnings.warn(mesg, RuntimeWarning)\n"
     ]
    }
   ],
   "source": [
    "from sklearn.linear_model import LinearRegression\n",
    "\n",
    "runs_aic = np.empty((nstarts, iterations))\n",
    "\n",
    "for i in range(nstarts):\n",
    "    \n",
    "    run_current = runs[i]\n",
    "    \n",
    "    for j in range(iterations):\n",
    "        \n",
    "        # Extract current set of predictors\n",
    "        run_vars = predictors[predictors.columns[run_current]]\n",
    "        g = LinearRegression().fit(X=run_vars, y=logsalary)\n",
    "        run_aic = aic(g, run_vars, logsalary)\n",
    "        run_next = run_current\n",
    "        \n",
    "        # Test all models in 1-neighborhood and select lowest AIC\n",
    "        for k in range(ncols):\n",
    "            run_step = run_current.copy()\n",
    "            run_step[k] = not run_current[k]\n",
    "            run_vars = predictors[predictors.columns[run_step]]\n",
    "            g = LinearRegression().fit(X=run_vars, y=logsalary)\n",
    "            step_aic = aic(g, run_vars, logsalary)\n",
    "            if step_aic < run_aic:\n",
    "                run_next = run_step.copy()\n",
    "                run_aic = step_aic\n",
    "            \n",
    "        run_current = run_next.copy()\n",
    "        runs_aic[i,j] = run_aic\n",
    "        \n",
    "    runs[i] = run_current"
   ]
  },
  {
   "cell_type": "code",
   "execution_count": 62,
   "metadata": {},
   "outputs": [
    {
     "data": {
      "text/plain": [
       "array([[False, False,  True, False, False,  True, False,  True, False,\n",
       "         True, False, False,  True,  True,  True, False, False, False,\n",
       "        False,  True,  True,  True, False, False,  True,  True, False],\n",
       "       [ True, False,  True, False, False, False, False,  True, False,\n",
       "         True, False, False,  True,  True,  True,  True, False, False,\n",
       "        False, False, False, False, False,  True,  True,  True, False],\n",
       "       [False, False,  True, False, False,  True, False,  True, False,\n",
       "         True, False,  True,  True,  True, False, False, False, False,\n",
       "        False,  True,  True,  True, False, False, False, False, False],\n",
       "       [False, False,  True, False, False, False, False,  True, False,\n",
       "         True, False,  True,  True,  True,  True,  True, False, False,\n",
       "        False,  True, False,  True, False, False, False, False, False],\n",
       "       [ True, False,  True, False, False, False, False,  True, False,\n",
       "         True, False,  True,  True,  True,  True,  True, False, False,\n",
       "        False, False, False, False, False, False,  True, False,  True]])"
      ]
     },
     "execution_count": 62,
     "metadata": {},
     "output_type": "execute_result"
    }
   ],
   "source": [
    "runs"
   ]
  },
  {
   "cell_type": "code",
   "execution_count": 63,
   "metadata": {},
   "outputs": [
    {
     "data": {
      "text/plain": [
       "(-430, -380)"
      ]
     },
     "execution_count": 63,
     "metadata": {},
     "output_type": "execute_result"
    },
    {
     "data": {
      "image/png": "[encoded data removed]",
      "text/plain": [
       "<matplotlib.figure.Figure at 0x10b4d7da0>"
      ]
     },
     "metadata": {},
     "output_type": "display_data"
    }
   ],
   "source": [
    "pd.DataFrame(runs_aic).T.plot(grid=False)\n",
    "plt.xlabel('iteration')\n",
    "plt.ylim([-430, -380])\n"
   ]
  },
  {
   "cell_type": "code",
   "execution_count": 64,
   "metadata": {},
   "outputs": [
    {
     "name": "stdout",
     "output_type": "stream",
     "text": [
      "0 -418.50685611497227\n",
      "1 -420.45106190483517\n",
      "2 -418.6030198380479\n",
      "3 -418.1566577724648\n",
      "4 -418.523655509027\n"
     ]
    }
   ],
   "source": [
    "for i in range(5):\n",
    "    print(i, np.min(runs_aic[i]))"
   ]
  },
  {
   "cell_type": "markdown",
   "metadata": {},
   "source": [
    "To see which features are really important, see how many of the 5 starts solutions do they appear in…"
   ]
  },
  {
   "cell_type": "code",
   "execution_count": 66,
   "metadata": {},
   "outputs": [
    {
     "data": {
      "text/plain": [
       "arbitration     5\n",
       "runs            5\n",
       "rbis            5\n",
       "sos             5\n",
       "freeagent       5\n",
       "runsperso       4\n",
       "sbsobp          3\n",
       "hitspererror    3\n",
       "obppererror     3\n",
       "errors          3\n",
       "hitsperso       3\n",
       "sbsruns         2\n",
       "triples         2\n",
       "average         2\n",
       "runspererror    2\n",
       "soserrors       1\n",
       "sbshits         1\n",
       "hrsperso        0\n",
       "rbisperso       0\n",
       "sbs             0\n",
       "walksperso      0\n",
       "walks           0\n",
       "homeruns        0\n",
       "hrspererror     0\n",
       "doubles         0\n",
       "hits            0\n",
       "obp             0\n",
       "dtype: int64"
      ]
     },
     "execution_count": 66,
     "metadata": {},
     "output_type": "execute_result"
    }
   ],
   "source": [
    "pd.Series(runs.sum(0), index=predictors.columns).sort_values(ascending=False)\n"
   ]
  },
  {
   "cell_type": "markdown",
   "metadata": {},
   "source": [
    "And we can also query what the use of features in the final solutions was…\n"
   ]
  },
  {
   "cell_type": "code",
   "execution_count": 67,
   "metadata": {},
   "outputs": [
    {
     "name": "stdout",
     "output_type": "stream",
     "text": [
      "(array([ 2,  5,  7,  9, 12, 13, 14, 19, 20, 21, 24, 25]),)\n",
      "(array([ 0,  2,  7,  9, 12, 13, 14, 15, 23, 24, 25]),)\n",
      "(array([ 2,  5,  7,  9, 11, 12, 13, 19, 20, 21]),)\n",
      "(array([ 2,  7,  9, 11, 12, 13, 14, 15, 19, 21]),)\n",
      "(array([ 0,  2,  7,  9, 11, 12, 13, 14, 15, 24, 26]),)\n"
     ]
    }
   ],
   "source": [
    "for i in range(nstarts):\n",
    "    print(np.where(runs[i]==True))\n"
   ]
  },
  {
   "cell_type": "code",
   "execution_count": null,
   "metadata": {},
   "outputs": [],
   "source": []
  }
 ],
 "metadata": {
  "kernelspec": {
   "display_name": "Python 3",
   "language": "python",
   "name": "python3"
  },
  "language_info": {
   "codemirror_mode": {
    "name": "ipython",
    "version": 3
   },
   "file_extension": ".py",
   "mimetype": "text/x-python",
   "name": "python",
   "nbconvert_exporter": "python",
   "pygments_lexer": "ipython3",
   "version": "3.6.3"
  }
 },
 "nbformat": 4,
 "nbformat_minor": 2
}
