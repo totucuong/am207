{
 "cells": [
  {
   "cell_type": "markdown",
   "metadata": {},
   "source": [
    "# Mixture Models, and types of learning\n",
    "\n",
    "##### Keywords: generative model, supervised learning, semi-supervised learning, unsupervised learning, mixture model, gaussian mixture model, latent variables"
   ]
  },
  {
   "cell_type": "code",
   "execution_count": 1,
   "metadata": {},
   "outputs": [
    {
     "name": "stderr",
     "output_type": "stream",
     "text": [
      "//anaconda/envs/py35/lib/python3.5/site-packages/matplotlib/__init__.py:872: UserWarning: axes.color_cycle is deprecated and replaced with axes.prop_cycle; please use the latter.\n",
      "  warnings.warn(self.msg_depr % (key, alt_key))\n"
     ]
    }
   ],
   "source": [
    "%matplotlib inline\n",
    "import numpy as np\n",
    "import scipy as sp\n",
    "import matplotlib.pyplot as plt\n",
    "import pandas as pd\n",
    "pd.set_option('display.width', 500)\n",
    "pd.set_option('display.max_columns', 100)\n",
    "import seaborn as sns\n",
    "from IPython.display import Image"
   ]
  },
  {
   "cell_type": "markdown",
   "metadata": {},
   "source": [
    "$$\\newcommand{\\isum}{\\sum_{i}}$$\n",
    "$$\\newcommand{\\zsum}{\\sum_{k=1}^{K}}$$\n",
    "$$\\newcommand{\\zsumi}{\\sum_{\\{z_i\\}}}$$"
   ]
  },
  {
   "cell_type": "markdown",
   "metadata": {},
   "source": [
    "## Mixture models\n",
    "\n",
    "It is common to assume that observations are correlated due to some common “cause”. Hierarchical bayesian models are an example where we assume that information flows between observations through a tied-together set of higher level hyper-parameters. \n",
    "\n",
    "We can also construct models with 'hidden' or 'augmented' variables, also known as latent variable models, which may or may not correlate with a cause. Since such models often have fewer parameters than observations, they are useful in modelling many problems.\n",
    "\n",
    "An example of a hidden model is the mixture model. A distribution $p(x \\vert \\{\\theta_{k}\\})$ is a mixture of $K$ component distributions $p_1, p_2,... p_K$ if:\n",
    "\n",
    "$$p(x \\vert \\{\\theta_{k}\\}) = \\sum_k \\lambda_k p_{k}(x \\vert \\theta_k)$$\n",
    "\n",
    "with the $\\lambda_k$ being mixing weights, $\\lambda_k > 0$, $\\zsum \\lambda_k = 1$.\n",
    "\n",
    "The $p_k$'s can be completely arbitrary, but we usually assume they are from the same family, like Gaussians with different centers and variances, or Poissons with different means.\n",
    "\n",
    "We have already seen an example of this with the zero-inflated poisson distribution where\n",
    "\n",
    "the likelihood of observing 0 is:\n",
    "\n",
    " $$\\cal{L}(y=0) = p + (1-p) e^{-\\lambda},$$\n",
    "\n",
    "and the Likelihood of a non-zero $y$ is:\n",
    "\n",
    " $$\\cal{L}(y \\ne 0) = (1-p) \\frac{\\lambda^y e^{-\\lambda}}{y!}$$\n",
    "\n",
    "This model can be described by this diagram, taken from Mc-Elreath\n",
    "\n",
    "![](images/zinfmonks.png)\n",
    "\n",
    "The way to generate a new observation from such a distribution thus would be the following:\n",
    "\n",
    "$$Z \\sim Categorical(\\lambda_1,\\lambda_2,...,\\lambda_K)$$\n",
    "\n",
    "where $Z$ says which component X is drawn from (we could write this $Z \\sim Categorical(\\bar{\\lambda})$). Thus $\\lambda_j$ is the probability that the hidden class variable $z$ is $j$. Then:\n",
    "\n",
    "$$X \\sim p_{z}(x \\vert \\theta_z)$$\n",
    "\n",
    "\n",
    "Thus we can see the general structure above:\n",
    "\n",
    "$$p(x  \\vert  \\theta) = \\sum_z p(z)p(x  \\vert  z, \\theta)$$\n",
    "\n",
    "where $\\theta = \\{ \\theta_k \\}$ is the collection of distribution parameters."
   ]
  },
  {
   "cell_type": "markdown",
   "metadata": {},
   "source": [
    "Whats going on? Pick a bitmask according to the Categorical (the analog of the bernoulli, a multinomial with n=1). Where you find the 1, thats the distribution from which you make a draw."
   ]
  },
  {
   "cell_type": "code",
   "execution_count": 12,
   "metadata": {},
   "outputs": [
    {
     "data": {
      "text/plain": [
       "array([[1, 0, 0],\n",
       "       [0, 0, 1],\n",
       "       [0, 0, 1],\n",
       "       [1, 0, 0],\n",
       "       [1, 0, 0],\n",
       "       [1, 0, 0],\n",
       "       [0, 1, 0],\n",
       "       [1, 0, 0],\n",
       "       [1, 0, 0],\n",
       "       [1, 0, 0]])"
      ]
     },
     "execution_count": 12,
     "metadata": {},
     "output_type": "execute_result"
    }
   ],
   "source": [
    "from scipy.stats import multinomial\n",
    "multinomial.rvs(1,[0.6,0.1, 0.3], size=10)"
   ]
  },
  {
   "cell_type": "markdown",
   "metadata": {},
   "source": [
    "## Gaussian Mixture Models\n",
    "\n",
    "The Gaussian mixture model or GMM is the most widely used mixture distribution. In this model, each base distribution  is a multivariate Gaussian with mean $\\mu_k$ and covariance matrix $\\Sigma_k$. Thus the model has the form\n",
    "\n",
    "$$p(x \\vert  \\{\\theta_{k}\\}) = \\zsum \\lambda_k N(x \\vert \\mu_k , \\Sigma_k ) $$\n",
    "\n",
    "Thus each mixture component can be thought of as represented by a different set of eliptical contours, and we add these to create our overall density."
   ]
  },
  {
   "cell_type": "code",
   "execution_count": 57,
   "metadata": {},
   "outputs": [],
   "source": [
    "#In 1-D\n",
    "# True parameter values\n",
    "mu_true = np.array([2, 5, 10])\n",
    "sigma_true = np.array([0.6, 0.8, 0.5])\n",
    "lambda_true = np.array([.4, .2, .4])\n",
    "n = 10000\n",
    "\n",
    "# Simulate from each distribution according to mixing proportion lambda\n",
    "z = multinomial.rvs(1, lambda_true, size=n)"
   ]
  },
  {
   "cell_type": "code",
   "execution_count": 58,
   "metadata": {},
   "outputs": [],
   "source": [
    "x=np.array([np.random.normal(mu_true[i.astype('bool')][0], sigma_true[i.astype('bool')][0]) for i in z])"
   ]
  },
  {
   "cell_type": "code",
   "execution_count": 59,
   "metadata": {},
   "outputs": [
    {
     "name": "stderr",
     "output_type": "stream",
     "text": [
      "//anaconda/envs/py35/lib/python3.5/site-packages/statsmodels/nonparametric/kdetools.py:20: VisibleDeprecationWarning: using a non-integer number instead of an integer will result in an error in the future\n",
      "  y = X[:m/2+1] + np.r_[0,X[m/2+1:],0]*1j\n"
     ]
    },
    {
     "data": {
      "image/png": "[encoded data removed]",
      "text/plain": [
       "<matplotlib.figure.Figure at 0x11e1e20f0>"
      ]
     },
     "metadata": {},
     "output_type": "display_data"
    }
   ],
   "source": [
    "sns.distplot(x, bins=100);"
   ]
  },
  {
   "cell_type": "markdown",
   "metadata": {},
   "source": [
    "## Supervised learning\n",
    "\n",
    "In supervised learning, we have some training data of $N$ data points, each with $m$ features. The big idea is that on the training set, we have **a label associated with each data point**. Here the label is $z$.\n",
    "\n",
    "For a feature vector x, we use Bayes rule to express the posterior of the class-conditional as:\n",
    "\n",
    "$$p(z = c \\vert x, \\theta) = \\frac{p(z = c  \\vert  \\theta)p(x  \\vert  z = c, \\theta)}{ \\sum_{c′} p(z = c′  \\vert  \\theta) p(x  \\vert  z = c′, \\theta)}$$\n",
    "\n",
    "This is a **generative classifier**, since it specifies how to generate the data using the class-conditional density $p(x \\vert z = c, \\theta)$ and the class prior $p(z = c\\vert \\theta)$. \n",
    "\n",
    "Notice that even though we are talking about priors and posteriors here, I am carrying along $\\theta$. This is because the models here are just probabilistic models, and we havent chosen a frequentist or bayesian modelling paradigm yet. We are just specifying the model, and the priors and posteriors we are talking about  here are simply those from bayes theorem.\n",
    "\n",
    "An alternative approach is to directly fit the class posterior, $p(z = c \\vert x, \\theta)$; this is known as a **discriminative classifier**. For example, a Gaussian Mixture model or Naive bayes is a generative classifier whose discriminative counterpart is the logistic regression.\n",
    "\n",
    "**The supervised learning case is the one in which where hidden variables $z$ are known on the training set**. So the supervized case is one in which the model is not a hidden variables model at all."
   ]
  },
  {
   "cell_type": "markdown",
   "metadata": {},
   "source": [
    "### Gaussian Discriminant Analysis\n",
    "\n",
    "Suppose we have input data \n",
    "$x$ that are continuous-valued random variables, and $z$ labels.  We call  $p(x,z \\vert \\theta)$ the **full-data likelihood**. Since we have both $z$ and $x$ on our training set, this is the likelihood we will want to maximize.\n",
    "\n",
    "Let us see how to obtain it.\n",
    "\n",
    "Our model is (limiting ourselves to two gaussians for simplicity):\n",
    "\n",
    "$$ Z \\sim \\rm{Bernoulli}(\\lambda) $$\n",
    "$$ X \\vert z=0 \\sim {\\cal N}(\\mu_0, \\Sigma_0) $$\n",
    "$$ X \\vert z=1 \\sim {\\cal N}(\\mu_1, \\Sigma_1) $$\n",
    "\n",
    "The distributions in details are\n",
    "$$ p(z) = \\lambda^z (1-\\lambda)^{1-z}$$\n",
    "$$ p(x \\vert z=0) = \\frac{1}{(2\\pi)^{n/2}  \\vert  \\Sigma \\vert ^{1/2}} \\exp \\left( -\\frac{1}{2}(x-\\mu_0)^T \\,\\Sigma_0^{-1}(x-\\mu_0) \\right) $$\n",
    "$$ p(x \\vert z=1) = \\frac{1}{(2\\pi)^{n/2}  \\vert  \\Sigma \\vert ^{1/2}} \\exp \\left( -\\frac{1}{2}(x-\\mu_1)^T \\,\\Sigma_1^{-1}(x-\\mu_1) \\right) $$\n",
    "\n",
    "\n",
    "where the parameters of the model $\\lambda$, $\\Sigma_0$, $\\Sigma_1$, $\\mu_0$ and $\\mu_1$ are to be determined. \n",
    "From here on, for simplicity of exposition we will use one covariance matrix for both Gaussians, $\\Sigma$. This is called tieing the covariances and leads to a model in the literature called Linear Discriminant Analysis. \n",
    "\n",
    "\n",
    "The full-data log-likelihood of the data is given \n",
    "\n",
    "$$\n",
    "\\begin{eqnarray}\n",
    " l(x,z \\vert  \\lambda,\\mu_0, \\mu_1, \\Sigma) &=& \\log \\prod_{i=1}^{m} p(x_i,z_i \\vert  \\lambda, \\mu_0, \\mu_1, \\Sigma) \\nonumber \\\\ \n",
    "          &=& \\sum_{i=1}^{m} \\log \\left[p(x_i \\vert z_i,  \\mu_0, \\mu_1, \\Sigma) \\,p(z_i \\vert  \\lambda) \\right]  \\nonumber \\\\ \n",
    "          &=& \\sum_{i=1}^{m} \\log p(x_i \\vert z_i,  \\mu_0, \\mu_1, \\Sigma) + \\sum_{i=1}^{m}  \\log p(z_i \\vert  \\lambda)   \\nonumber   \\\\      \n",
    "\t&=&  -\\sum_{i=1}^{m} \\log ((2\\pi)^{n/2}  \\vert  \\Sigma \\vert ^{1/2}) - \\frac{1}{2} \\sum_{i=1}^{m}  (x-\\mu_{z_i})^T \\,\\Sigma^{-1}(x-\\mu_{z_i})   \\nonumber \\\\ \n",
    "\t\t& & \\quad \\quad +\\sum_{i=1}^{m} \\left[ z_i \\, \\log \\lambda + (1-z_i) \\log(1-\\lambda) \\right]\n",
    "\\end{eqnarray}\n",
    "$$\n",
    "\n",
    "\n",
    "Taking derivatives with respect to  $\\lambda$, $\\Sigma$, $\\mu_0$ and $\\mu_1$ and setting them to zero we get \n",
    "\n",
    "$$\n",
    "\\begin{eqnarray}\n",
    "   \\lambda & = &\\frac{1}{m}  \\sum_{i=1}^{m}  \\delta_{z_i,1} \\nonumber  \\\\ \n",
    "   \\mu_0 &=& \\frac{ \\sum_{i=1}^{m}  \\delta_{z_i,0} \\, x_i  }{ \\sum_{i=1}^{m}   \\delta_{z_i,0}}\\nonumber  \\\\ \n",
    "    \\mu_1 &=& \\frac{ \\sum_{i=1}^{m}  \\delta_{z_i,1} \\, x_i  }{ \\sum_{i=1}^{m}   \\delta_{z_i,1}}\\nonumber  \\\\ \n",
    " \\Sigma &=&\\frac{1}{m}   \\sum_{i=1}^{m}  (x_i-\\mu_{z_i})   (x_i-\\mu_{z_i})^{T} \n",
    "\\end{eqnarray}\n",
    "$$\n",
    "\n",
    "This gives us the obvious result, namely $\\lambda$ is nothing more but the fraction of objects with label $z=1$ and the total \n",
    "number of objects, $\\mu$'s are the mean within the class and $\\Sigma$ is the the covariance matrix \n",
    "for each group. This analysis is called \"Gaussian Discriminant Analysis\" or GDA, here specifically LDA as we tied the covariance matrices.\n",
    "\n",
    "Lets do this in code. First we simulate some data:"
   ]
  },
  {
   "cell_type": "code",
   "execution_count": 66,
   "metadata": {},
   "outputs": [
    {
     "name": "stderr",
     "output_type": "stream",
     "text": [
      "//anaconda/envs/py35/lib/python3.5/site-packages/statsmodels/nonparametric/kdetools.py:20: VisibleDeprecationWarning: using a non-integer number instead of an integer will result in an error in the future\n",
      "  y = X[:m/2+1] + np.r_[0,X[m/2+1:],0]*1j\n"
     ]
    },
    {
     "data": {
      "image/png": "[encoded data removed]",
      "text/plain": [
       "<matplotlib.figure.Figure at 0x11e35c4a8>"
      ]
     },
     "metadata": {},
     "output_type": "display_data"
    }
   ],
   "source": [
    "#In 1-D\n",
    "# True parameter values\n",
    "mu_true = np.array([2, 5])\n",
    "sigma_true = np.array([0.6, 0.6])\n",
    "lambda_true = np.array([.4, .6])\n",
    "n = 10000\n",
    "\n",
    "# Simulate from each distribution according to mixing proportion lambda_true\n",
    "from scipy.stats import binom\n",
    "z = binom.rvs(1, lambda_true[0], size=n)\n",
    "x=np.array([np.random.normal(mu_true[i], sigma_true[i]) for i in z])\n",
    "sns.distplot(x, bins=100);"
   ]
  },
  {
   "cell_type": "markdown",
   "metadata": {},
   "source": [
    "Now we split into a training set and a test set."
   ]
  },
  {
   "cell_type": "code",
   "execution_count": 67,
   "metadata": {},
   "outputs": [],
   "source": [
    "#the z's are the classes in the supervised learning\n",
    "#the 'feature' is the x position of the sample\n",
    "from sklearn.cross_validation import train_test_split\n",
    "ztrain, ztest, xtrain, xtest = train_test_split(z,x)"
   ]
  },
  {
   "cell_type": "code",
   "execution_count": 68,
   "metadata": {},
   "outputs": [
    {
     "data": {
      "text/plain": [
       "((7500,), (7500,))"
      ]
     },
     "execution_count": 68,
     "metadata": {},
     "output_type": "execute_result"
    }
   ],
   "source": [
    "ztrain.shape, xtrain.shape"
   ]
  },
  {
   "cell_type": "code",
   "execution_count": 69,
   "metadata": {},
   "outputs": [
    {
     "data": {
      "image/png": "[encoded data removed]",
      "text/plain": [
       "<matplotlib.figure.Figure at 0x11e3eeef0>"
      ]
     },
     "metadata": {},
     "output_type": "display_data"
    }
   ],
   "source": [
    "plt.hist(xtrain);"
   ]
  },
  {
   "cell_type": "code",
   "execution_count": 70,
   "metadata": {},
   "outputs": [
    {
     "name": "stdout",
     "output_type": "stream",
     "text": [
      "0.413066666667 2.0170127531 4.99505327515 0.594730451055\n"
     ]
    }
   ],
   "source": [
    "lambda_train=np.mean(ztrain)\n",
    "mu0_train = np.sum(xtrain[ztrain==0])/(np.sum(ztrain==0))\n",
    "mu1_train = np.sum(xtrain[ztrain==1])/(np.sum(ztrain==1))\n",
    "xmus=np.array([mu0_train if z==0 else mu1_train for z in ztrain])\n",
    "xdiffs = xtrain - xmus\n",
    "sigma_train=np.sqrt(np.dot(xdiffs, xdiffs)/xtrain.shape[0])\n",
    "print(lambda_train, mu0_train, mu1_train, sigma_train)"
   ]
  },
  {
   "cell_type": "markdown",
   "metadata": {},
   "source": [
    "We can use the log likelihood at a given `x` as a classifier: assign the class '0' or '1' depending upon which probability $p(x_j \\vert \\lambda, z, \\Sigma)$ is larger. Note that this is JUST the $x$ likelihood, because we want to compare probabilities for fixed $z$s.\n",
    "\n",
    "$$log\\,p(x_j \\vert \\lambda, z, \\Sigma) = -\\sum_{i=1}^{m} \\log ((2\\pi)^{n/2}  \\vert  \\Sigma \\vert ^{1/2}) - \\frac{1}{2} \\sum_{i=1}^{m}  (x-\\mu_{z_i})^T \\,\\Sigma^{-1}(x-\\mu_{z_i})  $$\n",
    "\n",
    "The first term of the likelihood does not matter since it is independent of $z$, therefore:"
   ]
  },
  {
   "cell_type": "code",
   "execution_count": 71,
   "metadata": {},
   "outputs": [],
   "source": [
    "def loglikdiff(x):\n",
    "    for0= - (x-mu0_train)*(x-mu0_train)/(2.0*sigma_train*sigma_train) \n",
    "    for0 = for0 + np.log(1.-lambda_train)\n",
    "    for1 = - (x-mu1_train)*(x-mu1_train)/(2.0*sigma_train*sigma_train) \n",
    "    for1 = for1 + np.log(lambda_train)\n",
    "    return 1*(for1 - for0 >= 0)"
   ]
  },
  {
   "cell_type": "code",
   "execution_count": 73,
   "metadata": {},
   "outputs": [
    {
     "name": "stdout",
     "output_type": "stream",
     "text": [
      "correct classification rate 0.9936\n"
     ]
    }
   ],
   "source": [
    "pred = np.array([loglikdiff(test_x) for test_x in xtest])\n",
    "print(\"correct classification rate\", np.mean(ztest == pred))"
   ]
  },
  {
   "cell_type": "markdown",
   "metadata": {},
   "source": [
    "## Unsupervised learning: Mixture of Gaussians \n",
    "\n",
    "In unsupervised learning, we do not know the class labels. We wish to generate these labels automatically from the data. An example of an unsupervised model is clustering.  In the context of mixture models we then do not know what the components of the mixture model are, i.e. what the parameters of the components and their admixture ($\\lambda$s) are. Indeed, we might not even know how many components we have!!\n",
    "\n",
    "In this case, to carry out the clustering, we first fit the mixture model, and then compute $p(z_i = k  \\vert  x_i, \\theta)$, which represents the posterior probability that point i belongs to cluster k. This is known as the responsibility of cluster k for point i, and can be computed as before using Bayes rule as follows:\n",
    "\n",
    "$$p(z_k = c \\vert x_i, \\theta) = \\frac{p(z_k = c  \\vert  \\theta)p(x_i  \\vert  z_k = c, \\theta)}\n",
    "{ \\sum_{_c′} p(z_k = c′  \\vert  \\theta) p(x_i  \\vert  z_k = c′, \\theta)}$$\n",
    "\n",
    "This is called soft clustering. K-means is a hard-clustering analog where you associate a data point with a cluster rather than simply computing probabilities for the association.\n",
    "\n",
    "The process is identical to the computations performed before in the supervised learning, except at training time: here we never observe $z_k$ for any samples, whereas before with the generative GDA classifier, we did observe $z_k$ on the training set.\n",
    "\n",
    "How many clusters? The best number will generalize best to future data, something we can use cross-validation or other techniques to find.\n",
    "\n",
    "Put differently, **unsupervised learning is a density estimation problem for $p(x)$**.\n",
    "\n",
    "$$p(x) = \\sum_c p(x \\vert z) p(z).$$\n",
    "\n",
    "In other words we discover the marginal p(x) through the generative model $p(x \\vert z)$. This is also very useful in discovering **outliers** in our data."
   ]
  },
  {
   "cell_type": "markdown",
   "metadata": {},
   "source": [
    "### Concretely formulating the problem\n",
    "\n",
    "So let us turn our attention to the case where we do not know the labels $z$. \n",
    "\n",
    "Suppose we are given a data set $\\{x_1,\\ldots, x_m\\}$ but not given the labels $z$. The model consists of \n",
    "$k$ Gaussians. In other words our model assumes that each $x_i$ was generated by randomly choosing \n",
    "$z_i$ from $\\{1, \\ldots, k\\}$, and then $x_i$ is drawn from one of the $k$ Gaussians depending on \n",
    "$z_i$. \n",
    "\n",
    "We wish to compute either the maximum likelihood estimate for this model, $p(\\{x_{i}\\} \\vert \\theta)$.\n",
    "The goal is to model the joint distribution $p(\\{x_i\\}, \\{z_i\\})=p(\\{x_i\\} \\vert \\{z_i\\}) \\, p(\\{z_i\\})$ where $z_i \\sim \\rm{Categorical}(\\lambda)$, and $\\lambda = \\{\\lambda_j\\}$.\n",
    "\n",
    "As in our definition of mixture models $\\lambda_j\\ge0$  and \n",
    "\n",
    "$$ \\sum_j^k \\lambda_i = 1 $$\n",
    "\n",
    "The parameters $\\lambda_j$  produce $p(z_i=j)$ and then $x_i \\vert z_i=j \\sim {\\cal N}(\\mu_j, \\Sigma_j)$.\n",
    "\n",
    "The parameters of our problem are $\\lambda$, $\\mu$ and $\\Sigma$. But because the labels $z$ are hidden to us, we no longer have the full-data likelihood. So we estimate our parameters by minimizing the $x$-data log-likelihood:\n",
    "\n",
    "$$\n",
    "\\begin{eqnarray}\n",
    "l(x \\vert  \\lambda, \\mu, \\Sigma) &=& \\sum_{i=1}^{m} \\log p(x_i \\vert  \\lambda,  \\mu ,\\Sigma)   \\nonumber \\\\ \n",
    "     &=& \\sum_{i=1}^{m} \\log \\sum_z p(x_i \\vert  z_i,  \\mu , \\Sigma) \\, p(z_i \\vert  \\lambda)  \n",
    "\\end{eqnarray}\n",
    "$$\n",
    "\n",
    "However, if we set to zero the derivatives of this formula with respect to\n",
    "the parameters and try to solve, we'll find that it is not possible to find the\n",
    "maximum likelihood estimates Futhermore, we have to enforce constraints such as mixing weights summing to 1, covariance matrices being positive definite, etc. \n",
    "\n",
    "For all of these reasons, its simpler, but not always faster to use an iterative algorithm called the EM algorithm to get the local maximum likelihood or MAP estimate. We shall learn this algorithm soon. But we can also set this problem up as a bayesian problem with reasonable priors on the parameters and try to use MCMC."
   ]
  },
  {
   "cell_type": "markdown",
   "metadata": {},
   "source": [
    "## Semi-supervised\n",
    "\n",
    "In unsupervized learning we are given samples from some unknown data distribution with density $p(x)$. Our goal is to estimate this density or a known functional  (like the risk) thereof. Supervized learning can be treated as estimating $p(x,c)$ or a known functional of it. But there is usually no need to estimate the input distribution so estimating the complete density is wasteful, and we usually focus on estimating $p(c \\vert x)$ discriminatively or generatively(via $p(x \\vert c) p(c)$. Here $c$ or $y$ or $z$ are the classes we are trying to estimate. In the unsupervized case we often estimate $\\sum_z p(x \\vert z) p(z) = p(x)$ with latent (hidden) $z$, which you may or may not wish to identify with classes.\n",
    "\n",
    "Semi-supervised learning is the situation in which we have some labels, but typically very few labels: not enough to form a good training set.\n",
    "\n",
    "In semi-supervized learning we combine the two worlds. We write a joint likelihood for the supervised and unsupervised parts:\n",
    "\n",
    "$$ l(\\{x_i\\},\\{x_j\\},\\{z_i\\} \\vert \\theta, \\lambda) = \\sum_i log \\, p(x_i, z_i \\vert \\lambda, \\theta) +  \\sum_j log \\, p(x_j \\vert \\lambda, \\theta) = \\sum_i log \\, p(z_i \\vert \\lambda) p(x_i \\vert z_,\\theta) + \\sum_j log \\, \\sum_z p(z_j \\vert \\lambda) p(x_j \\vert z_j,\\theta) $$\n",
    "\n",
    "Here $i$ ranges over the data points where we have labels, and $j$ over the data points where we dont.\n",
    "\n",
    "In a traditional classification-based machine learning scenario we might still split the data into a training and validation set. But the basic idea in semi-supervised learning is that there is structure in $p(x)$ which might help us divine the conditionals, so what we would want to do, is include in the training set unlabelled points. The game then is that if there is geometric structure in $p(x)$, some kind of cluster based foliation, then we can explot this."
   ]
  }
 ],
 "metadata": {
  "anaconda-cloud": {},
  "kernelspec": {
   "display_name": "Python 3",
   "language": "python",
   "name": "python3"
  },
  "language_info": {
   "codemirror_mode": {
    "name": "ipython",
    "version": 3
   },
   "file_extension": ".py",
   "mimetype": "text/x-python",
   "name": "python",
   "nbconvert_exporter": "python",
   "pygments_lexer": "ipython3",
   "version": "3.6.3"
  }
 },
 "nbformat": 4,
 "nbformat_minor": 1
}
