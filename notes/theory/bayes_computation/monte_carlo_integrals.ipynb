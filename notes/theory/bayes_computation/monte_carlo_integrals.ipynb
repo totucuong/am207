{
 "cells": [
  {
   "cell_type": "markdown",
   "metadata": {},
   "source": [
    "# Monte Carlo Integration\n",
    "\n",
    "## 1-D case\n",
    "Suppose we want to compute $I = \\int_{a}^{b}f(x)dx$. We can use Monte Carlo integration method. The idea is to relate $I$ to the expectation of  $f(x)$ wrt to the uniform distribution over $[a,b]$, $U_{ab}(x)$. Specifically, we have:\n",
    "\n",
    "$$J = \\int_a^b f(x)U_{ab}(x)dx = E_{U}f(x)$$\n",
    "\n",
    "And we have $$I = (b-a) * J$$\n",
    "\n",
    "Recall that using law of large numbers we can compute $J$, by repeatedly sample $X \\sim U_{ab}(X)$, and compute $f(X)$ and the sample mean.\n",
    "\n",
    "Hence\n",
    "\n",
    "$$I = V\\lim_{n \\rightarrow \\infty} \\frac{1}{N}\\sum_{x_i \\sim U} f(x_i),$$ where V here is $b-a$\n",
    "\n",
    "We now use sampling to compute\n",
    "\n",
    "$$I =  \\int_{2}^{3}[x^2 + 4xsin(x)]dx$$"
   ]
  },
  {
   "cell_type": "code",
   "execution_count": 6,
   "metadata": {},
   "outputs": [],
   "source": [
    "import numpy as np\n",
    "import matplotlib.pyplot as plt\n",
    "%matplotlib inline\n",
    "\n",
    "def f(x):\n",
    "    return x**2 + 4*x*np.sin(x)\n",
    "\n",
    "# closed from of integration\n",
    "def intf(x):\n",
    "    return x**3/3.0+4.0*np.sin(x) - 4.0*x*np.cos(x)   "
   ]
  },
  {
   "cell_type": "code",
   "execution_count": 7,
   "metadata": {},
   "outputs": [
    {
     "name": "stdout",
     "output_type": "stream",
     "text": [
      "approximated integration:  11.815568970017921\n",
      "exact integration:  11.811358925098283\n"
     ]
    }
   ],
   "source": [
    "# limits of integration\n",
    "a = 2\n",
    "b = 3\n",
    "\n",
    "# size of simulation\n",
    "N = 10000\n",
    "\n",
    "# select randomly x\n",
    "X = np.random.uniform(low=a, high=b, size=N)\n",
    "\n",
    "# compute f(x)\n",
    "Y = f(X)\n",
    "\n",
    "# compute integration\n",
    "V = b-a\n",
    "print('approximated integration: ', V * np.mean(Y))\n",
    "print('exact integration: ', intf(b) - intf(a))"
   ]
  },
  {
   "cell_type": "markdown",
   "metadata": {},
   "source": [
    "## Multidimensional integral\n",
    "\n",
    "We want to compute $\\int\\int f(x,y)dxdy$ where $f(x,y) = x^2 + y^2$ over the region defined by the condition $x^2 + y^2 \\leq 1$\n",
    "\n",
    "In multidimensional case, $V$ is the volume of the support of integrand."
   ]
  },
  {
   "cell_type": "code",
   "execution_count": 4,
   "metadata": {},
   "outputs": [
    {
     "name": "stdout",
     "output_type": "stream",
     "text": [
      "I= 1.5601275492876205 actual 1.5707963267948966\n"
     ]
    }
   ],
   "source": [
    "fmd = lambda x,y: x*x + y*y\n",
    "# use N draws \n",
    "N= 8000\n",
    "X= np.random.uniform(low=-1, high=1, size=N) \n",
    "Y= np.random.uniform(low=-1, high=1, size=N) \n",
    "Z=fmd(X, Y)   # CALCULATE THE f(x) \n",
    "\n",
    "R = X**2 + Y**2\n",
    "V = np.pi*1.0*1.0\n",
    "# number of points falling in V\n",
    "N = np.sum(R<1)\n",
    "\n",
    "# sum of f(points falling in V)\n",
    "sumsamples = np.sum(Z[R<1])\n",
    "\n",
    "print(\"I=\",V*sumsamples/N, \"actual\", np.pi/2.0) #actual value (change to polar to calculate)"
   ]
  },
  {
   "cell_type": "markdown",
   "metadata": {},
   "source": [
    "## Monte-Carlo as a function of number of samples"
   ]
  },
  {
   "cell_type": "code",
   "execution_count": 8,
   "metadata": {},
   "outputs": [],
   "source": [
    "trials = np.arange(1, 1000)\n",
    "errors = []\n",
    "true = intf(b) - intf(a)\n",
    "errors = [V * np.mean(f(np.random.uniform(low=a, high=b, size=N))) - true for N in trials]\n",
    "errors_2 = np.sqrt(np.power(errors,2))"
   ]
  },
  {
   "cell_type": "code",
   "execution_count": 24,
   "metadata": {},
   "outputs": [
    {
     "data": {
      "image/png": "[encoded data removed]",
      "text/plain": [
       "<matplotlib.figure.Figure at 0x10456b668>"
      ]
     },
     "metadata": {},
     "output_type": "display_data"
    }
   ],
   "source": [
    "fig = plt.figure(figsize=(10,8))\n",
    "ax = fig.subplots(nrows=1, ncols=2)\n",
    "ax[0].plot(trials, errors_2);\n",
    "ax[0].set_xlabel('number of samples N')\n",
    "ax[0].set_ylabel('sqrt(error^2)');\n",
    "ax[0].plot(trials[10:], 1/np.sqrt(trials[10:]), 'r')\n",
    "# ax[0].annotate(r'$\\frac{1}{\\sqrt(N)}$', x=200, y= 0.08)\n",
    "ax[0].annotate(r'$\\frac{1}{\\sqrt{N}}$', xy=(200,0.08), xytext=(300, 0.1),\n",
    "            arrowprops=dict(facecolor='black', shrink=1),\n",
    "            )\n",
    "\n",
    "ax[1].hist(errors, bins=100, normed=True);\n",
    "ax[1].set_title('error distribution');"
   ]
  },
  {
   "cell_type": "markdown",
   "metadata": {},
   "source": [
    "This shows that the errors between exact computation and Monte Carlo integration depends on the number of $N$ as $1/\\sqrt{N}$"
   ]
  },
  {
   "cell_type": "markdown",
   "metadata": {},
   "source": [
    "## Errors in MC\n",
    "\n"
   ]
  },
  {
   "cell_type": "code",
   "execution_count": 27,
   "metadata": {},
   "outputs": [
    {
     "name": "stdout",
     "output_type": "stream",
     "text": [
      "11.81160952476162 0.004263259210641912\n"
     ]
    },
    {
     "data": {
      "image/png": "[encoded data removed]",
      "text/plain": [
       "<matplotlib.figure.Figure at 0x104f84240>"
      ]
     },
     "metadata": {},
     "output_type": "display_data"
    }
   ],
   "source": [
    "# multiple MC estimations\n",
    "m=1000\n",
    "N=10000\n",
    "Imc=np.zeros(m)\n",
    "\n",
    "\n",
    "for i in np.arange(m):\n",
    "    \n",
    "    X = np.random.uniform(low=a, high=b, size=N) # N values uniformly drawn from a to b \n",
    "    Y =f(X)   # CALCULATE THE f(x) \n",
    "\n",
    "    Imc[i]= (b-a) * np.sum(Y)/ N;\n",
    "    \n",
    "    \n",
    "plt.hist(Imc, bins=30)\n",
    "plt.xlabel(\"error distribution\")\n",
    "print(np.mean(Imc), np.std(Imc))\n"
   ]
  },
  {
   "cell_type": "code",
   "execution_count": 26,
   "metadata": {},
   "outputs": [
    {
     "data": {
      "text/plain": [
       "0.01"
      ]
     },
     "execution_count": 26,
     "metadata": {},
     "output_type": "execute_result"
    }
   ],
   "source": [
    "This looks like a Normal distribution."
   ]
  },
  {
   "cell_type": "code",
   "execution_count": null,
   "metadata": {},
   "outputs": [],
   "source": []
  }
 ],
 "metadata": {
  "kernelspec": {
   "display_name": "Python 3",
   "language": "python",
   "name": "python3"
  },
  "language_info": {
   "codemirror_mode": {
    "name": "ipython",
    "version": 3
   },
   "file_extension": ".py",
   "mimetype": "text/x-python",
   "name": "python",
   "nbconvert_exporter": "python",
   "pygments_lexer": "ipython3",
   "version": "3.6.3"
  }
 },
 "nbformat": 4,
 "nbformat_minor": 2
}
