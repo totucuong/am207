{
 "cells": [
  {
   "cell_type": "code",
   "execution_count": 1,
   "metadata": {},
   "outputs": [
    {
     "name": "stdout",
     "output_type": "stream",
     "text": [
      "/Users/totucuong/miniconda3/envs/experiment/bin/python\n"
     ]
    }
   ],
   "source": [
    "!which python\n"
   ]
  },
  {
   "cell_type": "code",
   "execution_count": 2,
   "metadata": {},
   "outputs": [
    {
     "name": "stdout",
     "output_type": "stream",
     "text": [
      "Python 3.6.0\n"
     ]
    }
   ],
   "source": [
    "!python --version"
   ]
  },
  {
   "cell_type": "code",
   "execution_count": 3,
   "metadata": {},
   "outputs": [],
   "source": [
    "from __future__ import print_function\n",
    "import os\n",
    "from collections import defaultdict\n",
    "from sklearn.cluster import MiniBatchKMeans\n",
    "import numpy as np\n",
    "import scipy.stats\n",
    "import torch\n",
    "from torch.distributions import constraints\n",
    "from matplotlib import pyplot\n",
    "%matplotlib inline\n",
    "\n",
    "import pyro\n",
    "import pyro.distributions as dist\n",
    "from pyro.optim import Adam\n",
    "from pyro.infer import SVI, TraceEnum_ELBO, config_enumerate\n",
    "\n",
    "smoke_test = ('CI' in os.environ)\n",
    "pyro.enable_validation(True)"
   ]
  },
  {
   "cell_type": "code",
   "execution_count": 4,
   "metadata": {},
   "outputs": [],
   "source": [
    "K=4\n",
    "true_weight = torch.tensor([0.06, 0.4, 0.4, 0.04])\n",
    "true_mu = torch.tensor([2., 20., 45., 60.])\n",
    "true_scale= torch.tensor([10., 5., 1., 20.])\n",
    "N= 100000"
   ]
  },
  {
   "cell_type": "code",
   "execution_count": 5,
   "metadata": {},
   "outputs": [],
   "source": [
    "assignment = dist.Categorical(true_weight).expand_by([N])()\n",
    "data = dist.Normal(true_mu[assignment], true_scale[assignment])()"
   ]
  },
  {
   "cell_type": "code",
   "execution_count": 6,
   "metadata": {},
   "outputs": [
    {
     "data": {
      "image/png": "[encoded data removed]",
      "text/plain": [
       "<Figure size 432x288 with 1 Axes>"
      ]
     },
     "metadata": {
      "needs_background": "light"
     },
     "output_type": "display_data"
    }
   ],
   "source": [
    "pyplot.hist(data, bins=100, alpha=0.4, color='r');"
   ]
  },
  {
   "cell_type": "code",
   "execution_count": 7,
   "metadata": {},
   "outputs": [],
   "source": [
    "K = 4\n",
    "def init_locs(data, K):\n",
    "    cluster = MiniBatchKMeans(batch_size=100, n_clusters=K)\n",
    "    cluster.fit(data.view(len(data), -1))\n",
    "    return torch.tensor(cluster.cluster_centers_.squeeze()).type(torch.float32)\n",
    "\n",
    "mus = init_locs(data, K)\n",
    "\n",
    "def model(data):\n",
    "    # Global parameters.\n",
    "    weights = pyro.param('weights', torch.ones(K) / K, constraint=constraints.simplex)\n",
    "    locs = pyro.param('locs', mus)\n",
    "    scales = pyro.param('scales', 0.5 * torch.ones(K), constraint=constraints.positive)\n",
    "\n",
    "    with pyro.iarange('data', len(data)) as ind:\n",
    "        # Local variables.\n",
    "        assignment = pyro.sample('assignment',\n",
    "                                 dist.Categorical(weights).expand_by([len(ind)]))\n",
    "        pyro.sample('obs', dist.Normal(locs[assignment], scales[assignment]), obs=data.index_select(0, ind))\n",
    "\n",
    "@config_enumerate(default='parallel')\n",
    "def guide(data):\n",
    "    with pyro.iarange('data', len(data), subsample_size=10000) as ind:\n",
    "        # Local parameters.\n",
    "#         print('sampled index', ind)\n",
    "        assignment_probs = pyro.param('assignment_probs', torch.ones(len(data), K) / K,\n",
    "                                      constraint=constraints.unit_interval)\n",
    "        pyro.sample('assignment', dist.Categorical(assignment_probs[ind]))"
   ]
  },
  {
   "cell_type": "code",
   "execution_count": 8,
   "metadata": {},
   "outputs": [],
   "source": [
    "optim = pyro.optim.Adam({'lr': 0.02, 'betas': [0.9, 0.99]})\n",
    "inference = SVI(model, config_enumerate(guide, 'parallel'), optim,\n",
    "                loss=TraceEnum_ELBO(max_iarange_nesting=1))"
   ]
  },
  {
   "cell_type": "code",
   "execution_count": null,
   "metadata": {},
   "outputs": [],
   "source": [
    "pyro.set_rng_seed(1)      # Set seed to make results reproducible.\n",
    "pyro.clear_param_store()  # Clear stale param values.\n",
    "\n",
    "# Register hooks to monitor gradient norms.\n",
    "gradient_norms = defaultdict(list)\n",
    "inference.loss(model, guide, data)  # Initializes param store.\n",
    "for name, value in pyro.get_param_store().named_parameters():\n",
    "    value.register_hook(lambda g, name=name: gradient_norms[name].append(g.norm().item()))\n",
    "\n",
    "losses = []\n",
    "for i in range(5000 if not smoke_test else 2):\n",
    "    loss = inference.step(data)\n",
    "    losses.append(loss)\n",
    "    if (i % 100 == 0):\n",
    "        print('loss at {}th epoch is {}'.format(i, loss))"
   ]
  },
  {
   "cell_type": "code",
   "execution_count": null,
   "metadata": {},
   "outputs": [],
   "source": [
    "pyplot.figure(figsize=(10,3), dpi=100).set_facecolor('white')\n",
    "pyplot.plot(losses)\n",
    "pyplot.xlabel('iters, lr=0.001')\n",
    "pyplot.ylabel('loss')\n",
    "pyplot.yscale('log')\n",
    "pyplot.title('Convergence of SVI');\n",
    "pyplot.savefig('elbo_svi_lr_0001.png')"
   ]
  },
  {
   "cell_type": "code",
   "execution_count": null,
   "metadata": {},
   "outputs": [],
   "source": [
    "losses[-1]"
   ]
  },
  {
   "cell_type": "code",
   "execution_count": null,
   "metadata": {},
   "outputs": [],
   "source": [
    "len(gradient_norms['locs'])"
   ]
  },
  {
   "cell_type": "code",
   "execution_count": null,
   "metadata": {},
   "outputs": [],
   "source": [
    "pyplot.figure(figsize=(10,4), dpi=100).set_facecolor('white')\n",
    "for name, grad_norms in gradient_norms.items():\n",
    "    pyplot.plot(grad_norms[:1000], label=name)\n",
    "pyplot.xlabel('iters')\n",
    "pyplot.ylabel('gradient norm')\n",
    "pyplot.yscale('log')\n",
    "pyplot.legend(loc='best')\n",
    "pyplot.title('Gradient norms during SVI');"
   ]
  },
  {
   "cell_type": "code",
   "execution_count": null,
   "metadata": {},
   "outputs": [],
   "source": [
    "N"
   ]
  },
  {
   "cell_type": "code",
   "execution_count": null,
   "metadata": {},
   "outputs": [],
   "source": [
    "weights = pyro.param('weights')\n",
    "locs = pyro.param('locs')\n",
    "scales = pyro.param('scales')\n",
    "print('weights = {}'.format(weights.data.numpy()))\n",
    "print('locs = {}'.format(locs.data.numpy()))\n",
    "print('scales = {}'.format(scales.data.numpy()))"
   ]
  },
  {
   "cell_type": "code",
   "execution_count": null,
   "metadata": {},
   "outputs": [],
   "source": [
    "weights.sum()"
   ]
  },
  {
   "cell_type": "code",
   "execution_count": null,
   "metadata": {},
   "outputs": [],
   "source": [
    "assignment = dist.Categorical(weights).expand_by([N])()\n",
    "syn = dist.Normal(locs[assignment], scales[assignment])()"
   ]
  },
  {
   "cell_type": "code",
   "execution_count": null,
   "metadata": {},
   "outputs": [],
   "source": [
    "pyplot.hist(syn.detach().numpy(), bins=100, alpha=0.2, color='b', label='synthetic');\n",
    "pyplot.hist(data+10, bins=100, alpha=0.2, color='r', label='real right-shifted by 10');\n",
    "pyplot.legend();"
   ]
  },
  {
   "cell_type": "code",
   "execution_count": null,
   "metadata": {},
   "outputs": [],
   "source": [
    "true_weight,true_mu , true_scale"
   ]
  },
  {
   "cell_type": "markdown",
   "metadata": {},
   "source": [
    "# Lesson learnt\n",
    "\n",
    "1. The weights of components should be well-balanced. Otherwise it is very hard to capture all the modes.\n",
    "2. The greater data variance is the large subsample size should be during training."
   ]
  }
 ],
 "metadata": {
  "kernelspec": {
   "display_name": "Python 3",
   "language": "python",
   "name": "python3"
  },
  "language_info": {
   "codemirror_mode": {
    "name": "ipython",
    "version": 3
   },
   "file_extension": ".py",
   "mimetype": "text/x-python",
   "name": "python",
   "nbconvert_exporter": "python",
   "pygments_lexer": "ipython3",
   "version": "3.6.0"
  }
 },
 "nbformat": 4,
 "nbformat_minor": 4
}
