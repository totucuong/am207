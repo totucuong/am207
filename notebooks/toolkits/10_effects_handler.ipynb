{
 "cells": [
  {
   "cell_type": "markdown",
   "metadata": {},
   "source": [
    "# Introduction\n",
    "\n",
    "Effect handlers, i.e., poutine in Pyro paralance, enables us to manipulate and perform computation on a Pyro model such as conditioning, generating a log_joint_prob() for a given model(). This ability ultimately leads to the implementation of different inference methods such as variational inference or variable elimination."
   ]
  },
  {
   "cell_type": "markdown",
   "metadata": {},
   "source": [
    "We will try to understand the mini pyro"
   ]
  },
  {
   "cell_type": "code",
   "execution_count": 1,
   "metadata": {},
   "outputs": [],
   "source": [
    "import torch\n",
    "import pyro.distributions as dist"
   ]
  },
  {
   "cell_type": "code",
   "execution_count": 2,
   "metadata": {},
   "outputs": [],
   "source": [
    "import minipyro as pyro\n",
    "from  minipyro import SVI, Adam, elbo"
   ]
  },
  {
   "cell_type": "code",
   "execution_count": 3,
   "metadata": {},
   "outputs": [],
   "source": [
    "# Define a basic model with a single Normal latent random variable `loc`\n",
    "# and a batch of Normally distributed observations.\n",
    "def model(data):\n",
    "    loc = pyro.sample(\"loc\", dist.Normal(0., 1.))\n",
    "    with pyro.plate(\"data\", len(data), dim=-1):\n",
    "        pyro.sample(\"obs\", dist.Normal(loc, 1.), obs=data)"
   ]
  },
  {
   "cell_type": "code",
   "execution_count": 20,
   "metadata": {},
   "outputs": [
    {
     "data": {
      "text/plain": [
       "OrderedDict([('loc',\n",
       "              {'type': 'sample',\n",
       "               'name': 'loc',\n",
       "               'fn': Normal(loc: 0.0, scale: 1.0),\n",
       "               'args': (),\n",
       "               'value': tensor(-1.7952)}),\n",
       "             ('obs',\n",
       "              {'type': 'sample',\n",
       "               'name': 'obs',\n",
       "               'fn': Normal(loc: torch.Size([100]), scale: torch.Size([100])),\n",
       "               'args': (),\n",
       "               'value': tensor([1.8742, 1.8476, 2.7494, 2.5661, 3.8487, 3.6920, 2.6840, 0.8848, 3.3223,\n",
       "                       1.7367, 3.3500, 3.3081, 3.1198, 4.2377, 4.1168, 2.7527, 1.6473, 1.3041,\n",
       "                       3.5667, 3.7935, 3.5988, 1.4449, 2.6586, 4.8530, 3.7502, 2.4145, 2.8266,\n",
       "                       3.1835, 4.3894, 4.5863, 3.9463, 2.1563, 2.3864, 3.0316, 2.5073, 3.2484,\n",
       "                       3.4397, 3.1124, 3.6408, 3.4412, 2.8977, 3.7924, 2.7103, 3.0525, 3.5229,\n",
       "                       5.3022, 1.5311, 1.4133, 2.3269, 3.8728, 4.0554, 3.1778, 2.7697, 2.6082,\n",
       "                       3.5433, 2.6048, 2.5538, 3.7440, 4.5210, 6.4105, 1.4688, 1.7659, 4.8197,\n",
       "                       2.4485, 2.4308, 3.9200, 4.1108, 4.2899, 1.5218, 5.5672, 2.5269, 3.3356,\n",
       "                       1.3707, 2.4503, 2.5202, 2.5003, 1.9330, 4.1149, 2.8593, 3.8058, 2.9067,\n",
       "                       3.6871, 2.1617, 3.0009, 0.3867, 1.3035, 2.7718, 3.2800, 3.0732, 4.1133,\n",
       "                       3.2823, 3.4342, 3.4569, 2.1346, 3.7813, 2.0732, 3.2064, 2.6666, 2.5712,\n",
       "                       3.2329])})])"
      ]
     },
     "execution_count": 20,
     "metadata": {},
     "output_type": "execute_result"
    }
   ],
   "source": [
    "pyro.trace(model).get_trace(data)"
   ]
  },
  {
   "cell_type": "code",
   "execution_count": 21,
   "metadata": {},
   "outputs": [
    {
     "data": {
      "text/plain": [
       "OrderedDict([('guide_loc',\n",
       "              {'type': 'param',\n",
       "               'name': 'guide_loc',\n",
       "               'fn': <function minipyro.param.<locals>.fn(init_value)>,\n",
       "               'args': (tensor(0.),),\n",
       "               'value': tensor(3.0121, requires_grad=True)}),\n",
       "             ('guide_scale_log',\n",
       "              {'type': 'param',\n",
       "               'name': 'guide_scale_log',\n",
       "               'fn': <function minipyro.param.<locals>.fn(init_value)>,\n",
       "               'args': (tensor(0.),),\n",
       "               'value': tensor(-1.3553, requires_grad=True)}),\n",
       "             ('loc',\n",
       "              {'type': 'sample',\n",
       "               'name': 'loc',\n",
       "               'fn': Normal(loc: 3.012122392654419, scale: 0.25786036252975464),\n",
       "               'args': (),\n",
       "               'value': tensor(3.0520, grad_fn=<AddBackward0>)})])"
      ]
     },
     "execution_count": 21,
     "metadata": {},
     "output_type": "execute_result"
    }
   ],
   "source": [
    "pyro.trace(guide).get_trace(data)"
   ]
  },
  {
   "cell_type": "code",
   "execution_count": 22,
   "metadata": {},
   "outputs": [],
   "source": [
    "def model2():\n",
    "    loc = pyro.param('loc2', torch.tensor(0.))\n",
    "    pyro.sample('ob2', dist.Normal(loc, 1.))"
   ]
  },
  {
   "cell_type": "code",
   "execution_count": 23,
   "metadata": {},
   "outputs": [
    {
     "data": {
      "text/plain": [
       "OrderedDict([('loc2',\n",
       "              {'type': 'param',\n",
       "               'name': 'loc2',\n",
       "               'fn': <function minipyro.param.<locals>.fn(init_value)>,\n",
       "               'args': (tensor(0., requires_grad=True),),\n",
       "               'value': tensor(0., requires_grad=True)}),\n",
       "             ('ob2',\n",
       "              {'type': 'sample',\n",
       "               'name': 'ob2',\n",
       "               'fn': Normal(loc: 0.0, scale: 1.0),\n",
       "               'args': (),\n",
       "               'value': tensor(0.3563, grad_fn=<AddBackward0>)})])"
      ]
     },
     "execution_count": 23,
     "metadata": {},
     "output_type": "execute_result"
    }
   ],
   "source": [
    "pyro.trace(model2).get_trace()"
   ]
  },
  {
   "cell_type": "code",
   "execution_count": 4,
   "metadata": {},
   "outputs": [],
   "source": [
    "# Define a guide (i.e. variational distribution) with a Normal\n",
    "    # distribution over the latent random variable `loc`.\n",
    "def guide(data):\n",
    "    guide_loc = pyro.param(\"guide_loc\", torch.tensor(0.))\n",
    "    guide_scale = pyro.param(\"guide_scale_log\", torch.tensor(0.)).exp()\n",
    "    pyro.sample(\"loc\", dist.Normal(guide_loc, guide_scale))"
   ]
  },
  {
   "cell_type": "code",
   "execution_count": 5,
   "metadata": {},
   "outputs": [],
   "source": [
    "# Generate some data.\n",
    "torch.manual_seed(0)\n",
    "data = torch.randn(100) + 3.0\n",
    "pyro.get_param_store().clear()"
   ]
  },
  {
   "cell_type": "code",
   "execution_count": 6,
   "metadata": {},
   "outputs": [],
   "source": [
    "import seaborn as sns"
   ]
  },
  {
   "cell_type": "code",
   "execution_count": 7,
   "metadata": {},
   "outputs": [
    {
     "data": {
      "text/plain": [
       "<matplotlib.axes._subplots.AxesSubplot at 0x1a1b5f6710>"
      ]
     },
     "execution_count": 7,
     "metadata": {},
     "output_type": "execute_result"
    },
    {
     "data": {
      "image/png": "[encoded data removed]",
      "text/plain": [
       "<Figure size 432x288 with 1 Axes>"
      ]
     },
     "metadata": {
      "needs_background": "light"
     },
     "output_type": "display_data"
    }
   ],
   "source": [
    "sns.distplot(data)"
   ]
  },
  {
   "cell_type": "code",
   "execution_count": 8,
   "metadata": {},
   "outputs": [],
   "source": [
    "# Construct an SVI object so we can do variational inference on our model/guide pair.\n",
    "svi = SVI(model, guide, Adam({\"lr\": 0.01}), elbo)"
   ]
  },
  {
   "cell_type": "code",
   "execution_count": 9,
   "metadata": {},
   "outputs": [
    {
     "name": "stdout",
     "output_type": "stream",
     "text": [
      "step 0 loss = 291.2471618652344\n",
      "step 100 loss = 212.1007537841797\n",
      "step 200 loss = 184.7483673095703\n",
      "step 300 loss = 166.82797241210938\n",
      "step 400 loss = 235.90830993652344\n",
      "step 500 loss = 173.93594360351562\n",
      "step 600 loss = 178.1129150390625\n",
      "step 700 loss = 150.7626190185547\n",
      "step 800 loss = 151.26597595214844\n",
      "step 900 loss = 150.60311889648438\n"
     ]
    }
   ],
   "source": [
    "# Basic training loop\n",
    "losses = []\n",
    "for step in range(1000):\n",
    "    loss = svi.step(data)\n",
    "    losses.append(loss)\n",
    "    if step % 100 == 0:\n",
    "        print(\"step {} loss = {}\".format(step, loss))"
   ]
  },
  {
   "cell_type": "code",
   "execution_count": 10,
   "metadata": {},
   "outputs": [],
   "source": [
    "import matplotlib.pyplot as plt"
   ]
  },
  {
   "cell_type": "code",
   "execution_count": 11,
   "metadata": {},
   "outputs": [
    {
     "data": {
      "text/plain": [
       "[<matplotlib.lines.Line2D at 0x1a1b9c0588>]"
      ]
     },
     "execution_count": 11,
     "metadata": {},
     "output_type": "execute_result"
    },
    {
     "data": {
      "image/png": "[encoded data removed]",
      "text/plain": [
       "<Figure size 432x288 with 1 Axes>"
      ]
     },
     "metadata": {
      "needs_background": "light"
     },
     "output_type": "display_data"
    }
   ],
   "source": [
    "plt.plot(losses)"
   ]
  },
  {
   "cell_type": "code",
   "execution_count": 12,
   "metadata": {},
   "outputs": [
    {
     "name": "stdout",
     "output_type": "stream",
     "text": [
      "guide_loc = 3.012122392654419\n",
      "guide_scale_log = -1.3553370237350464\n"
     ]
    }
   ],
   "source": [
    "# Report the final values of the variational parameters\n",
    "# in the guide after training.\n",
    "for name, value in pyro.get_param_store().items():\n",
    "    print(\"{} = {}\".format(name, value.detach().cpu().numpy()))\n",
    "\n",
    "# For this simple (conjugate) model we know the exact posterior. In\n",
    "# particular we know that the variational distribution should be\n",
    "# centered near 3.0. So let's check this explicitly.\n",
    "assert (pyro.param(\"guide_loc\") - 3.0).abs() < 0.1"
   ]
  },
  {
   "cell_type": "code",
   "execution_count": 13,
   "metadata": {},
   "outputs": [
    {
     "data": {
      "text/plain": [
       "tensor(3.0121, requires_grad=True)"
      ]
     },
     "execution_count": 13,
     "metadata": {},
     "output_type": "execute_result"
    }
   ],
   "source": [
    "pyro.get_param_store()['guide_loc']"
   ]
  },
  {
   "cell_type": "code",
   "execution_count": 14,
   "metadata": {},
   "outputs": [
    {
     "data": {
      "text/plain": [
       "<matplotlib.axes._subplots.AxesSubplot at 0x1a1b9ebf60>"
      ]
     },
     "execution_count": 14,
     "metadata": {},
     "output_type": "execute_result"
    },
    {
     "data": {
      "image/png": "[encoded data removed]",
      "text/plain": [
       "<Figure size 432x288 with 1 Axes>"
      ]
     },
     "metadata": {
      "needs_background": "light"
     },
     "output_type": "display_data"
    }
   ],
   "source": [
    "sns.distplot(torch.distributions.Normal(loc=pyro.get_param_store()['guide_loc'], scale=torch.exp(pyro.get_param_store()['guide_scale_log'])).sample((1000,)))"
   ]
  },
  {
   "cell_type": "markdown",
   "metadata": {},
   "source": [
    "# Appendix"
   ]
  },
  {
   "cell_type": "markdown",
   "metadata": {},
   "source": [
    "### Python context manager"
   ]
  },
  {
   "cell_type": "code",
   "execution_count": 15,
   "metadata": {},
   "outputs": [],
   "source": [
    "class MyContext(object):\n",
    "\n",
    "    def __init__(self, greeting):\n",
    "        self.greeting = greeting\n",
    "\n",
    "    def __enter__(self):\n",
    "        return self.greeting\n",
    "\n",
    "    def __exit__(self, *args):\n",
    "        print('adios')"
   ]
  },
  {
   "cell_type": "code",
   "execution_count": 16,
   "metadata": {},
   "outputs": [
    {
     "name": "stdout",
     "output_type": "stream",
     "text": [
      "hello world\n",
      "adios\n"
     ]
    }
   ],
   "source": [
    "with MyContext('hello world') as greeting:\n",
    "    print(greeting)"
   ]
  },
  {
   "cell_type": "code",
   "execution_count": null,
   "metadata": {},
   "outputs": [],
   "source": []
  }
 ],
 "metadata": {
  "kernelspec": {
   "display_name": "Python 3",
   "language": "python",
   "name": "python3"
  },
  "language_info": {
   "codemirror_mode": {
    "name": "ipython",
    "version": 3
   },
   "file_extension": ".py",
   "mimetype": "text/x-python",
   "name": "python",
   "nbconvert_exporter": "python",
   "pygments_lexer": "ipython3",
   "version": "3.6.8"
  }
 },
 "nbformat": 4,
 "nbformat_minor": 2
}
