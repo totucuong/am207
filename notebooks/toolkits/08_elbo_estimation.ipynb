{
 "cells": [
  {
   "cell_type": "markdown",
   "metadata": {},
   "source": [
    "$\\newcommand{\\v}[1]{\\mathbf{#1}}$"
   ]
  },
  {
   "cell_type": "markdown",
   "metadata": {},
   "source": [
    "# Introduction\n",
    "We want to maximize the log-likehood of data $\\log p_{\\theta}(x)$ **indirectly** by maximizing its lowwer bound ELBO instead. \n",
    "\n",
    "Recall that \n",
    "$$\\begin{align}ELBO &= E_{q_{\\phi}(z)}\\big[\\log p_{\\theta}(x,z) - \\log(q_{\\phi}(z) \\big]\\\\\n",
    "&= E_{q_{\\phi}(z)}\\log p_{\\theta}(x|z)p(z) - \\log(q_{\\phi}(z) \\big]\\\\\n",
    "&= E_{q_{\\phi}(z)}\\log p_{\\theta}(x|z) + \\log_{\\theta}p(z) - \\log(q_{\\phi}(z) \\big]\n",
    "\\end{align}$$\n",
    "\n",
    "To optimize ELBO we need to be able to compute its gradient wrt to parameters $\\phi, \\theta$. If both model and guide are from exponential family then we can derive this gradient in a closed form. Hence the standard gradient descent can be applied easily. \n",
    "\n",
    "Unfortunately, for a general model and guide, it is not possible to derive a closed form for the gradient. To overcome this, we use Monte Carlo to compute unbiased estimate of the ELBO(q) gradients.\n",
    "\n",
    "$$\\nabla_{\\phi, \\theta}ELBO = \\nabla_{\\phi, \\theta} E_{q_{\\phi}(z)}\\big[\\log p_{\\theta}(x,z) - \\log(q_{\\phi}(z) \\big]$$\n",
    "\n",
    "There are two main questions to ask here:\n",
    "1. How to fastly compute the log likelihood term $\\log p_{\\theta}(x|z)$ since our dataset could contains millions of data points.\n",
    "2. We now use $\\theta$ to denote $\\theta, \\phi$ collectively and ask ourself a more generic quesiton: how do we estimate $\\nabla_\\phi E_{q_\\phi(z)}\\big[f_{\\phi}(z) \\big]?$"
   ]
  },
  {
   "cell_type": "markdown",
   "metadata": {},
   "source": [
    "# Fast Log-likelhood evaluation\n",
    "\n",
    "By exploiting the conditional indenpence of data points, we can estimate this term as:\n",
    "\n",
    "$$\\sum_{i=1}^{N}\\log p(x_i | z) \\approx \\frac{N}{M}\\sum_{i \\in I_M}\\log p(x_i|z),$$\n",
    "\n",
    "where $I_M$ is mini-batch indices of dataset.\n",
    "\n",
    "To indicate conditional independence specifically, we can use ``pyro.plate``: \n",
    "\n",
    "```python\n",
    "def model(data):\n",
    "    # sample f from the beta prior\n",
    "    f = pyro.sample(\"latent_fairness\", dist.Beta(alpha0, beta0))\n",
    "    # loop over the observed data [WE ONLY CHANGE THE NEXT LINE]\n",
    "    for i in pyro.plate(\"data_loop\", len(data)):\n",
    "        # observe datapoint i using the bernoulli likelihood\n",
    "        pyro.sample(\"obs_{}\".format(i), dist.Bernoulli(f), obs=data[i])\n",
    "\n",
    "```"
   ]
  },
  {
   "cell_type": "markdown",
   "metadata": {},
   "source": [
    "Or we can do it in vectorized fashion:\n",
    "\n",
    "```python\n",
    "with plate('observe_data'):\n",
    "    pyro.sample('obs', dist.Bernoulli(f), obs=data)\n",
    "```"
   ]
  },
  {
   "cell_type": "markdown",
   "metadata": {},
   "source": [
    "and then we have the subsampling for free\n",
    "\n",
    "```python\n",
    "with plate('observe_data', size=10, subsample_size=5) as ind:\n",
    "    pyro.sample('obs', dist.Bernoulli(f),\n",
    "                obs=data.index_select(0, ind))\n",
    "```"
   ]
  },
  {
   "cell_type": "markdown",
   "metadata": {},
   "source": [
    "More details can be found [here](http://pyro.ai/examples/svi_part_ii.html)"
   ]
  },
  {
   "cell_type": "markdown",
   "metadata": {},
   "source": [
    "# ELBO Gradient Estimators\n",
    "\n",
    "Ok so we want to maximize the log-likehood of data $\\log p_{\\theta}(\\v{x})$ **indirectly** by maximizing its lowwer bound ELBO instead. \n",
    "\n",
    "Recall that $ELBO = E_{q_{\\phi}(\\v{z})}\\big[\\log p_{\\theta}(\\v{x},\\v{z}) - \\log(q_{\\phi}(\\v{z}) \\big]$\n",
    "\n",
    "To optimize ELBO we need to be able to compute its gradient wrt to parameters $\\phi, \\theta$. If both model and guide are from exponential family then we can derive this gradient in a closed form. Hence the standard gradient descend optimization can be applied easily. \n",
    "\n",
    "Unfortunately, for a general model and guide, it is not possible to derive a closed form for the gradient. The simplest one is the sigmoid function. (write sth here more). \n",
    "\n",
    "To overcome the aforementioned problem, we use Monte Carlo to compute unbiased estimate of \n",
    "\n",
    "$$\\nabla_{\\phi, \\theta}ELBO = \\nabla_{\\phi, \\theta} E_{q_{\\phi}(\\v{z})}\\big[\\log p_{\\theta}(\\v{x},\\v{z}) - \\log(q_{\\phi}(\\v{z})\\big]$$\n",
    "\n",
    "To explain how to do this we ask ourself a more general question? How to estimate $$\\nabla_\\phi E_{q_\\phi(z)}\\big[f_{\\phi}(z) \\big]$$"
   ]
  },
  {
   "cell_type": "markdown",
   "metadata": {},
   "source": [
    "# Estimation of $\\nabla_\\phi E_{q_\\phi(z)}\\big[f_{\\phi}(z) \\big]$\n",
    "\n",
    "### Reparameterizable random variables\n",
    "\n",
    "\n",
    "\n",
    "$$\\nabla_\\phi E_{q_\\phi(z)}\\big[f_{\\phi}(z) \\big] = E_{q(\\epsilon)}[f_{\\phi}(g_{\\phi(\\epsilon)})]$$\n",
    "\n",
    "The key idea is to move all the depdence on $\\phi$ into the expection. Note that $q(\\epsilon)$ is a fixed distribution. \n",
    "\n",
    "Because of  [Leibniz integral rule](https://en.wikipedia.org/wiki/Leibniz_integral_rule), we can move the gradient straight into the expectation to have:\n",
    "\n",
    "$$\\nabla_\\phi E_{q(\\epsilon)}[f_{\\phi}(g_{\\phi(\\epsilon)})] = E_{q(\\epsilon)}\\big[\\nabla_{\\phi} f_{\\phi}(g_{\\phi}(\\epsilon)\\big].$$\n",
    "\n",
    "\n",
    "The condition here is f() and g() is sufficiently smooth function. This means they are at least continuous. **So reparameterization trick does not work with discrete distribution!**. \n",
    "\n",
    "This is what was used in Variational Auto-Encoder paper.\n",
    "\n",
    "**Add some code here**\n",
    "\n",
    "\n",
    "### Non-reparameterizable random variables\n",
    "\n",
    "For some cases reparameterization is not possible. For example, all discrete distributions.\n",
    "\n",
    "By some mathematical manipulations (see Black box variational inference paper or the tutorial from Blei, and Pyro documentation), we can rewrite the gradient of interest as \n",
    "\n",
    "$$E_{q_{\\phi}(\\v{z})} \\big[ \\big( \\nabla_\\phi \\log q_\\phi(\\v{z})\\big) f_\\phi(\\v{z}) + \\nabla_{\\phi}f_\\phi(\\v{z})\\big]$$\n",
    "\n",
    "This is known as REINFORCE estimator, score function, or likeliehood ratio estimator. It is easy to estimate REINFORCE estimator using Monte Carlo methods. **Perhaps this is where Pyro discrete variable parallized enumeration ELBO comes in?**\n"
   ]
  },
  {
   "cell_type": "markdown",
   "metadata": {},
   "source": [
    "### Variance Reduction\n",
    "When estimate gradient of ELBO in general we need to apply some variance reduction technique. There are basic two main approaches.\n",
    "\n",
    "1. Rao-Blackwellization: We remove terms whose expectation are zeroes but contribute to larger variance  For each non-parameterizable $z$, we have a loss term $\\big(\\nabla_{\\phi} \\log q_{\\phi}(z) \\big)f_{\\phi}(z)$. We can remove some of the terms in $f_{\\phi}(z)$ that are not downstream of $z$. This requires dependency tracking in a given model. Typically if $z_2$ is declared after $z_2$ then it is considered to be dependent on $z_1$.\n",
    "\n",
    "2. Control variates: Instead of removing terms like in the first approach above, we add more terms."
   ]
  },
  {
   "cell_type": "markdown",
   "metadata": {},
   "source": [
    "# References\n",
    "\n",
    "1. [Pyro](http://pyro.ai/examples/svi_part_i.html#)\n",
    "2. [Gradient Estimation Using Stochastic Computation Graphs](https://arxiv.org/abs/1506.05254)"
   ]
  },
  {
   "cell_type": "code",
   "execution_count": 31,
   "metadata": {},
   "outputs": [],
   "source": [
    "import pyro\n",
    "import torch\n",
    "import seaborn as sns"
   ]
  },
  {
   "cell_type": "code",
   "execution_count": 29,
   "metadata": {},
   "outputs": [],
   "source": [
    "from pyro.distributions import Categorical, Bernoulli, Beta"
   ]
  },
  {
   "cell_type": "code",
   "execution_count": 30,
   "metadata": {},
   "outputs": [],
   "source": [
    "beta_dist = Beta(2., 3.)"
   ]
  },
  {
   "cell_type": "code",
   "execution_count": 34,
   "metadata": {},
   "outputs": [
    {
     "data": {
      "text/plain": [
       "<matplotlib.axes._subplots.AxesSubplot at 0x1a24094550>"
      ]
     },
     "execution_count": 34,
     "metadata": {},
     "output_type": "execute_result"
    },
    {
     "data": {
      "image/png": "[encoded data removed]",
      "text/plain": [
       "<Figure size 432x288 with 1 Axes>"
      ]
     },
     "metadata": {
      "needs_background": "light"
     },
     "output_type": "display_data"
    }
   ],
   "source": [
    "sns.distplot(beta_dist.sample((1000,)))"
   ]
  },
  {
   "cell_type": "code",
   "execution_count": 1,
   "metadata": {},
   "outputs": [],
   "source": [
    "s=1"
   ]
  },
  {
   "cell_type": "code",
   "execution_count": 6,
   "metadata": {},
   "outputs": [],
   "source": [
    "import pyro.distributions as dist\n",
    "import pyro\n",
    "import torch"
   ]
  },
  {
   "cell_type": "code",
   "execution_count": 7,
   "metadata": {},
   "outputs": [],
   "source": [
    "hs = pyro.sample(f'H_{s}', dist.Bernoulli(pyro.param(name='theta_s', init_tensor=torch.tensor(0.5))))"
   ]
  },
  {
   "cell_type": "code",
   "execution_count": 8,
   "metadata": {},
   "outputs": [
    {
     "data": {
      "text/plain": [
       "tensor(1.)"
      ]
     },
     "execution_count": 8,
     "metadata": {},
     "output_type": "execute_result"
    }
   ],
   "source": [
    "hs"
   ]
  },
  {
   "cell_type": "code",
   "execution_count": 11,
   "metadata": {},
   "outputs": [],
   "source": [
    "params = pyro.get_param_store()"
   ]
  },
  {
   "cell_type": "code",
   "execution_count": 13,
   "metadata": {},
   "outputs": [
    {
     "data": {
      "text/plain": [
       "tensor(0.5000, requires_grad=True)"
      ]
     },
     "execution_count": 13,
     "metadata": {},
     "output_type": "execute_result"
    }
   ],
   "source": [
    "params['theta_s']"
   ]
  },
  {
   "cell_type": "code",
   "execution_count": 15,
   "metadata": {},
   "outputs": [],
   "source": [
    "dom_size = 10"
   ]
  },
  {
   "cell_type": "code",
   "execution_count": 21,
   "metadata": {},
   "outputs": [],
   "source": [
    "init_tensor = 1/dom_size * torch.ones(size=(10,))"
   ]
  },
  {
   "cell_type": "code",
   "execution_count": 23,
   "metadata": {},
   "outputs": [],
   "source": [
    "m = 1"
   ]
  },
  {
   "cell_type": "code",
   "execution_count": 24,
   "metadata": {},
   "outputs": [
    {
     "data": {
      "text/plain": [
       "Categorical(probs: torch.Size([10]))"
      ]
     },
     "execution_count": 24,
     "metadata": {},
     "output_type": "execute_result"
    }
   ],
   "source": [
    "dist.Categorical(probs=pyro.param(name=f'theta_{m}', init_tensor=init_tensor ))"
   ]
  },
  {
   "cell_type": "code",
   "execution_count": 25,
   "metadata": {},
   "outputs": [
    {
     "data": {
      "text/plain": [
       "tensor([0.1000, 0.1000, 0.1000, 0.1000, 0.1000, 0.1000, 0.1000, 0.1000, 0.1000,\n",
       "        0.1000], requires_grad=True)"
      ]
     },
     "execution_count": 25,
     "metadata": {},
     "output_type": "execute_result"
    }
   ],
   "source": [
    "params['theta_1']"
   ]
  },
  {
   "cell_type": "code",
   "execution_count": null,
   "metadata": {},
   "outputs": [],
   "source": [
    "torch.constr"
   ]
  },
  {
   "cell_type": "code",
   "execution_count": 26,
   "metadata": {},
   "outputs": [],
   "source": [
    "import numpy as np"
   ]
  },
  {
   "cell_type": "code",
   "execution_count": 28,
   "metadata": {},
   "outputs": [],
   "source": [
    "mask = np.ones((3,3))"
   ]
  },
  {
   "cell_type": "code",
   "execution_count": 30,
   "metadata": {},
   "outputs": [
    {
     "data": {
      "text/plain": [
       "1.0"
      ]
     },
     "execution_count": 30,
     "metadata": {},
     "output_type": "execute_result"
    }
   ],
   "source": [
    "mask[0,2]"
   ]
  },
  {
   "cell_type": "code",
   "execution_count": 32,
   "metadata": {},
   "outputs": [],
   "source": [
    "s = 1\n",
    "c=3"
   ]
  },
  {
   "cell_type": "code",
   "execution_count": 33,
   "metadata": {},
   "outputs": [
    {
     "data": {
      "text/plain": [
       "'b_(1, 3)'"
      ]
     },
     "execution_count": 33,
     "metadata": {},
     "output_type": "execute_result"
    }
   ],
   "source": [
    "f'b_{s,c}'"
   ]
  },
  {
   "cell_type": "code",
   "execution_count": 34,
   "metadata": {},
   "outputs": [
    {
     "data": {
      "text/plain": [
       "\u001b[0;31mInit signature:\u001b[0m \u001b[0mdist\u001b[0m\u001b[0;34m.\u001b[0m\u001b[0mDirichlet\u001b[0m\u001b[0;34m(\u001b[0m\u001b[0mconcentration\u001b[0m\u001b[0;34m,\u001b[0m \u001b[0mvalidate_args\u001b[0m\u001b[0;34m=\u001b[0m\u001b[0;32mNone\u001b[0m\u001b[0;34m)\u001b[0m\u001b[0;34m\u001b[0m\u001b[0;34m\u001b[0m\u001b[0m\n",
       "\u001b[0;31mDocstring:\u001b[0m     \n",
       "Wraps :class:`torch.distributions.dirichlet.Dirichlet` with\n",
       ":class:`~pyro.distributions.torch_distribution.TorchDistributionMixin`.\n",
       "\u001b[0;31mFile:\u001b[0m           ~/miniconda3/envs/sdk/lib/python3.6/site-packages/pyro/distributions/torch.py\n",
       "\u001b[0;31mType:\u001b[0m           ABCMeta\n",
       "\u001b[0;31mSubclasses:\u001b[0m     \n"
      ]
     },
     "metadata": {},
     "output_type": "display_data"
    }
   ],
   "source": [
    "dist.Dirichlet?"
   ]
  },
  {
   "cell_type": "code",
   "execution_count": 36,
   "metadata": {},
   "outputs": [
    {
     "data": {
      "text/plain": [
       "\u001b[0;31mSignature:\u001b[0m \u001b[0mpyro\u001b[0m\u001b[0;34m.\u001b[0m\u001b[0msample\u001b[0m\u001b[0;34m(\u001b[0m\u001b[0mname\u001b[0m\u001b[0;34m,\u001b[0m \u001b[0mfn\u001b[0m\u001b[0;34m,\u001b[0m \u001b[0;34m*\u001b[0m\u001b[0margs\u001b[0m\u001b[0;34m,\u001b[0m \u001b[0;34m**\u001b[0m\u001b[0mkwargs\u001b[0m\u001b[0;34m)\u001b[0m\u001b[0;34m\u001b[0m\u001b[0;34m\u001b[0m\u001b[0m\n",
       "\u001b[0;31mDocstring:\u001b[0m\n",
       "Calls the stochastic function `fn` with additional side-effects depending\n",
       "on `name` and the enclosing context (e.g. an inference algorithm).\n",
       "See `Intro I <http://pyro.ai/examples/intro_part_i.html>`_ and\n",
       "`Intro II <http://pyro.ai/examples/intro_part_ii.html>`_ for a discussion.\n",
       "\n",
       ":param name: name of sample\n",
       ":param fn: distribution class or function\n",
       ":param obs: observed datum (optional; should only be used in context of\n",
       "    inference) optionally specified in kwargs\n",
       ":param dict infer: Optional dictionary of inference parameters specified\n",
       "    in kwargs. See inference documentation for details.\n",
       ":returns: sample\n",
       "\u001b[0;31mFile:\u001b[0m      ~/miniconda3/envs/sdk/lib/python3.6/site-packages/pyro/primitives.py\n",
       "\u001b[0;31mType:\u001b[0m      function\n"
      ]
     },
     "metadata": {},
     "output_type": "display_data"
    }
   ],
   "source": [
    "pyro.sample?"
   ]
  },
  {
   "cell_type": "code",
   "execution_count": 43,
   "metadata": {},
   "outputs": [
    {
     "ename": "SyntaxError",
     "evalue": "positional argument follows keyword argument (<ipython-input-43-c6dc7a4d91c6>, line 1)",
     "output_type": "error",
     "traceback": [
      "\u001b[0;36m  File \u001b[0;32m\"<ipython-input-43-c6dc7a4d91c6>\"\u001b[0;36m, line \u001b[0;32m1\u001b[0m\n\u001b[0;31m    b_sc = pyro.sample(name='b_sc', dist.Dirichlet(concentration=torch.tensor([0.3, 0.3, 0.3])))\u001b[0m\n\u001b[0m                                   ^\u001b[0m\n\u001b[0;31mSyntaxError\u001b[0m\u001b[0;31m:\u001b[0m positional argument follows keyword argument\n"
     ]
    }
   ],
   "source": [
    "b_sc = pyro.sample(name='b_sc', dist.Dirichlet(concentration=torch.tensor([0.3, 0.3, 0.3])))"
   ]
  },
  {
   "cell_type": "code",
   "execution_count": 41,
   "metadata": {},
   "outputs": [
    {
     "data": {
      "text/plain": [
       "tensor([0.3571, 0.0822, 0.5607])"
      ]
     },
     "execution_count": 41,
     "metadata": {},
     "output_type": "execute_result"
    }
   ],
   "source": [
    "b_sc"
   ]
  },
  {
   "cell_type": "code",
   "execution_count": 42,
   "metadata": {},
   "outputs": [
    {
     "data": {
      "text/plain": [
       "tensor(1.)"
      ]
     },
     "execution_count": 42,
     "metadata": {},
     "output_type": "execute_result"
    }
   ],
   "source": [
    "b_sc.sum()"
   ]
  },
  {
   "cell_type": "code",
   "execution_count": 44,
   "metadata": {},
   "outputs": [
    {
     "data": {
      "text/plain": [
       "\u001b[0;31mInit signature:\u001b[0m \u001b[0mdist\u001b[0m\u001b[0;34m.\u001b[0m\u001b[0mDirichlet\u001b[0m\u001b[0;34m(\u001b[0m\u001b[0mconcentration\u001b[0m\u001b[0;34m,\u001b[0m \u001b[0mvalidate_args\u001b[0m\u001b[0;34m=\u001b[0m\u001b[0;32mNone\u001b[0m\u001b[0;34m)\u001b[0m\u001b[0;34m\u001b[0m\u001b[0;34m\u001b[0m\u001b[0m\n",
       "\u001b[0;31mDocstring:\u001b[0m     \n",
       "Wraps :class:`torch.distributions.dirichlet.Dirichlet` with\n",
       ":class:`~pyro.distributions.torch_distribution.TorchDistributionMixin`.\n",
       "\u001b[0;31mFile:\u001b[0m           ~/miniconda3/envs/sdk/lib/python3.6/site-packages/pyro/distributions/torch.py\n",
       "\u001b[0;31mType:\u001b[0m           ABCMeta\n",
       "\u001b[0;31mSubclasses:\u001b[0m     \n"
      ]
     },
     "metadata": {},
     "output_type": "display_data"
    }
   ],
   "source": [
    "dist.Dirichlet?"
   ]
  },
  {
   "cell_type": "code",
   "execution_count": null,
   "metadata": {},
   "outputs": [],
   "source": []
  }
 ],
 "metadata": {
  "kernelspec": {
   "display_name": "Python 3",
   "language": "python",
   "name": "python3"
  },
  "language_info": {
   "codemirror_mode": {
    "name": "ipython",
    "version": 3
   },
   "file_extension": ".py",
   "mimetype": "text/x-python",
   "name": "python",
   "nbconvert_exporter": "python",
   "pygments_lexer": "ipython3",
   "version": "3.7.4"
  }
 },
 "nbformat": 4,
 "nbformat_minor": 4
}
