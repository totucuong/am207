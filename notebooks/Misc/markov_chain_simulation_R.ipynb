{
 "cells": [
  {
   "cell_type": "markdown",
   "metadata": {},
   "source": [
    "# Simulating from a finite-state Markov chain\n",
    "\n",
    "Suppose we want to simulate the following Markov chain\n",
    "\n",
    "![a markov chain](gfx/amarkovchain.jpg)\n",
    "\n",
    "with transition matrix:\n",
    "\n",
    "![transition matrix](gfx/transm.jpg)\n",
    "\n",
    "Here is the R code:"
   ]
  },
  {
   "cell_type": "code",
   "execution_count": 14,
   "metadata": {},
   "outputs": [],
   "source": [
    "Q = matrix(c(1/3, 1/3, 1/3, 0,\n",
    "            0, 0, 1/2,1/2,\n",
    "            0,1,0,0,\n",
    "            1/2,0,0,1/2), nrow =4, ncol=4, byrow=TRUE)"
   ]
  },
  {
   "cell_type": "code",
   "execution_count": 38,
   "metadata": {},
   "outputs": [],
   "source": [
    "# number of states\n",
    "M = nrow(Q)\n",
    "\n",
    "# number of simulation\n",
    "nsim = 10^4\n",
    "\n",
    "# storing result of simulation\n",
    "x = rep(0, nsim)\n",
    "\n",
    "# pick uniformly an intial state\n",
    "x[1] = sample(1:M,1)\n",
    "\n",
    "# sampling from Markov chain\n",
    "for (i in 2:nsim) {\n",
    "    x[i] = sample(M, 1, prob=Q[x[i-1], ])\n",
    "}"
   ]
  },
  {
   "cell_type": "markdown",
   "metadata": {},
   "source": [
    "Since we set nsim to a large number, it may be reasonble to believe that the chain is close to stationary during the latter portion of simulation. To check this, we eliminate  the first haft of the simulations to give the chain time to reach stationary"
   ]
  },
  {
   "cell_type": "code",
   "execution_count": 39,
   "metadata": {},
   "outputs": [],
   "source": [
    "x = x[-(1:(nsim/2))]"
   ]
  },
  {
   "cell_type": "code",
   "execution_count": 41,
   "metadata": {},
   "outputs": [
    {
     "data": {
      "text/html": [
       "5000"
      ],
      "text/latex": [
       "5000"
      ],
      "text/markdown": [
       "5000"
      ],
      "text/plain": [
       "[1] 5000"
      ]
     },
     "metadata": {},
     "output_type": "display_data"
    }
   ],
   "source": [
    "length(x)"
   ]
  },
  {
   "cell_type": "markdown",
   "metadata": {},
   "source": [
    "Now we compute the the number of times the chain visited each state"
   ]
  },
  {
   "cell_type": "code",
   "execution_count": 43,
   "metadata": {},
   "outputs": [
    {
     "data": {
      "text/plain": [
       "x\n",
       "   1    2    3    4 \n",
       "1060 1424 1099 1417 "
      ]
     },
     "metadata": {},
     "output_type": "display_data"
    }
   ],
   "source": [
    "table(x)"
   ]
  },
  {
   "cell_type": "markdown",
   "metadata": {},
   "source": [
    "Normalize them we have an approximiation to the stationary distribution"
   ]
  },
  {
   "cell_type": "code",
   "execution_count": 45,
   "metadata": {},
   "outputs": [
    {
     "data": {
      "text/plain": [
       "x\n",
       "     1      2      3      4 \n",
       "0.2120 0.2848 0.2198 0.2834 "
      ]
     },
     "metadata": {},
     "output_type": "display_data"
    }
   ],
   "source": [
    "table(x)/length(x)"
   ]
  },
  {
   "cell_type": "code",
   "execution_count": 46,
   "metadata": {},
   "outputs": [
    {
     "data": {
      "text/html": [
       "1"
      ],
      "text/latex": [
       "1"
      ],
      "text/markdown": [
       "1"
      ],
      "text/plain": [
       "[1] 1"
      ]
     },
     "metadata": {},
     "output_type": "display_data"
    }
   ],
   "source": [
    "sum(table(x)/length(x))"
   ]
  },
  {
   "cell_type": "markdown",
   "metadata": {},
   "source": [
    "Note that the true stationary distribution for this Markov chain is (3/14, 2/7, 3/14, 2/7)"
   ]
  },
  {
   "cell_type": "code",
   "execution_count": 48,
   "metadata": {},
   "outputs": [
    {
     "ename": "ERROR",
     "evalue": "Error in parse(text = x, srcfile = src): <text>:1:5: unexpected ','\n1: 3/14,\n        ^\n",
     "output_type": "error",
     "traceback": [
      "Error in parse(text = x, srcfile = src): <text>:1:5: unexpected ','\n1: 3/14,\n        ^\nTraceback:\n"
     ]
    }
   ],
   "source": [
    "3/14, 2/7, 3/14, 2/7"
   ]
  },
  {
   "cell_type": "code",
   "execution_count": null,
   "metadata": {},
   "outputs": [],
   "source": []
  }
 ],
 "metadata": {
  "kernelspec": {
   "display_name": "R",
   "language": "R",
   "name": "ir"
  },
  "language_info": {
   "codemirror_mode": "r",
   "file_extension": ".r",
   "mimetype": "text/x-r-source",
   "name": "R",
   "pygments_lexer": "r",
   "version": "3.4.2"
  }
 },
 "nbformat": 4,
 "nbformat_minor": 2
}
