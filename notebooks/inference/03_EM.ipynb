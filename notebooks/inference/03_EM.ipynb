{
 "cells": [
  {
   "cell_type": "markdown",
   "metadata": {},
   "source": [
    "$\\newcommand{\\v}[1]{\\mathbf{#1}}$\n"
   ]
  },
  {
   "cell_type": "code",
   "execution_count": 1,
   "metadata": {},
   "outputs": [],
   "source": [
    "%matplotlib inline\n",
    "import matplotlib.pyplot as plt\n",
    "import pandas as pd\n",
    "import numpy as np\n",
    "from scipy.stats import multinomial\n",
    "from scipy.stats import multivariate_normal\n",
    "import seaborn as sns\n",
    "plt.rcParams['figure.figsize'] = (12,6)"
   ]
  },
  {
   "cell_type": "markdown",
   "metadata": {},
   "source": [
    "# 1. Introduction\n",
    "In a lot of situation, we do not have observation of all variables. A canonical example is missing data. Expectation maximization (EM) is a very nice algorithm to cope with this situation. Intuitively, it initializes the parameters of model with some intial values. And then the missing data are estimated by their expectation. Now we have observations on all variables, it is easy to maximize the likelihood function with respect to the parameters. Using the newly estimated parameters, it again estimated the missing data and compute new values for parameters. This process is repeated until convergece of the likelihood function or the estimated values of missing data. \n",
    "\n",
    "The terminology for variables that we do not have data about them is **hidden variables**. And the variables that we have data about them is **observed variables**. Concretely, given a probablistic model, $p(X,Z\\mid \\theta)$, where $X$ are observed variables and $Z$ are hidden variables, our job is to maximize the likehood function $p(X \\mid \\theta)$ with respect to $\\theta$. $\\theta$ represents all the parameters of the probablistic model $p(X,Z|\\theta)$. This is difficult since the values of $Z$ are hidden. If we know the values of $Z$ then  it is often easy to optimize the likehood function by just deriving its functional form and apply any opitimization technique such as gradient ascent.\n",
    "\n",
    "The general steps of EM is as follows.\n",
    "\n",
    "1. $\\theta^{old} = \\theta^{initial}$\n",
    "2. **E-step:** Evaluate $p(Z \\mid X, \\theta^{old})$\n",
    "3. **M-step:** Evaluate $\\theta^{new}$ given by $\\theta^{new} = argmax_{\\theta} Q(\\theta, \\theta^{old}),$ where $Q(\\theta, \\theta^{old})$ are the expectation of complete log likelihood wrt the posterior condiational distribution of hidden variables $Z$: $Q(\\theta, \\theta^{old}) = \\sum_{Z}p(Z \\mid X, \\theta^{old})\\ln p(X, Z \\mid \\theta)$\n",
    "4. Check the convergence of either log likelihood or parameter values. If the convergence criterio is not satisfied then let $\\theta^{old} = \\theta^{new}$, repeat step 2."
   ]
  },
  {
   "cell_type": "markdown",
   "metadata": {},
   "source": [
    "# 2. K-means Clustering\n",
    "\n",
    "The k-means clustering is a simple clustering algorithm and it will help us illustrating the concept of EM.\n",
    "\n",
    "Given a data set $\\{\\v{x}_1, \\dots, \\v{x}_N\\}$, and the number of cluster $K$, we want to label each data points with a cluster label from 1 to K. \n",
    "\n",
    "We introduce an indicator variable $r_{nk}$ which is 1 if $\\v{x}_1$ is assigned to cluster k, and 0 otherwise. \n",
    "\n",
    "Intuitively, we want to label data points so that the distances among points in the same cluster is small relatively to points that are outside the cluster. To formalize this intuition, we  introduce K prototype vectors $\\mu_k$, which can be thought of as a representative for each cluster. \n",
    "\n",
    "Hence to discover clusters of data points, we need to minize the following quantity: $$J = \\sum_{n=1}^{N}\\sum_{k=1}^{K}r_{nk}|x_n - \\mu_k|^2$$.\n",
    "\n",
    "Note that we use two single vertical bars to denote the norm-2 of a vector, i.e., its length.\n",
    "\n",
    "Our goal is to find $\\{r_{nk}\\}$ and $\\{\\mu_k\\}$ to minize J. We can use EM to solve this problem:\n",
    "\n",
    "1. **E-step**: Updating $\\{r_{nk}\\}$ (hidden variable) $r_{nk} = 1$ if $k = argmin_j |x_n - \\mu_j|^2$, 0 otherwise.\n",
    "2. **M-step**: Updating $\\{\\mu_k\\}$ (reestimate model parameters) \n",
    "    - $$\\mu_k = \\frac{\\sum_n r_{nk}x_n}{\\sum_n r_{nk}}$$\n",
    "3. Repeat until convergence or max iteration is reached"
   ]
  },
  {
   "cell_type": "code",
   "execution_count": 10,
   "metadata": {},
   "outputs": [],
   "source": [
    "from scipy.spatial.distance import cdist\n",
    "\n",
    "class KMeans(object):\n",
    "\n",
    "    def __init__(self, n_clusters):\n",
    "        self.n_clusters = n_clusters\n",
    "\n",
    "    def fit(self, X, iter_max=100):\n",
    "        \"\"\"\n",
    "        perform k-means algorithm\n",
    "\n",
    "        Parameters\n",
    "        ----------\n",
    "        X : (sample_size, n_features) ndarray\n",
    "            input data\n",
    "        iter_max : int\n",
    "            maximum number of iterations\n",
    "\n",
    "        Returns\n",
    "        -------\n",
    "        centers : (n_clusters, n_features) ndarray\n",
    "            center of each cluster\n",
    "        \"\"\"\n",
    "        I = np.eye(self.n_clusters)\n",
    "        centers = X[np.random.choice(len(X), self.n_clusters, replace=False)]\n",
    "        for _ in range(iter_max):\n",
    "            prev_centers = np.copy(centers)\n",
    "            \n",
    "            # E-step recompute cluster assignment\n",
    "            D = cdist(X, centers)\n",
    "            cluster_index = np.argmin(D, axis=1)\n",
    "            cluster_index = I[cluster_index]\n",
    "            # M-step recompute cluster\n",
    "            # http://scipy.github.io/old-wiki/pages/EricsBroadcastingDoc\n",
    "            centers = np.sum(X[:, np.newaxis, :] * cluster_index[:, :, np.newaxis], axis=0) / np.sum(cluster_index, axis=0)[:, np.newaxis]\n",
    "            \n",
    "            # check for convergence of cluster\n",
    "            if np.allclose(prev_centers, centers):\n",
    "                break\n",
    "        self.centers = centers\n",
    "\n",
    "    def predict(self, X):\n",
    "        \"\"\"\n",
    "        calculate closest cluster center index\n",
    "\n",
    "        Parameters\n",
    "        ----------\n",
    "        X : (sample_size, n_features) ndarray\n",
    "            input data\n",
    "\n",
    "        Returns\n",
    "        -------\n",
    "        index : (sample_size,) ndarray\n",
    "            indicates which cluster they belong\n",
    "        \"\"\"\n",
    "        D = cdist(X, self.centers)\n",
    "        return np.argmin(D, axis=1)"
   ]
  },
  {
   "cell_type": "code",
   "execution_count": 11,
   "metadata": {},
   "outputs": [],
   "source": [
    "np.random.seed(2018)"
   ]
  },
  {
   "cell_type": "code",
   "execution_count": 12,
   "metadata": {},
   "outputs": [],
   "source": [
    "# training data\n",
    "x1 = np.random.normal(size=(100, 2))\n",
    "x1 += np.array([-5, -5])\n",
    "x2 = np.random.normal(size=(100, 2))\n",
    "x2 += np.array([5, -5])\n",
    "x3 = np.random.normal(size=(100, 2))\n",
    "x3 += np.array([0, 5])\n",
    "x_train = np.vstack((x1, x2, x3))\n",
    "\n",
    "x0, x1 = np.meshgrid(np.linspace(-10, 10, 100), np.linspace(-10, 10, 100))\n",
    "x = np.array([x0, x1]).reshape(2, -1).T"
   ]
  },
  {
   "cell_type": "code",
   "execution_count": 13,
   "metadata": {},
   "outputs": [
    {
     "data": {
      "image/png": "[encoded data removed]",
      "text/plain": [
       "<Figure size 432x288 with 1 Axes>"
      ]
     },
     "metadata": {
      "needs_background": "light"
     },
     "output_type": "display_data"
    }
   ],
   "source": [
    "kmeans = KMeans(n_clusters=3)\n",
    "kmeans.fit(x_train)\n",
    "cluster = kmeans.predict(x_train)\n",
    "plt.scatter(x_train[:, 0], x_train[:, 1], c=cluster)\n",
    "plt.scatter(kmeans.centers[:, 0], kmeans.centers[:, 1], s=200, marker='X', lw=2, c=['purple', 'cyan', 'yellow'], edgecolor=\"white\")\n",
    "plt.contourf(x0, x1, kmeans.predict(x).reshape(100, 100), alpha=0.1)\n",
    "plt.xlim(-10, 10)\n",
    "plt.ylim(-10, 10)\n",
    "plt.gca().set_aspect('equal', adjustable='box')\n",
    "plt.show()"
   ]
  },
  {
   "cell_type": "markdown",
   "metadata": {},
   "source": [
    "# 3. Gaussian Mixture Model (GMM)\n",
    "\n",
    "\n",
    "\n",
    "$$p(x \\mid \\{\\theta_k\\}) = \\sum_k \\pi_k N(x \\mid \\mu_k, \\Sigma_k)$$\n",
    "\n",
    ",where $\\pi_k$ are mixing coefficients and $\\sum_k \\pi_k = 1$.\n",
    "\n",
    "We can view the above formula from the latent variable point of view by introducing a latent variable $z$ having K possible states and encode $z$ using 1-of-K representation in which a particular element $z_k$ is equal to 1 and all other elements are equal to 0. The values of $z_k$ therefore satisify $z_k \\in {0,1}$ and $\\sum_k z_k = 1$. We define the joint distribution $p(\\v{x}, \\v{z})$ in terms of $p(\\v{z})$ and $p(\\v{x} \\mid \\v{z})$\n",
    "\n",
    "We have $$p(\\v{z}) = \\prod_{k=1}^{K}\\pi_k^{z_k}$$\n",
    "\n",
    "and \n",
    "\n",
    "$$p(\\v{x} \\mid \\v{z}) = \\prod_{k=1}^{K}\\cal{N}(\\mu_k, \\Sigma_k)^{z_k}$$\n",
    "\n",
    "Then we have\n",
    "\n",
    "$$p(\\v{x}) = \\sum_{\\v{z}}p(\\v{x} \\mid \\v{z})p(\\v{z}) = \\sum_k \\pi_k N(\\v{x} \\mid \\mu_k, \\Sigma_k)$$\n",
    "\n",
    "### Ancestral Sampling for GMM\n"
   ]
  },
  {
   "cell_type": "code",
   "execution_count": 14,
   "metadata": {},
   "outputs": [],
   "source": [
    "# True parameter values\n",
    "mu_true = np.array([2, 5, 10])\n",
    "sigma_true = np.array([0.6, 0.8, 0.5])\n",
    "lambda_true = np.array([.4, .2, .4])\n",
    "n = 10000\n",
    "# Simulate from each distribution according to mixing proportion lambda\n",
    "z = multinomial.rvs(1, lambda_true, size=n)"
   ]
  },
  {
   "cell_type": "code",
   "execution_count": 15,
   "metadata": {},
   "outputs": [
    {
     "data": {
      "image/png": "[encoded data removed]",
      "text/plain": [
       "<Figure size 432x288 with 1 Axes>"
      ]
     },
     "metadata": {
      "needs_background": "light"
     },
     "output_type": "display_data"
    }
   ],
   "source": [
    "x=np.array([np.random.normal(mu_true[i.astype('bool')][0],\n",
    "                             sigma_true[i.astype('bool')][0]) for i in z])\n",
    "sns.distplot(x, bins=100);\n",
    "plt.gca().set_title('A GMM of 3 components');"
   ]
  },
  {
   "cell_type": "markdown",
   "metadata": {},
   "source": [
    "### MLE for GMM\n",
    "\n",
    "We have $$\\ln p(\\v{X} \\mid \\v{\\pi}, \\v{\\mu}, \\v{\\Sigma}) = \\sum_{n=1}^{N}\\ln (\\sum_{k=1}^{K} \\pi_k)\\cal{N}(\\v{x} \\mid \\v{\\mu}_k, \\v{\\Sigma}_k)$$\n",
    "\n",
    "There are three sets of parameters $\\mu_k, \\Sigma_k, \\pi_k$, because of the sum inside the logarithm, we will not find a closed form solution when minimizing the log likelihood of a GMM. This is the reason why we use EM to optimize the log likelihood. For derivation of ML formula, please refer to Bishop book."
   ]
  },
  {
   "cell_type": "markdown",
   "metadata": {},
   "source": [
    "### EM for GMM\n",
    "In this section, we will derive the EM algorithm steps for GMM using the guidance of the general algorithm of EM that we discussed at the beginning. But first, let's look at the graphical representation of GMM is as follows: \n",
    "\n",
    "![graphical representation of GMM](./gfx/gmm.pdf)\n",
    "\n",
    "The node $x_n$ is shaded because $x_n$ is an observed variables. The plate repsentation a duplication of variables that are insided it. The index that is at the bottom right corner of the plate indicates how many times the reptition is done. Here we have $N$ data points so the number of reptition will be $N$.\n",
    "\n",
    "We have the log-likelihood of complete data:\n",
    "\\begin{align}\n",
    "\\ln p(\\v{X},\\v{Z}) &=  \\ln \\prod_{n=1}^{N}\\prod_{k=1}^{K}\\pi_k^{z_{nk}} N(x_n | \\mu_k, \\Sigma_k)^{z_{nk}}\\\\\n",
    "                    &= \\sum_{n=1}^{N} \\sum_{k=1}^{K} z_{nk}(\\ln \\pi_k + \\ln N(x_n, | \\mu_k, \\Sigma_k))\n",
    "\\end{align}\n",
    "\n",
    "The **E-step** is to compute the expectation of log-likelihood of complete data with respect to the posterior distribution of hidden variables. In GMM, this means computing $$E_{Z}[\\ln p(\\v{X},\\v{Z}|\\pi, \\mu, \\Sigma])$$ with respect to $p(\\v{Z}|\\v{X}) = \\prod_{n=1}^{N}p(z_n|x_n)$, according to the graphical model. The fact that posterior distribution of $\\v{Z}$ is factorized over data points is important since then it is easier to compute the expectation of log-likelihood of complete data. That is:\n",
    "\n",
    "\\begin{align}\n",
    "E_{Z}[\\ln p(\\v{X},\\v{Z}|\\pi, \\mu, \\Sigma]) &= E_{Z}[\\sum_{n=1}^{N} \\sum_{k=1}^{K} z_{nk}(\\ln \\pi_k + \\ln N(x_n, | \\mu_k, \\Sigma_k))]\\\\\n",
    "                                            &= \\sum_{n=1}^{N} \\sum_{k=1}^{K} E_{Z}[z_{nk}](\\ln \\pi_k + \\ln N(x_n, | \\mu_k, \\Sigma_k))]\\\\\n",
    "                                            &= \\sum_{n=1}^{N} \\sum_{k=1}^{K} E_{z_n}[z_{nk}](\\ln \\pi_k + \\ln N(x_n, | \\mu_k, \\Sigma_k))]\n",
    "\\end{align}\n",
    "\n",
    "The last equality is due to the factorization of posterior distribution of hidden variables that we have just mentioned above. Now we just need to compute $E_{z_n}[z_{nk}]$! This is easy, we just need to stick to the definition of expectation:\n",
    "\n",
    "$\\begin{align}\n",
    "E_{z_n}[z_{nk}] &= \\sum_{z_n}z_{nk}p(z_n|x_n)\\\\\n",
    "\\end{align}$\n",
    "\n",
    "Recall that $p(z_n | x_n) \\propto p(z_n)p(x_n|x_n) = \\prod_{k^\\prime}^{K}\\pi_{k^\\prime}^{z_{nk^\\prime}}\\prod_{k^\\prime}^{K}N(x_n|\\mu_{k^\\prime}, \\Sigma_{k^\\prime})^{z_{nk^\\prime}}$ \n",
    "\n",
    "Normalizing over all possible values of $z_{n}$, and plug $p(z_n|x_n)$ back, we have:\n",
    "\n",
    "$$E_{z_n}[z_{nk}] = \\frac{\\pi_k N(x_n | \\mu_k, \\Sigma_k)}{ \\sum_{j=1}^{K}\\pi_j N(x_n | \\mu_j, \\Sigma_j)} = \\gamma(z_{nk})$$\n",
    "\n",
    "This ammount is called the *responstibility* of component $k$ in explaning the data point $x_n$"
   ]
  },
  {
   "cell_type": "markdown",
   "metadata": {},
   "source": [
    "The **M-step** is to maximize the expectation of the log-likeklihood of complete data with respect to model parameters. This give rise to the following update rules:\n",
    "\n",
    "![M-step](../gfx/m_step.png)"
   ]
  },
  {
   "cell_type": "markdown",
   "metadata": {},
   "source": [
    "That is, now we can have the EM for GMM as follows.\n",
    "\n",
    "1. Set the means $\\v{\\mu}$, variances $\\v{\\Sigma}$, and mixing components $\\v{\\pi}$ to some intial values. Then evaluate the initial value of the log likelihood. \n",
    "2. E-step: Evaluate the responsibilities using the current parameters: $$\\gamma(z_{nk}) = \\frac{\\pi_k N(\\v{x}_n | \\v{\\mu}_k, \\v{\\Sigma}_k)}{\\sum_{j=1}^{K}\\pi_jN(\\v{x}_n | \\v{\\mu}_j, \\v{\\Sigma}_j)}$$\n",
    "3. M-step: Re-estimate the parameters using the current responsibilities using the above update rules.\n",
    "4. Recompute the log-likehood: ![log-likelihood](../gfx/log_likehood.png)"
   ]
  },
  {
   "cell_type": "code",
   "execution_count": 16,
   "metadata": {},
   "outputs": [],
   "source": [
    "class RandomVariable(object):\n",
    "    \"\"\"\n",
    "    base class for random variables\n",
    "    \"\"\"\n",
    "\n",
    "    def __init__(self):\n",
    "        self.parameter = {}\n",
    "\n",
    "    def __repr__(self):\n",
    "        string = f\"{self.__class__.__name__}(\\n\"\n",
    "        for key, value in self.parameter.items():\n",
    "            string += (\" \" * 4)\n",
    "            if isinstance(value, RandomVariable):\n",
    "                string += f\"{key}={value:8}\"\n",
    "            else:\n",
    "                string += f\"{key}={value}\"\n",
    "            string += \"\\n\"\n",
    "        string += \")\"\n",
    "        return string\n",
    "\n",
    "    def __format__(self, indent=\"4\"):\n",
    "        indent = int(indent)\n",
    "        string = f\"{self.__class__.__name__}(\\n\"\n",
    "        for key, value in self.parameter.items():\n",
    "            string += (\" \" * indent)\n",
    "            if isinstance(value, RandomVariable):\n",
    "                string += f\"{key}=\" + value.__format__(str(indent + 4))\n",
    "            else:\n",
    "                string += f\"{key}={value}\"\n",
    "            string += \"\\n\"\n",
    "        string += (\" \" * (indent - 4)) + \")\"\n",
    "        return string\n",
    "\n",
    "    def fit(self, X, **kwargs):\n",
    "        \"\"\"\n",
    "        estimate parameter(s) of the distribution\n",
    "\n",
    "        Parameters\n",
    "        ----------\n",
    "        X : np.ndarray\n",
    "            observed data\n",
    "        \"\"\"\n",
    "        self._check_input(X)\n",
    "        if hasattr(self, \"_fit\"):\n",
    "            self._fit(X, **kwargs)\n",
    "        else:\n",
    "            raise NotImplementedError\n",
    "\n",
    "    # def ml(self, X, **kwargs):\n",
    "    #     \"\"\"\n",
    "    #     maximum likelihood estimation of the parameter(s)\n",
    "    #     of the distribution given data\n",
    "\n",
    "    #     Parameters\n",
    "    #     ----------\n",
    "    #     X : (sample_size, ndim) np.ndarray\n",
    "    #         observed data\n",
    "    #     \"\"\"\n",
    "    #     self._check_input(X)\n",
    "    #     if hasattr(self, \"_ml\"):\n",
    "    #         self._ml(X, **kwargs)\n",
    "    #     else:\n",
    "    #         raise NotImplementedError\n",
    "\n",
    "    # def map(self, X, **kwargs):\n",
    "    #     \"\"\"\n",
    "    #     maximum a posteriori estimation of the parameter(s)\n",
    "    #     of the distribution given data\n",
    "\n",
    "    #     Parameters\n",
    "    #     ----------\n",
    "    #     X : (sample_size, ndim) np.ndarray\n",
    "    #         observed data\n",
    "    #     \"\"\"\n",
    "    #     self._check_input(X)\n",
    "    #     if hasattr(self, \"_map\"):\n",
    "    #         self._map(X, **kwargs)\n",
    "    #     else:\n",
    "    #         raise NotImplementedError\n",
    "\n",
    "    # def bayes(self, X, **kwargs):\n",
    "    #     \"\"\"\n",
    "    #     bayesian estimation of the parameter(s)\n",
    "    #     of the distribution given data\n",
    "\n",
    "    #     Parameters\n",
    "    #     ----------\n",
    "    #     X : (sample_size, ndim) np.ndarray\n",
    "    #         observed data\n",
    "    #     \"\"\"\n",
    "    #     self._check_input(X)\n",
    "    #     if hasattr(self, \"_bayes\"):\n",
    "    #         self._bayes(X, **kwargs)\n",
    "    #     else:\n",
    "    #         raise NotImplementedError\n",
    "\n",
    "    def pdf(self, X):\n",
    "        \"\"\"\n",
    "        compute probability density function\n",
    "        p(X|parameter)\n",
    "\n",
    "        Parameters\n",
    "        ----------\n",
    "        X : (sample_size, ndim) np.ndarray\n",
    "            input of the function\n",
    "\n",
    "        Returns\n",
    "        -------\n",
    "        p : (sample_size,) np.ndarray\n",
    "            value of probability density function for each input\n",
    "        \"\"\"\n",
    "        self._check_input(X)\n",
    "        if hasattr(self, \"_pdf\"):\n",
    "            return self._pdf(X)\n",
    "        else:\n",
    "            raise NotImplementedError\n",
    "\n",
    "    def draw(self, sample_size=1):\n",
    "        \"\"\"\n",
    "        draw samples from the distribution\n",
    "\n",
    "        Parameters\n",
    "        ----------\n",
    "        sample_size : int\n",
    "            sample size\n",
    "\n",
    "        Returns\n",
    "        -------\n",
    "        sample : (sample_size, ndim) np.ndarray\n",
    "            generated samples from the distribution\n",
    "        \"\"\"\n",
    "        assert isinstance(sample_size, int)\n",
    "        if hasattr(self, \"_draw\"):\n",
    "            return self._draw(sample_size)\n",
    "        else:\n",
    "            raise NotImplementedError\n",
    "\n",
    "    def _check_input(self, X):\n",
    "        assert isinstance(X, np.ndarray)\n",
    "\n",
    "class MultivariateGaussianMixture(RandomVariable):\n",
    "    \"\"\"\n",
    "    p(x|mu, L, pi(coef))\n",
    "    = sum_k pi_k N(x|mu_k, L_k^-1)\n",
    "    \"\"\"\n",
    "\n",
    "    def __init__(self,\n",
    "                 n_components,\n",
    "                 mu=None,\n",
    "                 cov=None,\n",
    "                 tau=None,\n",
    "                 coef=None):\n",
    "        \"\"\"\n",
    "        construct mixture of Gaussians\n",
    "\n",
    "        Parameters\n",
    "        ----------\n",
    "        n_components : int\n",
    "            number of gaussian component\n",
    "        mu : (n_components, ndim) np.ndarray\n",
    "            mean parameter of each gaussian component\n",
    "        cov : (n_components, ndim, ndim) np.ndarray\n",
    "            variance parameter of each gaussian component\n",
    "        tau : (n_components, ndim, ndim) np.ndarray\n",
    "            precision parameter of each gaussian component\n",
    "        coef : (n_components,) np.ndarray\n",
    "            mixing coefficients\n",
    "        \"\"\"\n",
    "        super().__init__()\n",
    "        assert isinstance(n_components, int)\n",
    "        self.n_components = n_components\n",
    "        self.mu = mu\n",
    "        if cov is not None and tau is not None:\n",
    "            raise ValueError(\"Cannot assign both cov and tau at a time\")\n",
    "        elif cov is not None:\n",
    "            self.cov = cov\n",
    "        elif tau is not None:\n",
    "            self.tau = tau\n",
    "        else:\n",
    "            self.cov = None\n",
    "            self.tau = None\n",
    "        self.coef = coef\n",
    "\n",
    "    @property\n",
    "    def mu(self):\n",
    "        return self.parameter[\"mu\"]\n",
    "\n",
    "    @mu.setter\n",
    "    def mu(self, mu):\n",
    "        if isinstance(mu, np.ndarray):\n",
    "            assert mu.ndim == 2\n",
    "            assert np.size(mu, 0) == self.n_components\n",
    "            self.ndim = np.size(mu, 1)\n",
    "            self.parameter[\"mu\"] = mu\n",
    "        elif mu is None:\n",
    "            self.parameter[\"mu\"] = None\n",
    "        else:\n",
    "            raise TypeError(\"mu must be either np.ndarray or None\")\n",
    "\n",
    "    @property\n",
    "    def cov(self):\n",
    "        return self.parameter[\"cov\"]\n",
    "\n",
    "    @cov.setter\n",
    "    def cov(self, cov):\n",
    "        if isinstance(cov, np.ndarray):\n",
    "            assert cov.shape == (self.n_components, self.ndim, self.ndim)\n",
    "            self._tau = np.linalg.inv(cov)\n",
    "            self.parameter[\"cov\"] = cov\n",
    "        elif cov is None:\n",
    "            self.parameter[\"cov\"] = None\n",
    "            self._tau = None\n",
    "        else:\n",
    "            raise TypeError(\"cov must be either np.ndarray or None\")\n",
    "\n",
    "    @property\n",
    "    def tau(self):\n",
    "        return self._tau\n",
    "\n",
    "    @tau.setter\n",
    "    def tau(self, tau):\n",
    "        if isinstance(tau, np.ndarray):\n",
    "            assert tau.shape == (self.n_components, self.ndim, self.ndim)\n",
    "            self.parameter[\"cov\"] = np.linalg.inv(tau)\n",
    "            self._tau = tau\n",
    "        elif tau is None:\n",
    "            self.parameter[\"cov\"] = None\n",
    "            self._tau = None\n",
    "        else:\n",
    "            raise TypeError(\"tau must be either np.ndarray or None\")\n",
    "\n",
    "    @property\n",
    "    def coef(self):\n",
    "        return self.parameter[\"coef\"]\n",
    "\n",
    "    @coef.setter\n",
    "    def coef(self, coef):\n",
    "        if isinstance(coef, np.ndarray):\n",
    "            assert coef.ndim == 1\n",
    "            if np.isnan(coef).any():\n",
    "                self.parameter[\"coef\"] = np.ones(self.n_components) / self.n_components\n",
    "            elif not np.allclose(coef.sum(), 1):\n",
    "                raise ValueError(f\"sum of coef must be equal to 1 {coef}\")\n",
    "            self.parameter[\"coef\"] = coef\n",
    "        elif coef is None:\n",
    "            self.parameter[\"coef\"] = None\n",
    "        else:\n",
    "            raise TypeError(\"coef must be either np.ndarray or None\")\n",
    "\n",
    "    @property\n",
    "    def shape(self):\n",
    "        if hasattr(self.mu, \"shape\"):\n",
    "            return self.mu.shape[1:]\n",
    "        else:\n",
    "            return None\n",
    "\n",
    "    def _gauss(self, X):\n",
    "        d = X[:, None, :] - self.mu\n",
    "        D_sq = np.sum(np.einsum('nki,kij->nkj', d, self.tau) * d, -1)\n",
    "        return (\n",
    "            np.exp(-0.5 * D_sq)\n",
    "            / np.sqrt(\n",
    "                np.linalg.det(self.cov) * (2 * np.pi) ** self.ndim\n",
    "            )\n",
    "        )\n",
    "\n",
    "    def _fit(self, X):\n",
    "        cov = np.cov(X.T)\n",
    "        kmeans = KMeans(self.n_components)\n",
    "        kmeans.fit(X)\n",
    "        self.mu = kmeans.centers\n",
    "        self.cov = np.array([cov for _ in range(self.n_components)])\n",
    "        self.coef = np.ones(self.n_components) / self.n_components\n",
    "        params = np.hstack(\n",
    "            (self.mu.ravel(),\n",
    "             self.cov.ravel(),\n",
    "             self.coef.ravel())\n",
    "        )\n",
    "        while True:\n",
    "            stats = self._expectation(X)\n",
    "            self._maximization(X, stats)\n",
    "            new_params = np.hstack(\n",
    "                (self.mu.ravel(),\n",
    "                 self.cov.ravel(),\n",
    "                 self.coef.ravel())\n",
    "            )\n",
    "            if np.allclose(params, new_params):\n",
    "                break\n",
    "            else:\n",
    "                params = new_params\n",
    "\n",
    "    def _expectation(self, X):\n",
    "        resps = self.coef * self._gauss(X)\n",
    "        resps /= resps.sum(axis=-1, keepdims=True)\n",
    "        return resps\n",
    "\n",
    "    def _maximization(self, X, resps):\n",
    "        Nk = np.sum(resps, axis=0)\n",
    "        self.coef = Nk / len(X)\n",
    "        self.mu = (X.T @ resps / Nk).T\n",
    "        d = X[:, None, :] - self.mu\n",
    "        self.cov = np.einsum(\n",
    "            'nki,nkj->kij', d, d * resps[:, :, None]) / Nk[:, None, None]\n",
    "\n",
    "    def joint_proba(self, X):\n",
    "        \"\"\"\n",
    "        calculate joint probability p(X, Z)\n",
    "\n",
    "        Parameters\n",
    "        ----------\n",
    "        X : (sample_size, n_features) ndarray\n",
    "            input data\n",
    "\n",
    "        Returns\n",
    "        -------\n",
    "        joint_prob : (sample_size, n_components) ndarray\n",
    "            joint probability of input and component\n",
    "        \"\"\"\n",
    "        return self.coef * self._gauss(X)\n",
    "\n",
    "    def _pdf(self, X):\n",
    "        joint_prob = self.coef * self._gauss(X)\n",
    "        return np.sum(joint_prob, axis=-1)\n",
    "\n",
    "    def classify(self, X):\n",
    "        \"\"\"\n",
    "        classify input\n",
    "        max_z p(z|x, theta)\n",
    "\n",
    "        Parameters\n",
    "        ----------\n",
    "        X : (sample_size, ndim) ndarray\n",
    "            input\n",
    "\n",
    "        Returns\n",
    "        -------\n",
    "        output : (sample_size,) ndarray\n",
    "            corresponding cluster index\n",
    "        \"\"\"\n",
    "        return np.argmax(self.classify_proba(X), axis=1)\n",
    "\n",
    "    def classify_proba(self, X):\n",
    "        \"\"\"\n",
    "        posterior probability of cluster\n",
    "        p(z|x,theta)\n",
    "\n",
    "        Parameters\n",
    "        ----------\n",
    "        X : (sample_size, ndim) ndarray\n",
    "            input\n",
    "\n",
    "        Returns\n",
    "        -------\n",
    "        output : (sample_size, n_components) ndarray\n",
    "            posterior probability of cluster\n",
    "        \"\"\"\n",
    "        return self._expectation(X)"
   ]
  },
  {
   "cell_type": "code",
   "execution_count": 17,
   "metadata": {},
   "outputs": [
    {
     "data": {
      "image/png": "[encoded data removed]",
      "text/plain": [
       "<Figure size 432x288 with 1 Axes>"
      ]
     },
     "metadata": {
      "needs_background": "light"
     },
     "output_type": "display_data"
    }
   ],
   "source": [
    "gmm = MultivariateGaussianMixture(n_components=3)\n",
    "gmm.fit(x_train)\n",
    "p = gmm.classify_proba(x_train)\n",
    "\n",
    "plt.scatter(x_train[:, 0], x_train[:, 1], c=p)\n",
    "plt.scatter(gmm.mu[:, 0], gmm.mu[:, 1], s=200, marker='X', lw=2, c=['red', 'green', 'blue'], edgecolor=\"white\")\n",
    "plt.xlim(-10, 10)\n",
    "plt.ylim(-10, 10)\n",
    "plt.gca().set_aspect(\"equal\")\n",
    "plt.show()"
   ]
  },
  {
   "cell_type": "code",
   "execution_count": 18,
   "metadata": {},
   "outputs": [
    {
     "data": {
      "image/png": "[encoded data removed]",
      "text/plain": [
       "<Figure size 432x288 with 1 Axes>"
      ]
     },
     "metadata": {
      "needs_background": "light"
     },
     "output_type": "display_data"
    }
   ],
   "source": [
    "gmm2 = MultivariateGaussianMixture(n_components=3)\n",
    "gmm2.fit(x_train)\n",
    "p = gmm2.classify_proba(x_train)\n",
    "\n",
    "plt.scatter(x_train[:, 0], x_train[:, 1], c=p)\n",
    "plt.scatter(gmm2.mu[:, 0], gmm2.mu[:, 1], s=200, marker='X', lw=2, c=['red', 'green', 'blue'], edgecolor=\"white\")\n",
    "plt.xlim(-10, 10)\n",
    "plt.ylim(-10, 10)\n",
    "plt.gca().set_aspect(\"equal\")\n",
    "plt.show()"
   ]
  },
  {
   "cell_type": "markdown",
   "metadata": {},
   "source": [
    "# 4. An Alternative View of EM"
   ]
  },
  {
   "cell_type": "markdown",
   "metadata": {},
   "source": [
    "# A toy problem using EM\n",
    "\n",
    "Given a set of data $D = \\{(x_{1n}, x_{2n}\\}_{n=1}^{N}$, where we have values for every $x_{n1}$, the first dimension, and have only a partial observation on the second dimension $x_{2n}$. Assume that we these data follow a 2-dimensional Gaussian distribution, we will infer the values of missing (hidden) values in the second dimension.\n",
    "$$\\begin{pmatrix}x_{1}\\\\x_{2}\\end{pmatrix} \\sim \\cal{N}(\\begin{pmatrix}\\mu_1\\\\\\mu_2\\end{pmatrix}, \\begin{pmatrix}\\sigma_1^2 \\quad \\rho \\sigma_1\\sigma_2\\\\\\rho \\sigma_1\\sigma_2 \\quad \\sigma_2^2\\end{pmatrix})$$\n",
    "\n",
    "\n",
    "First we create a data set, where we have the luxury of knowing the true values. We delete part of the data along the second direction and try to recover it. We plot the samples below as blue circles. Now say we lose the y-values of the last-20 pieces of data. We are left with a missing data or hidden data or latent-variables problem. We plot both datasets below, with the y-values of the lost points set to 0"
   ]
  },
  {
   "cell_type": "code",
   "execution_count": 19,
   "metadata": {},
   "outputs": [],
   "source": [
    "sig1=1\n",
    "sig2=0.75\n",
    "mu1=1.85\n",
    "mu2=1\n",
    "rho=0.82\n",
    "means=np.array([mu1, mu2])\n",
    "cov = np.array([\n",
    "    [sig1**2, sig1*sig2*rho],\n",
    "    [sig2*sig1*rho, sig2**2]\n",
    "])\n",
    "means, cov\n",
    "np.random.seed(2018)"
   ]
  },
  {
   "cell_type": "code",
   "execution_count": 20,
   "metadata": {},
   "outputs": [
    {
     "data": {
      "image/png": "[encoded data removed]",
      "text/plain": [
       "<Figure size 432x288 with 1 Axes>"
      ]
     },
     "metadata": {
      "needs_background": "light"
     },
     "output_type": "display_data"
    }
   ],
   "source": [
    "samples=np.random.multivariate_normal(means, cov, size=40)\n",
    "samples_censored=np.copy(samples)\n",
    "samples_censored[20:,1]=0\n",
    "plt.plot(samples[:,0], samples[:,1], 'o', alpha=0.8, label='full data')\n",
    "plt.plot(samples_censored[:,0], samples_censored[:,1], 's', alpha=0.3, label='censored data')\n",
    "plt.gca().set_xlabel(r\"X - observed variable\")\n",
    "plt.gca().set_ylabel(r\"Z - hidden variable\")\n",
    "plt.legend();"
   ]
  },
  {
   "cell_type": "markdown",
   "metadata": {},
   "source": [
    "If we have no hidden variables, i.e., complete data. Then it is easy to estimate the original Gaussian distribution. The maximum likelihood estimation is: $$\\mu_{ML} = \\frac{1}{N}\\sum_{n=1}^{N}\\mathbf{x}_n$$\n",
    "\n",
    "and $$\\Sigma_{ML} = \\frac{1}{N}\\sum_{n=1}^{N}(\\mathbf{x}_n - \\mu_{ML})(\\mathbf{x}_n - \\mu_{ML})^{T}$$"
   ]
  },
  {
   "cell_type": "code",
   "execution_count": 21,
   "metadata": {},
   "outputs": [],
   "source": [
    "def plot_gaussian(mean, cov, linestyles='solid'):\n",
    "    x1 = np.linspace(-1, 5, 100)\n",
    "    x2 = np.linspace(-1, 4, 100)\n",
    "    X1, X2 = np.meshgrid(x1,x2)\n",
    "    Z = np.array([X1, X2]).transpose(1,2,0)\n",
    "    model = multivariate_normal(mean=mean, cov=cov)\n",
    "    plt.contourf(X1, X2, model.pdf(Z), alpha = 0.2, linestyles=linestyles)\n",
    "    "
   ]
  },
  {
   "cell_type": "code",
   "execution_count": 22,
   "metadata": {},
   "outputs": [
    {
     "data": {
      "image/png": "[encoded data removed]",
      "text/plain": [
       "<Figure size 432x288 with 1 Axes>"
      ]
     },
     "metadata": {
      "needs_background": "light"
     },
     "output_type": "display_data"
    }
   ],
   "source": [
    "# MLE estimate N(x|mu, cov) from complete data\n",
    "mu1 = lambda s: np.mean(s[:,0])\n",
    "mu2 = lambda s: np.mean(s[:,1])\n",
    "s1 = lambda s: np.std(s[:,0])\n",
    "s2 = lambda s: np.std(s[:,1])\n",
    "rho = lambda s: np.mean((s[:,0] - mu1(s))*(s[:,1] - mu2(s)))/(s1(s)*s2(s))\n",
    "\n",
    "# plot model\n",
    "true_empirical_mean = np.array([mu1(samples), mu2(samples)])\n",
    "true_empirical_cov = np.array([[s1(samples)**2, rho(samples)*s1(samples)*s2(samples)],\n",
    "                          [rho(samples)*s1(samples)*s2(samples), s2(samples)**2]])\n",
    "plot_gaussian(true_empirical_mean, true_empirical_cov)\n",
    "\n",
    "# plot complete data\n",
    "plt.plot(samples[:,0], samples[:,1], 'o', alpha=0.8, label='complete data')\n",
    "plt.title('Estimated Gaussian model from complete data');\n",
    "plt.legend();"
   ]
  },
  {
   "cell_type": "markdown",
   "metadata": {},
   "source": [
    "But we don't. So we shall follow an iterative process to find them. \n",
    "\n",
    "\n",
    "Let's us remember the conditional gaussian distribution formula. That is:\n",
    "\n",
    "$$\\mathbf{x} = \\begin{pmatrix}\\mathbf{x}_a\\\\ \\mathbf{x}_b\\end{pmatrix} \\sim \\cal{N}(\\mu, \\Sigma),$$ where\n",
    "\n",
    "$$\\mu = \\begin{pmatrix}\\mu_a \\\\ \\mu_b\\end{pmatrix}$$\n",
    "\n",
    "and $$\\Sigma = \\begin{pmatrix}\\Sigma_{aa} \\quad \\Sigma_{ab}\\\\ \\Sigma_{ba} \\quad \\Sigma_{bb}\\end{pmatrix}$$\n",
    "\n",
    "Then we have the conditional distribution $p(\\mathbf{x}_a \\mid \\mathbf{x}_b)$ is a also Gaussian distribution with mean and covarviance as follows.\n",
    "\n",
    "$$\\mu_{a|b} =  \\mu_a + \\Sigma_{ab}\\Sigma_{bb}^{-1}(\\mathbf{x}_b - \\mu_b)$$ and\n",
    "\n",
    "$$\\Sigma_{a|b} = \\Sigma_{aa} - \\Sigma_{ab}\\Sigma_{bb}^{-1}\\Sigma_{ba}$$"
   ]
  },
  {
   "cell_type": "code",
   "execution_count": 23,
   "metadata": {},
   "outputs": [],
   "source": [
    "mu1s=[]\n",
    "mu2s=[]\n",
    "s1s=[]\n",
    "s2s=[]\n",
    "rhos=[]"
   ]
  },
  {
   "cell_type": "markdown",
   "metadata": {},
   "source": [
    "Bur remember our data are missing in the y-direction. Assume 0 and go. Since we are using the MLE of the full-data likelihood, with this assumption we can use the MLE formulae. This is called M-step or maximization step since we used the MLE formulae"
   ]
  },
  {
   "cell_type": "code",
   "execution_count": 24,
   "metadata": {},
   "outputs": [
    {
     "data": {
      "text/plain": [
       "([2.087091924389681],\n",
       " [0.5687353198998151],\n",
       " [0.8095441939356555],\n",
       " [0.7551576594592054],\n",
       " [0.3359937627277947])"
      ]
     },
     "execution_count": 24,
     "metadata": {},
     "output_type": "execute_result"
    }
   ],
   "source": [
    "# perform MLE\n",
    "mu1s.append(mu1(samples_censored))\n",
    "mu2s.append(mu2(samples_censored))\n",
    "s1s.append(s1(samples_censored))\n",
    "s2s.append(s2(samples_censored))\n",
    "rhos.append(rho(samples_censored))\n",
    "mu1s,mu2s,s1s,s2s,rhos"
   ]
  },
  {
   "cell_type": "code",
   "execution_count": 25,
   "metadata": {},
   "outputs": [
    {
     "data": {
      "image/png": "[encoded data removed]",
      "text/plain": [
       "<Figure size 432x288 with 1 Axes>"
      ]
     },
     "metadata": {
      "needs_background": "light"
     },
     "output_type": "display_data"
    }
   ],
   "source": [
    "empirical_mean = np.array([mu1s[0], mu2s[0]])\n",
    "empirical_cov = np.array([[s1s[0]**2, rhos[0]*s1s[0]*s1s[0]],\n",
    "                          [rhos[0]*s1s[0]*s1s[0], s2s[0]**2]])\n",
    "plot_gaussian(mean=empirical_mean, cov=empirical_cov)\n",
    "\n",
    "# plot complete data\n",
    "plt.plot(samples_censored[:,0], samples_censored[:,1], 's', alpha=0.8, label='missing data')\n",
    "plt.legend();"
   ]
  },
  {
   "cell_type": "markdown",
   "metadata": {},
   "source": [
    "Now having new estimates of our parameters due to our (fake) y-data, lets go in the other direction. Using these parameters let us calculate new y-values.\n",
    "\n",
    "One way we might do this is to replace the old-missing-y values with the means of these fixing the parameters of the multi-variate normal and the non-missing data. In other words:"
   ]
  },
  {
   "cell_type": "code",
   "execution_count": 26,
   "metadata": {},
   "outputs": [],
   "source": [
    "# this is due to the discussion of conditional Gaussian\n",
    "def ynew(x, mu1, mu2, s1, s2, rho):\n",
    "    return mu2 + rho*(s2/s1)*(x - mu1)\n",
    "    "
   ]
  },
  {
   "cell_type": "code",
   "execution_count": 27,
   "metadata": {},
   "outputs": [
    {
     "data": {
      "text/plain": [
       "array([0.41836441, 0.74052422, 0.23434226, 1.14648744, 0.44756033,\n",
       "       0.5390403 , 0.69096987, 0.7048072 , 0.68980989, 0.51353001,\n",
       "       0.42084781, 0.44114778, 0.82880611, 0.60175183, 0.32407001,\n",
       "       0.7630257 , 0.6320556 , 0.61101177, 0.85921627, 0.57297278])"
      ]
     },
     "execution_count": 27,
     "metadata": {},
     "output_type": "execute_result"
    }
   ],
   "source": [
    "newys=ynew(samples_censored[20:,0], mu1s[0], mu2s[0], s1s[0], s2s[0], rhos[0])\n",
    "newys"
   ]
  },
  {
   "cell_type": "code",
   "execution_count": 28,
   "metadata": {},
   "outputs": [
    {
     "data": {
      "text/html": [
       "<div>\n",
       "<style scoped>\n",
       "    .dataframe tbody tr th:only-of-type {\n",
       "        vertical-align: middle;\n",
       "    }\n",
       "\n",
       "    .dataframe tbody tr th {\n",
       "        vertical-align: top;\n",
       "    }\n",
       "\n",
       "    .dataframe thead th {\n",
       "        text-align: right;\n",
       "    }\n",
       "</style>\n",
       "<table border=\"1\" class=\"dataframe\">\n",
       "  <thead>\n",
       "    <tr style=\"text-align: right;\">\n",
       "      <th></th>\n",
       "      <th>mu1</th>\n",
       "      <th>mu2</th>\n",
       "      <th>s1</th>\n",
       "      <th>s2</th>\n",
       "      <th>rho</th>\n",
       "    </tr>\n",
       "  </thead>\n",
       "  <tbody>\n",
       "    <tr>\n",
       "      <th>0</th>\n",
       "      <td>2.087092</td>\n",
       "      <td>0.568735</td>\n",
       "      <td>0.809544</td>\n",
       "      <td>0.755158</td>\n",
       "      <td>0.335994</td>\n",
       "    </tr>\n",
       "    <tr>\n",
       "      <th>1</th>\n",
       "      <td>2.087092</td>\n",
       "      <td>0.873244</td>\n",
       "      <td>0.809544</td>\n",
       "      <td>0.580764</td>\n",
       "      <td>0.660383</td>\n",
       "    </tr>\n",
       "    <tr>\n",
       "      <th>2</th>\n",
       "      <td>2.087092</td>\n",
       "      <td>1.035801</td>\n",
       "      <td>0.809544</td>\n",
       "      <td>0.551689</td>\n",
       "      <td>0.817495</td>\n",
       "    </tr>\n",
       "    <tr>\n",
       "      <th>3</th>\n",
       "      <td>2.087092</td>\n",
       "      <td>1.122437</td>\n",
       "      <td>0.809544</td>\n",
       "      <td>0.558864</td>\n",
       "      <td>0.870373</td>\n",
       "    </tr>\n",
       "    <tr>\n",
       "      <th>4</th>\n",
       "      <td>2.087092</td>\n",
       "      <td>1.168566</td>\n",
       "      <td>0.809544</td>\n",
       "      <td>0.568971</td>\n",
       "      <td>0.887767</td>\n",
       "    </tr>\n",
       "    <tr>\n",
       "      <th>5</th>\n",
       "      <td>2.087092</td>\n",
       "      <td>1.193114</td>\n",
       "      <td>0.809544</td>\n",
       "      <td>0.576027</td>\n",
       "      <td>0.894075</td>\n",
       "    </tr>\n",
       "    <tr>\n",
       "      <th>6</th>\n",
       "      <td>2.087092</td>\n",
       "      <td>1.206174</td>\n",
       "      <td>0.809544</td>\n",
       "      <td>0.580235</td>\n",
       "      <td>0.896641</td>\n",
       "    </tr>\n",
       "    <tr>\n",
       "      <th>7</th>\n",
       "      <td>2.087092</td>\n",
       "      <td>1.213120</td>\n",
       "      <td>0.809544</td>\n",
       "      <td>0.582598</td>\n",
       "      <td>0.897791</td>\n",
       "    </tr>\n",
       "    <tr>\n",
       "      <th>8</th>\n",
       "      <td>2.087092</td>\n",
       "      <td>1.216815</td>\n",
       "      <td>0.809544</td>\n",
       "      <td>0.583890</td>\n",
       "      <td>0.898342</td>\n",
       "    </tr>\n",
       "    <tr>\n",
       "      <th>9</th>\n",
       "      <td>2.087092</td>\n",
       "      <td>1.218780</td>\n",
       "      <td>0.809544</td>\n",
       "      <td>0.584587</td>\n",
       "      <td>0.898619</td>\n",
       "    </tr>\n",
       "    <tr>\n",
       "      <th>10</th>\n",
       "      <td>2.087092</td>\n",
       "      <td>1.219825</td>\n",
       "      <td>0.809544</td>\n",
       "      <td>0.584960</td>\n",
       "      <td>0.898762</td>\n",
       "    </tr>\n",
       "    <tr>\n",
       "      <th>11</th>\n",
       "      <td>2.087092</td>\n",
       "      <td>1.220381</td>\n",
       "      <td>0.809544</td>\n",
       "      <td>0.585159</td>\n",
       "      <td>0.898836</td>\n",
       "    </tr>\n",
       "    <tr>\n",
       "      <th>12</th>\n",
       "      <td>2.087092</td>\n",
       "      <td>1.220677</td>\n",
       "      <td>0.809544</td>\n",
       "      <td>0.585265</td>\n",
       "      <td>0.898875</td>\n",
       "    </tr>\n",
       "    <tr>\n",
       "      <th>13</th>\n",
       "      <td>2.087092</td>\n",
       "      <td>1.220834</td>\n",
       "      <td>0.809544</td>\n",
       "      <td>0.585322</td>\n",
       "      <td>0.898896</td>\n",
       "    </tr>\n",
       "    <tr>\n",
       "      <th>14</th>\n",
       "      <td>2.087092</td>\n",
       "      <td>1.220917</td>\n",
       "      <td>0.809544</td>\n",
       "      <td>0.585352</td>\n",
       "      <td>0.898907</td>\n",
       "    </tr>\n",
       "    <tr>\n",
       "      <th>15</th>\n",
       "      <td>2.087092</td>\n",
       "      <td>1.220962</td>\n",
       "      <td>0.809544</td>\n",
       "      <td>0.585368</td>\n",
       "      <td>0.898913</td>\n",
       "    </tr>\n",
       "    <tr>\n",
       "      <th>16</th>\n",
       "      <td>2.087092</td>\n",
       "      <td>1.220985</td>\n",
       "      <td>0.809544</td>\n",
       "      <td>0.585376</td>\n",
       "      <td>0.898916</td>\n",
       "    </tr>\n",
       "    <tr>\n",
       "      <th>17</th>\n",
       "      <td>2.087092</td>\n",
       "      <td>1.220998</td>\n",
       "      <td>0.809544</td>\n",
       "      <td>0.585381</td>\n",
       "      <td>0.898918</td>\n",
       "    </tr>\n",
       "    <tr>\n",
       "      <th>18</th>\n",
       "      <td>2.087092</td>\n",
       "      <td>1.221005</td>\n",
       "      <td>0.809544</td>\n",
       "      <td>0.585383</td>\n",
       "      <td>0.898919</td>\n",
       "    </tr>\n",
       "    <tr>\n",
       "      <th>19</th>\n",
       "      <td>2.087092</td>\n",
       "      <td>1.221008</td>\n",
       "      <td>0.809544</td>\n",
       "      <td>0.585385</td>\n",
       "      <td>0.898919</td>\n",
       "    </tr>\n",
       "  </tbody>\n",
       "</table>\n",
       "</div>"
      ],
      "text/plain": [
       "         mu1       mu2        s1        s2       rho\n",
       "0   2.087092  0.568735  0.809544  0.755158  0.335994\n",
       "1   2.087092  0.873244  0.809544  0.580764  0.660383\n",
       "2   2.087092  1.035801  0.809544  0.551689  0.817495\n",
       "3   2.087092  1.122437  0.809544  0.558864  0.870373\n",
       "4   2.087092  1.168566  0.809544  0.568971  0.887767\n",
       "5   2.087092  1.193114  0.809544  0.576027  0.894075\n",
       "6   2.087092  1.206174  0.809544  0.580235  0.896641\n",
       "7   2.087092  1.213120  0.809544  0.582598  0.897791\n",
       "8   2.087092  1.216815  0.809544  0.583890  0.898342\n",
       "9   2.087092  1.218780  0.809544  0.584587  0.898619\n",
       "10  2.087092  1.219825  0.809544  0.584960  0.898762\n",
       "11  2.087092  1.220381  0.809544  0.585159  0.898836\n",
       "12  2.087092  1.220677  0.809544  0.585265  0.898875\n",
       "13  2.087092  1.220834  0.809544  0.585322  0.898896\n",
       "14  2.087092  1.220917  0.809544  0.585352  0.898907\n",
       "15  2.087092  1.220962  0.809544  0.585368  0.898913\n",
       "16  2.087092  1.220985  0.809544  0.585376  0.898916\n",
       "17  2.087092  1.220998  0.809544  0.585381  0.898918\n",
       "18  2.087092  1.221005  0.809544  0.585383  0.898919\n",
       "19  2.087092  1.221008  0.809544  0.585385  0.898919"
      ]
     },
     "execution_count": 28,
     "metadata": {},
     "output_type": "execute_result"
    }
   ],
   "source": [
    "for step in range(1,20):\n",
    "    # inferring hidden values\n",
    "    samples_censored[20:,1] = newys\n",
    "    #M-step\n",
    "    mu1s.append(mu1(samples_censored))\n",
    "    mu2s.append(mu2(samples_censored))\n",
    "    s1s.append(s1(samples_censored))\n",
    "    s2s.append(s2(samples_censored))\n",
    "    rhos.append(rho(samples_censored))\n",
    "    #E-step\n",
    "    newys=ynew(samples_censored[20:,0], mu1s[step], mu2s[step], s1s[step], s2s[step], rhos[step])\n",
    "df=pd.DataFrame.from_dict(dict(mu1=mu1s, mu2=mu2s, s1=s1s, s2=s2s, rho=rhos))\n",
    "df"
   ]
  },
  {
   "cell_type": "markdown",
   "metadata": {},
   "source": [
    "Voila. We converge to stable values of our parameters.\n",
    "But they may not be the ones we seeded the samples with. The Em algorithm is only good upto finding local minima, and a finite sample size also means that the minimum found can be slightly different."
   ]
  },
  {
   "cell_type": "code",
   "execution_count": 29,
   "metadata": {},
   "outputs": [],
   "source": [
    "estimated_mean = df[['mu1', 'mu2']].iloc[19].values\n",
    "rho = df.rho.iloc[19]\n",
    "s1 = df.rho.iloc[19]\n",
    "s2 = df.rho.iloc[19]\n",
    "estimated_cov = np.array([[s1**2, rho*s1*s2],[rho*s1*s2, s2**2]])"
   ]
  },
  {
   "cell_type": "code",
   "execution_count": 30,
   "metadata": {},
   "outputs": [
    {
     "data": {
      "image/png": "[encoded data removed]",
      "text/plain": [
       "<Figure size 432x288 with 1 Axes>"
      ]
     },
     "metadata": {
      "needs_background": "light"
     },
     "output_type": "display_data"
    }
   ],
   "source": [
    "plt.plot(samples[:,0], samples[:,1], 'o', label='complete data', alpha=0.5)\n",
    "plt.plot(samples_censored[:,0], samples_censored[:,1], 's', label='inferred data', alpha=0.5)\n",
    "plot_gaussian(true_empirical_mean, true_empirical_cov)\n",
    "plot_gaussian(estimated_mean, estimated_cov, linestyles='dashdot')"
   ]
  },
  {
   "cell_type": "markdown",
   "metadata": {},
   "source": [
    "We can see that Gaussian model that we learn using EM algorithm almost match the Gaussian\n",
    "that we can learn if we have complete data."
   ]
  }
 ],
 "metadata": {
  "kernelspec": {
   "display_name": "Python 3",
   "language": "python",
   "name": "python3"
  },
  "language_info": {
   "codemirror_mode": {
    "name": "ipython",
    "version": 3
   },
   "file_extension": ".py",
   "mimetype": "text/x-python",
   "name": "python",
   "nbconvert_exporter": "python",
   "pygments_lexer": "ipython3",
   "version": "3.6.0"
  }
 },
 "nbformat": 4,
 "nbformat_minor": 4
}
