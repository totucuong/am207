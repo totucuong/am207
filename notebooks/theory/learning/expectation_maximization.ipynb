{
 "cells": [
  {
   "cell_type": "code",
   "execution_count": 1,
   "metadata": {},
   "outputs": [
    {
     "name": "stderr",
     "output_type": "stream",
     "text": [
      "/usr/local/lib/python3.6/site-packages/h5py/__init__.py:36: FutureWarning: Conversion of the second argument of issubdtype from `float` to `np.floating` is deprecated. In future, it will be treated as `np.float64 == np.dtype(float).type`.\n",
      "  from ._conv import register_converters as _register_converters\n"
     ]
    }
   ],
   "source": [
    "%matplotlib inline\n",
    "import numpy as np\n",
    "import scipy as sp\n",
    "import matplotlib as mpl\n",
    "import matplotlib.cm as cm\n",
    "import matplotlib.pyplot as plt\n",
    "import pandas as pd\n",
    "pd.set_option('display.width', 500)\n",
    "pd.set_option('display.max_columns', 100)\n",
    "pd.set_option('display.notebook_repr_html', True)\n",
    "import seaborn as sns\n",
    "sns.set_style(\"whitegrid\")\n",
    "sns.set_context(\"poster\")\n",
    "import pymc3 as pm"
   ]
  },
  {
   "cell_type": "markdown",
   "metadata": {},
   "source": [
    "# A toy problem"
   ]
  },
  {
   "cell_type": "code",
   "execution_count": 2,
   "metadata": {},
   "outputs": [
    {
     "data": {
      "text/plain": [
       "(array([1.85, 1.  ]), array([[1.    , 0.615 ],\n",
       "        [0.615 , 0.5625]]))"
      ]
     },
     "execution_count": 2,
     "metadata": {},
     "output_type": "execute_result"
    }
   ],
   "source": [
    "sig1=1\n",
    "sig2=0.75\n",
    "mu1=1.85\n",
    "mu2=1\n",
    "rho=0.82\n",
    "means=np.array([mu1, mu2])\n",
    "cov = np.array([\n",
    "    [sig1**2, sig1*sig2*rho],\n",
    "    [sig2*sig1*rho, sig2**2]\n",
    "])\n",
    "means, cov"
   ]
  },
  {
   "cell_type": "code",
   "execution_count": 4,
   "metadata": {},
   "outputs": [
    {
     "data": {
      "text/plain": [
       "[<matplotlib.lines.Line2D at 0x113feb358>]"
      ]
     },
     "execution_count": 4,
     "metadata": {},
     "output_type": "execute_result"
    },
    {
     "data": {
      "image/png": "[encoded data removed]",
      "text/plain": [
       "<matplotlib.figure.Figure at 0x11596f5c0>"
      ]
     },
     "metadata": {},
     "output_type": "display_data"
    }
   ],
   "source": [
    "samples=np.random.multivariate_normal(means, cov, size=40)\n",
    "samples_censored=np.copy(samples)\n",
    "samples_censored[20:,1]=0\n",
    "plt.plot(samples[:,0], samples[:,1], 'o', alpha=0.8)\n",
    "plt.plot(samples_censored[:,0], samples_censored[:,1], 's', alpha=0.3)"
   ]
  },
  {
   "cell_type": "markdown",
   "metadata": {},
   "source": [
    "If we have all data"
   ]
  },
  {
   "cell_type": "code",
   "execution_count": 5,
   "metadata": {},
   "outputs": [],
   "source": [
    "mu1 = lambda s: np.mean(s[:,0])\n",
    "mu2 = lambda s: np.mean(s[:,1])\n",
    "s1 = lambda s: np.std(s[:,0])\n",
    "s2 = lambda s: np.std(s[:,1])\n",
    "rho = lambda s: np.mean((s[:,0] - mu1(s))*(s[:,1] - mu2(s)))/(s1(s)*s2(s))\n"
   ]
  },
  {
   "cell_type": "markdown",
   "metadata": {},
   "source": [
    "But we don't. So we shall follow an iterative process to find them"
   ]
  },
  {
   "cell_type": "code",
   "execution_count": 6,
   "metadata": {},
   "outputs": [],
   "source": [
    "mu1s=[]\n",
    "mu2s=[]\n",
    "s1s=[]\n",
    "s2s=[]\n",
    "rhos=[]"
   ]
  },
  {
   "cell_type": "markdown",
   "metadata": {},
   "source": [
    "Bur remember our data are missing in the y-direction. Assume 0 and go. Since we are using the MLE of the full-data likelihood, with this assumption we can use the MLE formulae. This is called M-step or maximization step since we used the MLE formulae"
   ]
  },
  {
   "cell_type": "code",
   "execution_count": 7,
   "metadata": {},
   "outputs": [
    {
     "data": {
      "text/plain": [
       "([1.6403623850579812],\n",
       " [0.5131322003279545],\n",
       " [1.1765349423189515],\n",
       " [0.816189319922038],\n",
       " [0.6164216627118341])"
      ]
     },
     "execution_count": 7,
     "metadata": {},
     "output_type": "execute_result"
    }
   ],
   "source": [
    "# sample censored is missing data\n",
    "mu1s.append(mu1(samples_censored))\n",
    "mu2s.append(mu2(samples_censored))\n",
    "s1s.append(s1(samples_censored))\n",
    "s2s.append(s2(samples_censored))\n",
    "rhos.append(rho(samples_censored))\n",
    "mu1s,mu2s,s1s,s2s,rhos"
   ]
  },
  {
   "cell_type": "code",
   "execution_count": 8,
   "metadata": {},
   "outputs": [],
   "source": [
    "def ynew(x, mu1, mu2, s1, s2, rho):\n",
    "    return mu2 + rho*(s2/s1)*(x - mu1)\n",
    "    "
   ]
  },
  {
   "cell_type": "code",
   "execution_count": 9,
   "metadata": {},
   "outputs": [
    {
     "data": {
      "text/plain": [
       "array([ 0.40070124,  1.30851984,  0.08029775,  0.52878136,  0.52316985,\n",
       "        0.28084819, -0.06241081,  0.69740385,  0.09776136,  0.88356468,\n",
       "        0.18736497,  0.83162831,  0.51319074,  0.80688464,  1.48553667,\n",
       "        0.25915373,  0.05167605, -0.06708497,  0.75100444, -0.28273163])"
      ]
     },
     "execution_count": 9,
     "metadata": {},
     "output_type": "execute_result"
    }
   ],
   "source": [
    "newys=ynew(samples_censored[20:,0], mu1s[0], mu2s[0], s1s[0], s2s[0], rhos[0])\n",
    "newys"
   ]
  },
  {
   "cell_type": "code",
   "execution_count": 10,
   "metadata": {},
   "outputs": [
    {
     "data": {
      "text/html": [
       "<div>\n",
       "<style>\n",
       "    .dataframe thead tr:only-child th {\n",
       "        text-align: right;\n",
       "    }\n",
       "\n",
       "    .dataframe thead th {\n",
       "        text-align: left;\n",
       "    }\n",
       "\n",
       "    .dataframe tbody tr th {\n",
       "        vertical-align: top;\n",
       "    }\n",
       "</style>\n",
       "<table border=\"1\" class=\"dataframe\">\n",
       "  <thead>\n",
       "    <tr style=\"text-align: right;\">\n",
       "      <th></th>\n",
       "      <th>mu1</th>\n",
       "      <th>mu2</th>\n",
       "      <th>rho</th>\n",
       "      <th>s1</th>\n",
       "      <th>s2</th>\n",
       "    </tr>\n",
       "  </thead>\n",
       "  <tbody>\n",
       "    <tr>\n",
       "      <th>0</th>\n",
       "      <td>1.640362</td>\n",
       "      <td>0.513132</td>\n",
       "      <td>0.616422</td>\n",
       "      <td>1.176535</td>\n",
       "      <td>0.816189</td>\n",
       "    </tr>\n",
       "    <tr>\n",
       "      <th>1</th>\n",
       "      <td>1.640362</td>\n",
       "      <td>0.745014</td>\n",
       "      <td>0.892833</td>\n",
       "      <td>1.176535</td>\n",
       "      <td>0.763792</td>\n",
       "    </tr>\n",
       "    <tr>\n",
       "      <th>2</th>\n",
       "      <td>1.640362</td>\n",
       "      <td>0.852181</td>\n",
       "      <td>0.944090</td>\n",
       "      <td>1.176535</td>\n",
       "      <td>0.787074</td>\n",
       "    </tr>\n",
       "    <tr>\n",
       "      <th>3</th>\n",
       "      <td>1.640362</td>\n",
       "      <td>0.902765</td>\n",
       "      <td>0.953743</td>\n",
       "      <td>1.176535</td>\n",
       "      <td>0.799584</td>\n",
       "    </tr>\n",
       "    <tr>\n",
       "      <th>4</th>\n",
       "      <td>1.640362</td>\n",
       "      <td>0.927099</td>\n",
       "      <td>0.955798</td>\n",
       "      <td>1.176535</td>\n",
       "      <td>0.803552</td>\n",
       "    </tr>\n",
       "    <tr>\n",
       "      <th>5</th>\n",
       "      <td>1.640362</td>\n",
       "      <td>0.939000</td>\n",
       "      <td>0.956229</td>\n",
       "      <td>1.176535</td>\n",
       "      <td>0.804246</td>\n",
       "    </tr>\n",
       "    <tr>\n",
       "      <th>6</th>\n",
       "      <td>1.640362</td>\n",
       "      <td>0.944900</td>\n",
       "      <td>0.956288</td>\n",
       "      <td>1.176535</td>\n",
       "      <td>0.804014</td>\n",
       "    </tr>\n",
       "    <tr>\n",
       "      <th>7</th>\n",
       "      <td>1.640362</td>\n",
       "      <td>0.947859</td>\n",
       "      <td>0.956270</td>\n",
       "      <td>1.176535</td>\n",
       "      <td>0.803653</td>\n",
       "    </tr>\n",
       "    <tr>\n",
       "      <th>8</th>\n",
       "      <td>1.640362</td>\n",
       "      <td>0.949356</td>\n",
       "      <td>0.956244</td>\n",
       "      <td>1.176535</td>\n",
       "      <td>0.803371</td>\n",
       "    </tr>\n",
       "    <tr>\n",
       "      <th>9</th>\n",
       "      <td>1.640362</td>\n",
       "      <td>0.950119</td>\n",
       "      <td>0.956225</td>\n",
       "      <td>1.176535</td>\n",
       "      <td>0.803186</td>\n",
       "    </tr>\n",
       "    <tr>\n",
       "      <th>10</th>\n",
       "      <td>1.640362</td>\n",
       "      <td>0.950510</td>\n",
       "      <td>0.956213</td>\n",
       "      <td>1.176535</td>\n",
       "      <td>0.803076</td>\n",
       "    </tr>\n",
       "    <tr>\n",
       "      <th>11</th>\n",
       "      <td>1.640362</td>\n",
       "      <td>0.950711</td>\n",
       "      <td>0.956206</td>\n",
       "      <td>1.176535</td>\n",
       "      <td>0.803013</td>\n",
       "    </tr>\n",
       "    <tr>\n",
       "      <th>12</th>\n",
       "      <td>1.640362</td>\n",
       "      <td>0.950814</td>\n",
       "      <td>0.956202</td>\n",
       "      <td>1.176535</td>\n",
       "      <td>0.802978</td>\n",
       "    </tr>\n",
       "    <tr>\n",
       "      <th>13</th>\n",
       "      <td>1.640362</td>\n",
       "      <td>0.950868</td>\n",
       "      <td>0.956200</td>\n",
       "      <td>1.176535</td>\n",
       "      <td>0.802959</td>\n",
       "    </tr>\n",
       "    <tr>\n",
       "      <th>14</th>\n",
       "      <td>1.640362</td>\n",
       "      <td>0.950896</td>\n",
       "      <td>0.956199</td>\n",
       "      <td>1.176535</td>\n",
       "      <td>0.802949</td>\n",
       "    </tr>\n",
       "    <tr>\n",
       "      <th>15</th>\n",
       "      <td>1.640362</td>\n",
       "      <td>0.950910</td>\n",
       "      <td>0.956198</td>\n",
       "      <td>1.176535</td>\n",
       "      <td>0.802943</td>\n",
       "    </tr>\n",
       "    <tr>\n",
       "      <th>16</th>\n",
       "      <td>1.640362</td>\n",
       "      <td>0.950918</td>\n",
       "      <td>0.956198</td>\n",
       "      <td>1.176535</td>\n",
       "      <td>0.802940</td>\n",
       "    </tr>\n",
       "    <tr>\n",
       "      <th>17</th>\n",
       "      <td>1.640362</td>\n",
       "      <td>0.950922</td>\n",
       "      <td>0.956198</td>\n",
       "      <td>1.176535</td>\n",
       "      <td>0.802939</td>\n",
       "    </tr>\n",
       "    <tr>\n",
       "      <th>18</th>\n",
       "      <td>1.640362</td>\n",
       "      <td>0.950924</td>\n",
       "      <td>0.956198</td>\n",
       "      <td>1.176535</td>\n",
       "      <td>0.802938</td>\n",
       "    </tr>\n",
       "    <tr>\n",
       "      <th>19</th>\n",
       "      <td>1.640362</td>\n",
       "      <td>0.950925</td>\n",
       "      <td>0.956197</td>\n",
       "      <td>1.176535</td>\n",
       "      <td>0.802938</td>\n",
       "    </tr>\n",
       "  </tbody>\n",
       "</table>\n",
       "</div>"
      ],
      "text/plain": [
       "         mu1       mu2       rho        s1        s2\n",
       "0   1.640362  0.513132  0.616422  1.176535  0.816189\n",
       "1   1.640362  0.745014  0.892833  1.176535  0.763792\n",
       "2   1.640362  0.852181  0.944090  1.176535  0.787074\n",
       "3   1.640362  0.902765  0.953743  1.176535  0.799584\n",
       "4   1.640362  0.927099  0.955798  1.176535  0.803552\n",
       "5   1.640362  0.939000  0.956229  1.176535  0.804246\n",
       "6   1.640362  0.944900  0.956288  1.176535  0.804014\n",
       "7   1.640362  0.947859  0.956270  1.176535  0.803653\n",
       "8   1.640362  0.949356  0.956244  1.176535  0.803371\n",
       "9   1.640362  0.950119  0.956225  1.176535  0.803186\n",
       "10  1.640362  0.950510  0.956213  1.176535  0.803076\n",
       "11  1.640362  0.950711  0.956206  1.176535  0.803013\n",
       "12  1.640362  0.950814  0.956202  1.176535  0.802978\n",
       "13  1.640362  0.950868  0.956200  1.176535  0.802959\n",
       "14  1.640362  0.950896  0.956199  1.176535  0.802949\n",
       "15  1.640362  0.950910  0.956198  1.176535  0.802943\n",
       "16  1.640362  0.950918  0.956198  1.176535  0.802940\n",
       "17  1.640362  0.950922  0.956198  1.176535  0.802939\n",
       "18  1.640362  0.950924  0.956198  1.176535  0.802938\n",
       "19  1.640362  0.950925  0.956197  1.176535  0.802938"
      ]
     },
     "execution_count": 10,
     "metadata": {},
     "output_type": "execute_result"
    }
   ],
   "source": [
    "for step in range(1,20):\n",
    "    samples_censored[20:,1] = newys\n",
    "    #M-step\n",
    "    mu1s.append(mu1(samples_censored))\n",
    "    mu2s.append(mu2(samples_censored))\n",
    "    s1s.append(s1(samples_censored))\n",
    "    s2s.append(s2(samples_censored))\n",
    "    rhos.append(rho(samples_censored))\n",
    "    #E-step\n",
    "    newys=ynew(samples_censored[20:,0], mu1s[step], mu2s[step], s1s[step], s2s[step], rhos[step])\n",
    "df=pd.DataFrame.from_dict(dict(mu1=mu1s, mu2=mu2s, s1=s1s, s2=s2s, rho=rhos))\n",
    "df"
   ]
  },
  {
   "cell_type": "markdown",
   "metadata": {},
   "source": [
    "Voila. We converge to stable values of our parameters.\n",
    "But they may not be the ones we seeded the samples with. The Em algorithm is only good upto finding local minima, and a finite sample size also means that the minimum found can be slightly different."
   ]
  },
  {
   "cell_type": "code",
   "execution_count": null,
   "metadata": {},
   "outputs": [],
   "source": []
  }
 ],
 "metadata": {
  "kernelspec": {
   "display_name": "Python 3",
   "language": "python",
   "name": "python3"
  },
  "language_info": {
   "codemirror_mode": {
    "name": "ipython",
    "version": 3
   },
   "file_extension": ".py",
   "mimetype": "text/x-python",
   "name": "python",
   "nbconvert_exporter": "python",
   "pygments_lexer": "ipython3",
   "version": "3.6.3"
  }
 },
 "nbformat": 4,
 "nbformat_minor": 2
}
