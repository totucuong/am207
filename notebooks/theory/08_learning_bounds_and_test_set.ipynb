{
 "cells": [
  {
   "cell_type": "code",
   "execution_count": 10,
   "metadata": {},
   "outputs": [],
   "source": [
    "import matplotlib.pyplot as plt\n",
    "import pandas as pd\n",
    "import numpy as np\n",
    "import seaborn as sns\n",
    "%matplotlib inline\n",
    "plt.rcParams['figure.figsize'] = (12,8)\n",
    "plt.rcParams['legend.fontsize'] = 'large'\n",
    "\n",
    "def make_plot():\n",
    "    fig, axes = plt.subplots(1,2)\n",
    "    return axes"
   ]
  },
  {
   "cell_type": "code",
   "execution_count": 11,
   "metadata": {},
   "outputs": [
    {
     "data": {
      "text/html": [
       "<div>\n",
       "<style scoped>\n",
       "    .dataframe tbody tr th:only-of-type {\n",
       "        vertical-align: middle;\n",
       "    }\n",
       "\n",
       "    .dataframe tbody tr th {\n",
       "        vertical-align: top;\n",
       "    }\n",
       "\n",
       "    .dataframe thead th {\n",
       "        text-align: right;\n",
       "    }\n",
       "</style>\n",
       "<table border=\"1\" class=\"dataframe\">\n",
       "  <thead>\n",
       "    <tr style=\"text-align: right;\">\n",
       "      <th></th>\n",
       "      <th>promney</th>\n",
       "      <th>rfrac</th>\n",
       "    </tr>\n",
       "  </thead>\n",
       "  <tbody>\n",
       "    <tr>\n",
       "      <th>0</th>\n",
       "      <td>0.047790</td>\n",
       "      <td>0.00</td>\n",
       "    </tr>\n",
       "    <tr>\n",
       "      <th>1</th>\n",
       "      <td>0.051199</td>\n",
       "      <td>0.01</td>\n",
       "    </tr>\n",
       "    <tr>\n",
       "      <th>2</th>\n",
       "      <td>0.054799</td>\n",
       "      <td>0.02</td>\n",
       "    </tr>\n",
       "    <tr>\n",
       "      <th>3</th>\n",
       "      <td>0.058596</td>\n",
       "      <td>0.03</td>\n",
       "    </tr>\n",
       "    <tr>\n",
       "      <th>4</th>\n",
       "      <td>0.062597</td>\n",
       "      <td>0.04</td>\n",
       "    </tr>\n",
       "  </tbody>\n",
       "</table>\n",
       "</div>"
      ],
      "text/plain": [
       "    promney  rfrac\n",
       "0  0.047790   0.00\n",
       "1  0.051199   0.01\n",
       "2  0.054799   0.02\n",
       "3  0.058596   0.03\n",
       "4  0.062597   0.04"
      ]
     },
     "execution_count": 11,
     "metadata": {},
     "output_type": "execute_result"
    }
   ],
   "source": [
    "dffull = pd.read_csv('../data/religion.csv')\n",
    "dffull.head()"
   ]
  },
  {
   "cell_type": "code",
   "execution_count": 12,
   "metadata": {},
   "outputs": [
    {
     "data": {
      "text/plain": [
       "[<matplotlib.lines.Line2D at 0x11f4bf5c0>]"
      ]
     },
     "execution_count": 12,
     "metadata": {},
     "output_type": "execute_result"
    },
    {
     "data": {
      "image/png": "[encoded data removed]",
      "text/plain": [
       "<Figure size 864x576 with 1 Axes>"
      ]
     },
     "metadata": {
      "needs_background": "light"
     },
     "output_type": "display_data"
    }
   ],
   "source": [
    "x = dffull.rfrac.values\n",
    "f = dffull.promney.values\n",
    "plt.plot(x,f,'.', alpha=0.3)"
   ]
  },
  {
   "cell_type": "code",
   "execution_count": 13,
   "metadata": {},
   "outputs": [
    {
     "data": {
      "text/html": [
       "<div>\n",
       "<style scoped>\n",
       "    .dataframe tbody tr th:only-of-type {\n",
       "        vertical-align: middle;\n",
       "    }\n",
       "\n",
       "    .dataframe tbody tr th {\n",
       "        vertical-align: top;\n",
       "    }\n",
       "\n",
       "    .dataframe thead th {\n",
       "        text-align: right;\n",
       "    }\n",
       "</style>\n",
       "<table border=\"1\" class=\"dataframe\">\n",
       "  <thead>\n",
       "    <tr style=\"text-align: right;\">\n",
       "      <th></th>\n",
       "      <th>x</th>\n",
       "      <th>f</th>\n",
       "      <th>y</th>\n",
       "      <th>i</th>\n",
       "    </tr>\n",
       "  </thead>\n",
       "  <tbody>\n",
       "    <tr>\n",
       "      <th>0</th>\n",
       "      <td>0.04</td>\n",
       "      <td>0.062597</td>\n",
       "      <td>0.036211</td>\n",
       "      <td>4</td>\n",
       "    </tr>\n",
       "    <tr>\n",
       "      <th>1</th>\n",
       "      <td>0.11</td>\n",
       "      <td>0.096800</td>\n",
       "      <td>0.194625</td>\n",
       "      <td>11</td>\n",
       "    </tr>\n",
       "    <tr>\n",
       "      <th>2</th>\n",
       "      <td>0.16</td>\n",
       "      <td>0.128537</td>\n",
       "      <td>0.072212</td>\n",
       "      <td>16</td>\n",
       "    </tr>\n",
       "    <tr>\n",
       "      <th>3</th>\n",
       "      <td>0.18</td>\n",
       "      <td>0.143061</td>\n",
       "      <td>0.109693</td>\n",
       "      <td>18</td>\n",
       "    </tr>\n",
       "    <tr>\n",
       "      <th>4</th>\n",
       "      <td>0.27</td>\n",
       "      <td>0.221640</td>\n",
       "      <td>0.413717</td>\n",
       "      <td>27</td>\n",
       "    </tr>\n",
       "  </tbody>\n",
       "</table>\n",
       "</div>"
      ],
      "text/plain": [
       "      x         f         y   i\n",
       "0  0.04  0.062597  0.036211   4\n",
       "1  0.11  0.096800  0.194625  11\n",
       "2  0.16  0.128537  0.072212  16\n",
       "3  0.18  0.143061  0.109693  18\n",
       "4  0.27  0.221640  0.413717  27"
      ]
     },
     "execution_count": 13,
     "metadata": {},
     "output_type": "execute_result"
    }
   ],
   "source": [
    "df = pd.read_csv('../data/noisysample.csv')\n",
    "df.head()"
   ]
  },
  {
   "cell_type": "code",
   "execution_count": 14,
   "metadata": {},
   "outputs": [
    {
     "data": {
      "image/png": "[encoded data removed]",
      "text/plain": [
       "<Figure size 864x576 with 2 Axes>"
      ]
     },
     "metadata": {
      "needs_background": "light"
     },
     "output_type": "display_data"
    }
   ],
   "source": [
    "fig, axes = plt.subplots(1,2)\n",
    "axes[0].plot(x,f, 'k-', alpha=0.4, label=\"f (from the Lord)\");\n",
    "axes[0].plot(x,f, 'r.', alpha=0.2, label=\"population\");\n",
    "axes[1].plot(df.x,df.f, 'o', alpha=0.6, label=\"in-sample noiseless data $\\cal{D}$\");\n",
    "axes[1].plot(df.x,df.y, 's', alpha=0.6, label=\"in-sample noisy data $\\cal{D}$\");\n",
    "axes[0].legend(loc=4);\n",
    "axes[1].legend(loc=4);"
   ]
  },
  {
   "cell_type": "markdown",
   "metadata": {},
   "source": [
    "# Testing and Training Sets\n",
    "\n",
    "The process of learning has two part\n",
    "- fit the model by minimizing the in-sample risk\n",
    "- hope that the in-sample risk approximiates the out-of-sample risk well\n",
    "\n",
    "Since we do not have access to the out-of-sample data, we instead do the following keep a separate data set called test-set and compute the risk on this dataset, and consider this as out-of-sample risk.\n",
    "\n",
    "Some terminology:\n",
    "\n",
    "1. The **training set**, which is part of the data we use to fit a model\n",
    "2. The **testing set**, a smaller part of the data set which we use to see how good our fit was.\n",
    "\n",
    "The splitting is done by randomly sample out data set. Typically we resever 80% of data set for the training set. We can use `train_test_split` function from `sklearn.cross_validation`.\n",
    "\n",
    "![train/test](../gfx/train-test.png)\n",
    "\n",
    "Thus we are **using the training set as our in-sample set, and test set as a proxy for out-of-sample.**\n"
   ]
  },
  {
   "cell_type": "code",
   "execution_count": 15,
   "metadata": {},
   "outputs": [],
   "source": [
    "from sklearn.model_selection import train_test_split\n",
    "datasize = df.shape[0]\n",
    "\n",
    "# split dataset\n",
    "itrain, itest = train_test_split(range(30), train_size=24, test_size = 6)\n",
    "xtrain = df.x[itrain].values\n",
    "ftrain = df.f[itrain].values\n",
    "ytrain = df.y[itrain].values\n",
    "xtest = df.x[itest].values\n",
    "ftest = df.f[itest].values\n",
    "ytest = df.y[itest].values"
   ]
  },
  {
   "cell_type": "code",
   "execution_count": 16,
   "metadata": {},
   "outputs": [
    {
     "data": {
      "text/plain": [
       "<matplotlib.legend.Legend at 0x11faad588>"
      ]
     },
     "execution_count": 16,
     "metadata": {},
     "output_type": "execute_result"
    },
    {
     "data": {
      "image/png": "[encoded data removed]",
      "text/plain": [
       "<Figure size 864x576 with 2 Axes>"
      ]
     },
     "metadata": {
      "needs_background": "light"
     },
     "output_type": "display_data"
    }
   ],
   "source": [
    "axes = make_plot()\n",
    "axes[0].plot(df.x,df.f, 'k-', alpha=0.6, label=\"f (from the Lord)\");\n",
    "axes[0].plot(df.x,df.y, 'o',alpha=0.6, label=\"$\\cal{D}$\");\n",
    "axes[1].plot(df.x,df.f, 'k-', alpha=0.6, label=\"f (from the Lord)\");\n",
    "axes[1].plot(xtrain, ytrain, 's', label=\"training\")\n",
    "axes[1].plot(xtest, ytest, 's', label=\"testing\")\n",
    "axes[0].legend(loc=\"lower right\")\n",
    "axes[1].legend(loc=\"lower right\")"
   ]
  },
  {
   "cell_type": "markdown",
   "metadata": {},
   "source": [
    "# Data Transformations\n",
    "\n",
    "Some times we want to transform a features into a set of features. For example $$x \\rightarrow 1, x, x^2, \\dots, x^d.$$\n",
    "\n",
    "For a set of data, the schema of this transformation will be\n",
    "\n",
    "![feature transformation](../gfx/sklearntrans.jpg)"
   ]
  },
  {
   "cell_type": "code",
   "execution_count": 17,
   "metadata": {},
   "outputs": [
    {
     "data": {
      "text/plain": [
       "array([[ 1.,  1.,  1.,  1.],\n",
       "       [ 1.,  2.,  4.,  8.],\n",
       "       [ 1.,  3.,  9., 27.]])"
      ]
     },
     "execution_count": 17,
     "metadata": {},
     "output_type": "execute_result"
    }
   ],
   "source": [
    "from sklearn.preprocessing import PolynomialFeatures\n",
    "PolynomialFeatures(3).fit_transform([[1], [2], [3]])"
   ]
  },
  {
   "cell_type": "markdown",
   "metadata": {},
   "source": [
    "We are using `[[1], [2], [3]]` instead of `[1,2,3]` because scikit-learn expect a matrix [n_samples, n_features]"
   ]
  },
  {
   "cell_type": "code",
   "execution_count": 18,
   "metadata": {},
   "outputs": [
    {
     "data": {
      "text/plain": [
       "(3, 1)"
      ]
     },
     "execution_count": 18,
     "metadata": {},
     "output_type": "execute_result"
    }
   ],
   "source": [
    "data = np.array([1,2,3]).reshape(-1,1)\n",
    "data.shape"
   ]
  },
  {
   "cell_type": "code",
   "execution_count": 19,
   "metadata": {},
   "outputs": [
    {
     "data": {
      "text/plain": [
       "array([[1],\n",
       "       [2],\n",
       "       [3]])"
      ]
     },
     "execution_count": 19,
     "metadata": {},
     "output_type": "execute_result"
    }
   ],
   "source": [
    "data"
   ]
  },
  {
   "cell_type": "code",
   "execution_count": 20,
   "metadata": {},
   "outputs": [
    {
     "data": {
      "text/plain": [
       "array([0.29      , 0.7290476 , 0.87      , 0.49      , 0.43      ,\n",
       "       0.04      , 0.53      , 0.81318007, 0.82      , 0.7902686 ,\n",
       "       0.63793494, 0.78965524, 0.93      , 0.28      , 0.52660826,\n",
       "       0.18      , 0.69999115, 0.27      , 0.64      , 0.98      ,\n",
       "       0.34      , 0.11      , 0.39      , 0.34471571])"
      ]
     },
     "execution_count": 20,
     "metadata": {},
     "output_type": "execute_result"
    }
   ],
   "source": [
    "xtrain"
   ]
  },
  {
   "cell_type": "code",
   "execution_count": 21,
   "metadata": {},
   "outputs": [
    {
     "data": {
      "text/plain": [
       "array([[0.29      ],\n",
       "       [0.7290476 ],\n",
       "       [0.87      ],\n",
       "       [0.49      ],\n",
       "       [0.43      ],\n",
       "       [0.04      ],\n",
       "       [0.53      ],\n",
       "       [0.81318007],\n",
       "       [0.82      ],\n",
       "       [0.7902686 ],\n",
       "       [0.63793494],\n",
       "       [0.78965524],\n",
       "       [0.93      ],\n",
       "       [0.28      ],\n",
       "       [0.52660826],\n",
       "       [0.18      ],\n",
       "       [0.69999115],\n",
       "       [0.27      ],\n",
       "       [0.64      ],\n",
       "       [0.98      ],\n",
       "       [0.34      ],\n",
       "       [0.11      ],\n",
       "       [0.39      ],\n",
       "       [0.34471571]])"
      ]
     },
     "execution_count": 21,
     "metadata": {},
     "output_type": "execute_result"
    }
   ],
   "source": [
    "xtrain.reshape(-1,1)"
   ]
  },
  {
   "cell_type": "code",
   "execution_count": 22,
   "metadata": {},
   "outputs": [
    {
     "data": {
      "text/plain": [
       "array([[1.        , 0.29      , 0.0841    ],\n",
       "       [1.        , 0.7290476 , 0.53151041],\n",
       "       [1.        , 0.87      , 0.7569    ],\n",
       "       [1.        , 0.49      , 0.2401    ],\n",
       "       [1.        , 0.43      , 0.1849    ],\n",
       "       [1.        , 0.04      , 0.0016    ],\n",
       "       [1.        , 0.53      , 0.2809    ],\n",
       "       [1.        , 0.81318007, 0.66126183],\n",
       "       [1.        , 0.82      , 0.6724    ],\n",
       "       [1.        , 0.7902686 , 0.62452446],\n",
       "       [1.        , 0.63793494, 0.40696098],\n",
       "       [1.        , 0.78965524, 0.62355539],\n",
       "       [1.        , 0.93      , 0.8649    ],\n",
       "       [1.        , 0.28      , 0.0784    ],\n",
       "       [1.        , 0.52660826, 0.27731626],\n",
       "       [1.        , 0.18      , 0.0324    ],\n",
       "       [1.        , 0.69999115, 0.48998761],\n",
       "       [1.        , 0.27      , 0.0729    ],\n",
       "       [1.        , 0.64      , 0.4096    ],\n",
       "       [1.        , 0.98      , 0.9604    ],\n",
       "       [1.        , 0.34      , 0.1156    ],\n",
       "       [1.        , 0.11      , 0.0121    ],\n",
       "       [1.        , 0.39      , 0.1521    ],\n",
       "       [1.        , 0.34471571, 0.11882892]])"
      ]
     },
     "execution_count": 22,
     "metadata": {},
     "output_type": "execute_result"
    }
   ],
   "source": [
    "PolynomialFeatures(2).fit_transform(xtrain.reshape(-1,1))"
   ]
  },
  {
   "cell_type": "markdown",
   "metadata": {},
   "source": [
    "# Fitting in sklearn\n",
    "\n",
    "`scikit-learn` learning algorithms are organized as `estimator` objects. and you fit data using the following syntax\n",
    "\n",
    "`estimator.fit(Xtrain,ytrain)`\n",
    "\n",
    "The training set and test set must be organized as follows.\n",
    "\n",
    "![data organization](../gfx/sklearn2.jpg)"
   ]
  },
  {
   "cell_type": "markdown",
   "metadata": {},
   "source": [
    "Once you fit the estimator using Xtrain, we peform prediction on Xtest\n",
    "`estimator.predict(Xtest)`\n",
    "\n",
    "Let's put our knowledge in work. We create a set of data set,each for a degree."
   ]
  },
  {
   "cell_type": "code",
   "execution_count": 23,
   "metadata": {},
   "outputs": [],
   "source": [
    "def make_features(train_set, test_set, degrees):\n",
    "    traintestlist=[]\n",
    "    for d in degrees:\n",
    "        traintestdict={}\n",
    "        traintestdict['train'] = PolynomialFeatures(d).fit_transform(train_set.reshape(-1,1))\n",
    "        traintestdict['test'] = PolynomialFeatures(d).fit_transform(test_set.reshape(-1,1))\n",
    "        traintestlist.append(traintestdict)\n",
    "    return traintestlist"
   ]
  },
  {
   "cell_type": "markdown",
   "metadata": {},
   "source": [
    "# How do training and testing error change with complexity?\n",
    "\n",
    "We use `LinearRegression` and `mean_squared_error` to compare between models and select the best model."
   ]
  },
  {
   "cell_type": "code",
   "execution_count": 24,
   "metadata": {},
   "outputs": [],
   "source": [
    "from sklearn.linear_model import LinearRegression\n",
    "from sklearn.metrics import mean_squared_error"
   ]
  },
  {
   "cell_type": "code",
   "execution_count": 25,
   "metadata": {},
   "outputs": [],
   "source": [
    "degrees = range(21)\n",
    "error_train = np.empty(len(degrees))\n",
    "error_test = np.empty(len(degrees))"
   ]
  },
  {
   "cell_type": "code",
   "execution_count": 26,
   "metadata": {},
   "outputs": [],
   "source": [
    "traintestlists = make_features(xtrain, xtest, degrees)"
   ]
  },
  {
   "cell_type": "markdown",
   "metadata": {},
   "source": [
    "## Estimating the out-of-sample error\n",
    "\n",
    "Fitting a polynomial of degree 3 on train data"
   ]
  },
  {
   "cell_type": "code",
   "execution_count": 27,
   "metadata": {},
   "outputs": [],
   "source": [
    "est3 = LinearRegression()\n",
    "est3.fit(traintestlists[3]['train'], ytrain)\n",
    "pred_on_train3 = est3.predict(traintestlists[3]['train'])\n",
    "pred_on_test3 = est3.predict(traintestlists[3]['test'])"
   ]
  },
  {
   "cell_type": "code",
   "execution_count": 28,
   "metadata": {},
   "outputs": [
    {
     "name": "stdout",
     "output_type": "stream",
     "text": [
      "errtrain 0.009291813670585085\n",
      "errtest 0.01872892199654216\n"
     ]
    }
   ],
   "source": [
    "print(\"errtrain\",mean_squared_error(ytrain, pred_on_train3))\n",
    "print(\"errtest\",mean_squared_error(ytest, pred_on_test3))"
   ]
  },
  {
   "cell_type": "markdown",
   "metadata": {},
   "source": [
    "Fitting a polynomial of degree 19 on train data"
   ]
  },
  {
   "cell_type": "code",
   "execution_count": 29,
   "metadata": {},
   "outputs": [],
   "source": [
    "est19 = LinearRegression()\n",
    "est19.fit(traintestlists[19]['train'], ytrain)\n",
    "pred_on_train19 = est19.predict(traintestlists[19]['train'])\n",
    "pred_on_test19 = est19.predict(traintestlists[19]['test'])"
   ]
  },
  {
   "cell_type": "code",
   "execution_count": 30,
   "metadata": {},
   "outputs": [
    {
     "name": "stdout",
     "output_type": "stream",
     "text": [
      "errtrain 0.00066117795009864\n",
      "errtest 563.0579361154865\n"
     ]
    }
   ],
   "source": [
    "print(\"errtrain\",mean_squared_error(ytrain, pred_on_train19))\n",
    "print(\"errtest\",mean_squared_error(ytest, pred_on_test19))"
   ]
  },
  {
   "cell_type": "markdown",
   "metadata": {},
   "source": [
    "We can see that the errtest is very large for the polynomial of degree 19. This is **overfitting**"
   ]
  },
  {
   "cell_type": "code",
   "execution_count": 31,
   "metadata": {},
   "outputs": [],
   "source": [
    "for d in degrees:\n",
    "    Xtrain = traintestlists[d]['train']\n",
    "    Xtest = traintestlists[d]['test']\n",
    "    est = LinearRegression()\n",
    "    est.fit(Xtrain, ytrain)\n",
    "    prediction_on_training = est.predict(Xtrain)\n",
    "    prediction_on_test = est.predict(Xtest)\n",
    "    error_train[d] = mean_squared_error(prediction_on_training, ytrain)\n",
    "    error_test[d] = mean_squared_error(prediction_on_test, ytest)"
   ]
  },
  {
   "cell_type": "code",
   "execution_count": 32,
   "metadata": {},
   "outputs": [
    {
     "data": {
      "text/plain": [
       "<matplotlib.legend.Legend at 0x120219208>"
      ]
     },
     "execution_count": 32,
     "metadata": {},
     "output_type": "execute_result"
    },
    {
     "data": {
      "image/png": "[encoded data removed]",
      "text/plain": [
       "<Figure size 864x576 with 1 Axes>"
      ]
     },
     "metadata": {
      "needs_background": "light"
     },
     "output_type": "display_data"
    }
   ],
   "source": [
    "plt.plot(degrees, error_train, marker='o', label='train (in-sample)')\n",
    "plt.plot(degrees, error_test, marker='o', label='test')\n",
    "plt.axvline(np.argmin(error_test), 0,0.5, color='r', lw=3,label=\"min test error at d=%d\"%np.argmin(error_test), alpha=0.3)\n",
    "plt.yscale('log')\n",
    "plt.legend(loc=2)"
   ]
  },
  {
   "cell_type": "markdown",
   "metadata": {},
   "source": [
    "The idea is to pick a model that minimize the error on test set as illustrated in \n",
    "\n",
    "![model validation](../gfx/complexity-error-plot.png)"
   ]
  },
  {
   "cell_type": "markdown",
   "metadata": {},
   "source": [
    "# Is this a test set?\n",
    "\n",
    "How do put a error bar on our estimate? The answer is we should perform random sampling.\n",
    "\n",
    "Another note is that, we visually fit the best value of degree d using the error plot. We have contaminated our test set beacuse we use it in the learning process (learning which degreee is the best). Hence it is not a test set anymore. The solution is to have another data set callled validation set."
   ]
  },
  {
   "cell_type": "markdown",
   "metadata": {},
   "source": [
    "# Learning from finite sized samples\n",
    "\n",
    "This is from statistical learning theory. The writing is not clear. Need to be rewritten.\n",
    "\n",
    "It is written in Chapter 6 Murphy\n",
    "\n",
    "    We can use Hoeffding's inequality to understand how our sample quantities differ from the population ones.\n",
    "\n",
    "    Hoeffding's inequality applies to the situation where we have a population of binary random variables with fraction $\\mu$ of things of one type (heads vs tails, red vs green). We do not have acces to this population, but rather, to a sample drawn with replacement from this population, where the fraction is $\\nu$\n",
    "\n",
    "    Then (where the probability can be thought of as amongs many samples):\n",
    "    $$P(|\\nu - \\mu| > \\epsilon) \\leq 2e^{-2\\epsilon^2N} $$\n",
    "\n",
    "    In the context of learning a hypothesis h, if we identify heads(1) with $h(x_i) \\neq f(x_i)$ at sample $x_i$, and tails(0) otherwise. Then $\\mu$ is the error rate in the population, while $\\nu$ is the same for the sample. It can be shown that the same hold for risk values:\n",
    "\n",
    "    $$P(R_{in}(h) - R_{out}(h) > \\epsilon) \\leq 2e^{-2\\epsilon^2N}$$"
   ]
  },
  {
   "cell_type": "code",
   "execution_count": null,
   "metadata": {},
   "outputs": [],
   "source": []
  }
 ],
 "metadata": {
  "kernelspec": {
   "display_name": "Python 3",
   "language": "python",
   "name": "python3"
  },
  "language_info": {
   "codemirror_mode": {
    "name": "ipython",
    "version": 3
   },
   "file_extension": ".py",
   "mimetype": "text/x-python",
   "name": "python",
   "nbconvert_exporter": "python",
   "pygments_lexer": "ipython3",
   "version": "3.6.8"
  }
 },
 "nbformat": 4,
 "nbformat_minor": 2
}
