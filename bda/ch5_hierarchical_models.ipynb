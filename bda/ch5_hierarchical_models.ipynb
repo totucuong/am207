{
 "cells": [
  {
   "cell_type": "code",
   "execution_count": 1,
   "metadata": {},
   "outputs": [],
   "source": [
    "%matplotlib inline\n",
    "import matplotlib.pyplot as plt\n",
    "import pandas as pd\n",
    "import scipy \n",
    "import numpy as np\n",
    "import seaborn as sns"
   ]
  },
  {
   "cell_type": "markdown",
   "metadata": {},
   "source": [
    "**Exchangability** for random sampling divorce rate of 8 states.\n",
    "\n",
    "We may model the divoice rate $y_i $for each state $i$ using a Beta information $y_i \\sim Beta(\\alpha, \\beta)$.\n",
    "\n",
    "Then when we selects randomly 8 states and record their divorce rates. The joint distributions of these rates is $$p(y_1,\\ldots,y_8) = \\prod_{i=1}^{8}p(y_i|\n",
    "\\alpha, \\beta)$$\n",
    "\n",
    "Now we samples 7 states from these 8 and have the rates as [5.8, 6.6, 7.8, 5.6, 7.0, 7.1, 5.4]. A reasonable posterior predictive distribution for $y_8$ would be centered around the mean of these numbers."
   ]
  },
  {
   "cell_type": "code",
   "execution_count": 3,
   "metadata": {},
   "outputs": [
    {
     "data": {
      "text/plain": [
       "6.471428571428571"
      ]
     },
     "execution_count": 3,
     "metadata": {},
     "output_type": "execute_result"
    }
   ],
   "source": [
    "np.mean([5.8, 6.6, 7.8, 5.6, 7.0, 7.1, 5.4])"
   ]
  },
  {
   "cell_type": "code",
   "execution_count": null,
   "metadata": {},
   "outputs": [],
   "source": []
  }
 ],
 "metadata": {
  "kernelspec": {
   "display_name": "Python 3",
   "language": "python",
   "name": "python3"
  },
  "language_info": {
   "codemirror_mode": {
    "name": "ipython",
    "version": 3
   },
   "file_extension": ".py",
   "mimetype": "text/x-python",
   "name": "python",
   "nbconvert_exporter": "python",
   "pygments_lexer": "ipython3",
   "version": "3.6.3"
  }
 },
 "nbformat": 4,
 "nbformat_minor": 2
}
